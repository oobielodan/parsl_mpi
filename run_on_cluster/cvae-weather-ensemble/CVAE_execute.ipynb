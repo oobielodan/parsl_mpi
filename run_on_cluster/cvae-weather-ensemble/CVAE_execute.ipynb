{
 "cells": [
  {
   "cell_type": "markdown",
   "id": "6a214077-b9ad-46a1-a8b0-6a294892dad4",
   "metadata": {},
   "source": [
    "# **Execute Demo using CVAE on CORE2 data**"
   ]
  },
  {
   "cell_type": "code",
   "execution_count": null,
   "id": "07d603f6-c1d5-463e-ba09-54d55a502ca5",
   "metadata": {
    "tags": []
   },
   "outputs": [],
   "source": [
    "import papermill as pm"
   ]
  },
  {
   "cell_type": "code",
   "execution_count": null,
   "id": "60eaa5e8-75e1-40b3-8a2e-bf660e045ab0",
   "metadata": {
    "tags": []
   },
   "outputs": [],
   "source": [
    "# parameters\n",
    "years = [\"2018\"]#, \"2019\", \"2020\"]\n",
    "months = [\"02\"]#, \"02\"] \n",
    "days = [\"01\"]#, \"02\"] # forecasts are 10 days long, so (01, 10, 20) provides converage of whole year."
   ]
  },
  {
   "cell_type": "code",
   "execution_count": null,
   "id": "be6c1388-9a3a-4ed0-a66a-cd9ad052f980",
   "metadata": {
    "tags": []
   },
   "outputs": [],
   "source": [
    "for y in years:\n",
    "    for m in months:\n",
    "        for d in days:\n",
    "            pm.execute_notebook(\n",
    "                'CVAE_example.ipynb',\n",
    "                'CVAE_log.ipynb',\n",
    "                parameters = dict(year = y, month = m, day = d),\n",
    "                kernel_name = 'cvae_env'\n",
    "                \n",
    "            )"
   ]
  }
 ],
 "metadata": {
  "kernelspec": {
   "display_name": "Python [conda env:cvae_env]",
   "language": "python",
   "name": "conda-env-cvae_env-py"
  },
  "language_info": {
   "codemirror_mode": {
    "name": "ipython",
    "version": 3
   },
   "file_extension": ".py",
   "mimetype": "text/x-python",
   "name": "python",
   "nbconvert_exporter": "python",
   "pygments_lexer": "ipython3",
   "version": "3.9.18"
  }
 },
 "nbformat": 4,
 "nbformat_minor": 5
}
