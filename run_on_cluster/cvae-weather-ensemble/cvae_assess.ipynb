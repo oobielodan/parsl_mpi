{
 "cells": [
  {
   "cell_type": "markdown",
   "metadata": {},
   "source": [
    "# Demo using a trained CVAE model\n",
    "The goal here is to use a trained CVAE model with new data to create synthetic ensemble members."
   ]
  },
  {
   "cell_type": "markdown",
   "metadata": {},
   "source": [
    "# Libraries"
   ]
  },
  {
   "cell_type": "code",
   "execution_count": 1,
   "metadata": {
    "tags": []
   },
   "outputs": [
    {
     "name": "stderr",
     "output_type": "stream",
     "text": [
      "2024-07-29 21:04:16.318682: E external/local_xla/xla/stream_executor/cuda/cuda_dnn.cc:10575] Unable to register cuDNN factory: Attempting to register factory for plugin cuDNN when one has already been registered\n",
      "2024-07-29 21:04:16.318745: E external/local_xla/xla/stream_executor/cuda/cuda_fft.cc:479] Unable to register cuFFT factory: Attempting to register factory for plugin cuFFT when one has already been registered\n",
      "2024-07-29 21:04:16.320453: E external/local_xla/xla/stream_executor/cuda/cuda_blas.cc:1442] Unable to register cuBLAS factory: Attempting to register factory for plugin cuBLAS when one has already been registered\n",
      "2024-07-29 21:04:16.326930: I tensorflow/core/platform/cpu_feature_guard.cc:210] This TensorFlow binary is optimized to use available CPU instructions in performance-critical operations.\n",
      "To enable the following instructions: SSE4.1 SSE4.2 AVX AVX2 FMA, in other operations, rebuild TensorFlow with the appropriate compiler flags.\n",
      "/tmp/ipykernel_154131/3654517447.py:12: DeprecationWarning: Please import `gaussian_filter` from the `scipy.ndimage` namespace; the `scipy.ndimage.filters` namespace is deprecated and will be removed in SciPy 2.0.0.\n",
      "  from scipy.ndimage.filters import gaussian_filter as gf\n"
     ]
    }
   ],
   "source": [
    "# imports\n",
    "import tensorflow as tf\n",
    "tf.compat.v1.enable_eager_execution()\n",
    "\n",
    "import os, json\n",
    "import netCDF4\n",
    "import cartopy\n",
    "\n",
    "import numpy as np\n",
    "import pandas as pd\n",
    "import matplotlib.pyplot as plt\n",
    "from scipy.ndimage.filters import gaussian_filter as gf\n",
    "\n",
    "from tensorflow import keras\n",
    "from keras import layers\n",
    "import cProfile   # For eager execution, https://www.tensorflow.org/guide/eager\n",
    "from sklearn.model_selection import train_test_split\n",
    "\n",
    "from scripts.cvae import Sampling, build_encoder, calculate_final_shape, calculate_output_paddings\n",
    "from scripts.cvae import build_decoder, VAE, plot_latent_space, plot_images\n",
    "\n",
    "from scripts.get_data import download_file\n",
    "from scripts.get_data import convert_file\n",
    "from scripts.get_data import subset_file\n",
    "from scripts.get_data import remove_data # removes all data"
   ]
  },
  {
   "cell_type": "code",
   "execution_count": 2,
   "metadata": {
    "tags": []
   },
   "outputs": [],
   "source": [
    "# data loading\n",
    "def load_data(data_dir):      \n",
    "    files = [f for f in os.listdir(data_dir)] # if ('subset' in f and 'tmp' not in f)]\n",
    "    \n",
    "    all_data = ((np.expand_dims(\n",
    "        np.concatenate(\n",
    "            [netCDF4.Dataset(data_dir + converted_file)['msl'][:] for converted_file in files]\n",
    "        ),\n",
    "        -1\n",
    "    ).astype(\"float32\") - 85000) / (110000 - 85000)).astype(\"float16\")\n",
    "    \n",
    "    return all_data"
   ]
  },
  {
   "cell_type": "code",
   "execution_count": 11,
   "metadata": {
    "tags": []
   },
   "outputs": [
    {
     "name": "stdout",
     "output_type": "stream",
     "text": [
      "TF version: 2.16.2\n",
      "GPU is available\n"
     ]
    }
   ],
   "source": [
    "print(\"TF version:\", tf.__version__)\n",
    "print(\"GPU is\", \"available\" if tf.config.list_physical_devices('GPU') else \"NOT AVAILABLE\")"
   ]
  },
  {
   "cell_type": "markdown",
   "metadata": {},
   "source": [
    "# Load and preprocess the input data\n",
    "The standard way of manipulating arrays in Conv2D layers in TF is to use arrays in the shape:\n",
    "`batch_size,  height, width, channels = data.shape`\n",
    "In our case, the the `batch_size` is the number of image frames (i.e. separate samples or rows in a `.csv` file), the `height` and `width` define the size of the image frame in number of pixels, and the `channels` are the number of layers in the frames.  Typically, channels are color layers (e.g. RGB or CMYK) but in our case, we could use different metereological variables.  However, for this first experiment, **we only need one channel** because we're only going to use sea level pressure (SLP).\n",
    "\n",
    "The code for loading GEFS `.grib` files and making an initial plot is from [Victor Gensini's example](https://github.com/vgensini/gefs_v12_example/blob/master/GEFS_v12_eample.ipynb) posted on the GEFS Open Data Registry landing page."
   ]
  },
  {
   "cell_type": "code",
   "execution_count": 3,
   "metadata": {
    "tags": []
   },
   "outputs": [],
   "source": [
    "data_pdir = \"./gefs_data\"\n",
    "data_dir = \"./gefs_data/converted/\"\n",
    "model_dir = './model_dir'"
   ]
  },
  {
   "cell_type": "code",
   "execution_count": 4,
   "metadata": {
    "tags": []
   },
   "outputs": [],
   "source": [
    "# example parameters\n",
    "ex_year = \"2018\"\n",
    "ex_month = \"01\"\n",
    "ex_day = \"01\"\n",
    "ex_ensemble = \"c00\""
   ]
  },
  {
   "cell_type": "code",
   "execution_count": 5,
   "metadata": {
    "tags": []
   },
   "outputs": [],
   "source": [
    "# example for getting and converting files \n",
    "download_file(ex_year, ex_month, ex_day, ex_ensemble, data_pdir)\n",
    "convert_file(ex_year, ex_month, ex_day, ex_ensemble, data_dir)\n",
    "slp = load_data(data_dir)"
   ]
  },
  {
   "cell_type": "code",
   "execution_count": 6,
   "metadata": {
    "tags": []
   },
   "outputs": [
    {
     "name": "stdout",
     "output_type": "stream",
     "text": [
      "(80, 721, 1440, 1)\n"
     ]
    }
   ],
   "source": [
    "# look at data structure\n",
    "print(np.shape(slp))"
   ]
  },
  {
   "cell_type": "code",
   "execution_count": 7,
   "metadata": {
    "tags": []
   },
   "outputs": [
    {
     "data": {
      "text/plain": [
       "(721, 1440)"
      ]
     },
     "execution_count": 7,
     "metadata": {},
     "output_type": "execute_result"
    }
   ],
   "source": [
    "# grid point locations\n",
    "lons = np.loadtxt('coordinates/lon.x')\n",
    "lats = np.loadtxt('coordinates/lat.y')\n",
    "\n",
    "x, y = np.meshgrid(lons,lats)\n",
    "\n",
    "np.shape(x)"
   ]
  },
  {
   "cell_type": "code",
   "execution_count": 8,
   "metadata": {
    "tags": []
   },
   "outputs": [
    {
     "data": {
      "image/png": "[encoded data removed]",
      "text/plain": [
       "<Figure size 900x600 with 1 Axes>"
      ]
     },
     "metadata": {},
     "output_type": "display_data"
    }
   ],
   "source": [
    "# example for plot\n",
    "fig = plt.figure(figsize=(9,6))\n",
    "ax = plt.axes(projection = cartopy.crs.LambertConformal())\n",
    "ax.add_feature(cartopy.feature.LAND)\n",
    "ax.add_feature(cartopy.feature.OCEAN)\n",
    "ax.add_feature(cartopy.feature.LAKES, alpha = 0.5)\n",
    "ax.add_feature(cartopy.feature.STATES, edgecolor='grey')\n",
    "plt.contour(x,y,np.squeeze(slp[0,:,:,0])*120000/100,\n",
    "             transform = cartopy.crs.PlateCarree(),\n",
    "             levels=[970,975,980,985,990,995,1000,1005,1010,1015,1020,1025,1030,1035,1040,1045,1050,1055,1060],colors='k')\n",
    "plt.title('GEFSv12 MSL 2017 01 01 0000 UTC')\n",
    "#ax.set_extent([-120, -73, 23, 50])\n",
    "ax.set_extent([-150, -60, 20, 65])\n",
    "#plt.colorbar()\n",
    "plt.show()"
   ]
  },
  {
   "cell_type": "markdown",
   "metadata": {},
   "source": [
    "# Load ML model"
   ]
  },
  {
   "cell_type": "code",
   "execution_count": 9,
   "metadata": {
    "tags": []
   },
   "outputs": [
    {
     "name": "stderr",
     "output_type": "stream",
     "text": [
      "2024-07-29 21:04:26.954295: I external/local_xla/xla/stream_executor/cuda/cuda_executor.cc:998] successful NUMA node read from SysFS had negative value (-1), but there must be at least one NUMA node, so returning NUMA node zero. See more at https://github.com/torvalds/linux/blob/v6.0/Documentation/ABI/testing/sysfs-bus-pci#L344-L355\n",
      "2024-07-29 21:04:27.001634: I external/local_xla/xla/stream_executor/cuda/cuda_executor.cc:998] successful NUMA node read from SysFS had negative value (-1), but there must be at least one NUMA node, so returning NUMA node zero. See more at https://github.com/torvalds/linux/blob/v6.0/Documentation/ABI/testing/sysfs-bus-pci#L344-L355\n",
      "2024-07-29 21:04:27.005261: I external/local_xla/xla/stream_executor/cuda/cuda_executor.cc:998] successful NUMA node read from SysFS had negative value (-1), but there must be at least one NUMA node, so returning NUMA node zero. See more at https://github.com/torvalds/linux/blob/v6.0/Documentation/ABI/testing/sysfs-bus-pci#L344-L355\n",
      "2024-07-29 21:04:27.009475: I external/local_xla/xla/stream_executor/cuda/cuda_executor.cc:998] successful NUMA node read from SysFS had negative value (-1), but there must be at least one NUMA node, so returning NUMA node zero. See more at https://github.com/torvalds/linux/blob/v6.0/Documentation/ABI/testing/sysfs-bus-pci#L344-L355\n",
      "2024-07-29 21:04:27.012947: I external/local_xla/xla/stream_executor/cuda/cuda_executor.cc:998] successful NUMA node read from SysFS had negative value (-1), but there must be at least one NUMA node, so returning NUMA node zero. See more at https://github.com/torvalds/linux/blob/v6.0/Documentation/ABI/testing/sysfs-bus-pci#L344-L355\n",
      "2024-07-29 21:04:27.016262: I external/local_xla/xla/stream_executor/cuda/cuda_executor.cc:998] successful NUMA node read from SysFS had negative value (-1), but there must be at least one NUMA node, so returning NUMA node zero. See more at https://github.com/torvalds/linux/blob/v6.0/Documentation/ABI/testing/sysfs-bus-pci#L344-L355\n",
      "2024-07-29 21:04:27.152708: I external/local_xla/xla/stream_executor/cuda/cuda_executor.cc:998] successful NUMA node read from SysFS had negative value (-1), but there must be at least one NUMA node, so returning NUMA node zero. See more at https://github.com/torvalds/linux/blob/v6.0/Documentation/ABI/testing/sysfs-bus-pci#L344-L355\n",
      "2024-07-29 21:04:27.154410: I external/local_xla/xla/stream_executor/cuda/cuda_executor.cc:998] successful NUMA node read from SysFS had negative value (-1), but there must be at least one NUMA node, so returning NUMA node zero. See more at https://github.com/torvalds/linux/blob/v6.0/Documentation/ABI/testing/sysfs-bus-pci#L344-L355\n",
      "2024-07-29 21:04:27.156012: I external/local_xla/xla/stream_executor/cuda/cuda_executor.cc:998] successful NUMA node read from SysFS had negative value (-1), but there must be at least one NUMA node, so returning NUMA node zero. See more at https://github.com/torvalds/linux/blob/v6.0/Documentation/ABI/testing/sysfs-bus-pci#L344-L355\n",
      "2024-07-29 21:04:27.157617: I tensorflow/core/common_runtime/gpu/gpu_device.cc:1928] Created device /job:localhost/replica:0/task:0/device:GPU:0 with 20710 MB memory:  -> device: 0, name: NVIDIA A10G, pci bus id: 0000:00:1e.0, compute capability: 8.6\n"
     ]
    },
    {
     "data": {
      "text/html": [
       "<pre style=\"white-space:pre;overflow-x:auto;line-height:normal;font-family:Menlo,'DejaVu Sans Mono',consolas,'Courier New',monospace\"><span style=\"font-weight: bold\">Model: \"encoder\"</span>\n",
       "</pre>\n"
      ],
      "text/plain": [
       "\u001b[1mModel: \"encoder\"\u001b[0m\n"
      ]
     },
     "metadata": {},
     "output_type": "display_data"
    },
    {
     "data": {
      "text/html": [
       "<pre style=\"white-space:pre;overflow-x:auto;line-height:normal;font-family:Menlo,'DejaVu Sans Mono',consolas,'Courier New',monospace\">┏━━━━━━━━━━━━━━━━━━━━━┳━━━━━━━━━━━━━━━━━━━┳━━━━━━━━━━━━┳━━━━━━━━━━━━━━━━━━━┓\n",
       "┃<span style=\"font-weight: bold\"> Layer (type)        </span>┃<span style=\"font-weight: bold\"> Output Shape      </span>┃<span style=\"font-weight: bold\">    Param # </span>┃<span style=\"font-weight: bold\"> Connected to      </span>┃\n",
       "┡━━━━━━━━━━━━━━━━━━━━━╇━━━━━━━━━━━━━━━━━━━╇━━━━━━━━━━━━╇━━━━━━━━━━━━━━━━━━━┩\n",
       "│ input_layer         │ (<span style=\"color: #00d7ff; text-decoration-color: #00d7ff\">None</span>, <span style=\"color: #00af00; text-decoration-color: #00af00\">721</span>, <span style=\"color: #00af00; text-decoration-color: #00af00\">1440</span>, │          <span style=\"color: #00af00; text-decoration-color: #00af00\">0</span> │ -                 │\n",
       "│ (<span style=\"color: #0087ff; text-decoration-color: #0087ff\">InputLayer</span>)        │ <span style=\"color: #00af00; text-decoration-color: #00af00\">1</span>)                │            │                   │\n",
       "├─────────────────────┼───────────────────┼────────────┼───────────────────┤\n",
       "│ conv2d (<span style=\"color: #0087ff; text-decoration-color: #0087ff\">Conv2D</span>)     │ (<span style=\"color: #00d7ff; text-decoration-color: #00d7ff\">None</span>, <span style=\"color: #00af00; text-decoration-color: #00af00\">79</span>, <span style=\"color: #00af00; text-decoration-color: #00af00\">143</span>,   │      <span style=\"color: #00af00; text-decoration-color: #00af00\">3,904</span> │ input_layer[<span style=\"color: #00af00; text-decoration-color: #00af00\">0</span>][<span style=\"color: #00af00; text-decoration-color: #00af00\">0</span>] │\n",
       "│                     │ <span style=\"color: #00af00; text-decoration-color: #00af00\">32</span>)               │            │                   │\n",
       "├─────────────────────┼───────────────────┼────────────┼───────────────────┤\n",
       "│ conv2d_1 (<span style=\"color: #0087ff; text-decoration-color: #0087ff\">Conv2D</span>)   │ (<span style=\"color: #00d7ff; text-decoration-color: #00d7ff\">None</span>, <span style=\"color: #00af00; text-decoration-color: #00af00\">15</span>, <span style=\"color: #00af00; text-decoration-color: #00af00\">15</span>,    │     <span style=\"color: #00af00; text-decoration-color: #00af00\">92,224</span> │ conv2d[<span style=\"color: #00af00; text-decoration-color: #00af00\">0</span>][<span style=\"color: #00af00; text-decoration-color: #00af00\">0</span>]      │\n",
       "│                     │ <span style=\"color: #00af00; text-decoration-color: #00af00\">64</span>)               │            │                   │\n",
       "├─────────────────────┼───────────────────┼────────────┼───────────────────┤\n",
       "│ flatten (<span style=\"color: #0087ff; text-decoration-color: #0087ff\">Flatten</span>)   │ (<span style=\"color: #00d7ff; text-decoration-color: #00d7ff\">None</span>, <span style=\"color: #00af00; text-decoration-color: #00af00\">14400</span>)     │          <span style=\"color: #00af00; text-decoration-color: #00af00\">0</span> │ conv2d_1[<span style=\"color: #00af00; text-decoration-color: #00af00\">0</span>][<span style=\"color: #00af00; text-decoration-color: #00af00\">0</span>]    │\n",
       "├─────────────────────┼───────────────────┼────────────┼───────────────────┤\n",
       "│ dense (<span style=\"color: #0087ff; text-decoration-color: #0087ff\">Dense</span>)       │ (<span style=\"color: #00d7ff; text-decoration-color: #00d7ff\">None</span>, <span style=\"color: #00af00; text-decoration-color: #00af00\">16</span>)        │    <span style=\"color: #00af00; text-decoration-color: #00af00\">230,416</span> │ flatten[<span style=\"color: #00af00; text-decoration-color: #00af00\">0</span>][<span style=\"color: #00af00; text-decoration-color: #00af00\">0</span>]     │\n",
       "├─────────────────────┼───────────────────┼────────────┼───────────────────┤\n",
       "│ z_mean (<span style=\"color: #0087ff; text-decoration-color: #0087ff\">Dense</span>)      │ (<span style=\"color: #00d7ff; text-decoration-color: #00d7ff\">None</span>, <span style=\"color: #00af00; text-decoration-color: #00af00\">2</span>)         │         <span style=\"color: #00af00; text-decoration-color: #00af00\">34</span> │ dense[<span style=\"color: #00af00; text-decoration-color: #00af00\">0</span>][<span style=\"color: #00af00; text-decoration-color: #00af00\">0</span>]       │\n",
       "├─────────────────────┼───────────────────┼────────────┼───────────────────┤\n",
       "│ z_log_var (<span style=\"color: #0087ff; text-decoration-color: #0087ff\">Dense</span>)   │ (<span style=\"color: #00d7ff; text-decoration-color: #00d7ff\">None</span>, <span style=\"color: #00af00; text-decoration-color: #00af00\">2</span>)         │         <span style=\"color: #00af00; text-decoration-color: #00af00\">34</span> │ dense[<span style=\"color: #00af00; text-decoration-color: #00af00\">0</span>][<span style=\"color: #00af00; text-decoration-color: #00af00\">0</span>]       │\n",
       "├─────────────────────┼───────────────────┼────────────┼───────────────────┤\n",
       "│ sampling (<span style=\"color: #0087ff; text-decoration-color: #0087ff\">Sampling</span>) │ (<span style=\"color: #00d7ff; text-decoration-color: #00d7ff\">None</span>, <span style=\"color: #00af00; text-decoration-color: #00af00\">2</span>)         │          <span style=\"color: #00af00; text-decoration-color: #00af00\">0</span> │ z_mean[<span style=\"color: #00af00; text-decoration-color: #00af00\">0</span>][<span style=\"color: #00af00; text-decoration-color: #00af00\">0</span>],     │\n",
       "│                     │                   │            │ z_log_var[<span style=\"color: #00af00; text-decoration-color: #00af00\">0</span>][<span style=\"color: #00af00; text-decoration-color: #00af00\">0</span>]   │\n",
       "└─────────────────────┴───────────────────┴────────────┴───────────────────┘\n",
       "</pre>\n"
      ],
      "text/plain": [
       "┏━━━━━━━━━━━━━━━━━━━━━┳━━━━━━━━━━━━━━━━━━━┳━━━━━━━━━━━━┳━━━━━━━━━━━━━━━━━━━┓\n",
       "┃\u001b[1m \u001b[0m\u001b[1mLayer (type)       \u001b[0m\u001b[1m \u001b[0m┃\u001b[1m \u001b[0m\u001b[1mOutput Shape     \u001b[0m\u001b[1m \u001b[0m┃\u001b[1m \u001b[0m\u001b[1m   Param #\u001b[0m\u001b[1m \u001b[0m┃\u001b[1m \u001b[0m\u001b[1mConnected to     \u001b[0m\u001b[1m \u001b[0m┃\n",
       "┡━━━━━━━━━━━━━━━━━━━━━╇━━━━━━━━━━━━━━━━━━━╇━━━━━━━━━━━━╇━━━━━━━━━━━━━━━━━━━┩\n",
       "│ input_layer         │ (\u001b[38;5;45mNone\u001b[0m, \u001b[38;5;34m721\u001b[0m, \u001b[38;5;34m1440\u001b[0m, │          \u001b[38;5;34m0\u001b[0m │ -                 │\n",
       "│ (\u001b[38;5;33mInputLayer\u001b[0m)        │ \u001b[38;5;34m1\u001b[0m)                │            │                   │\n",
       "├─────────────────────┼───────────────────┼────────────┼───────────────────┤\n",
       "│ conv2d (\u001b[38;5;33mConv2D\u001b[0m)     │ (\u001b[38;5;45mNone\u001b[0m, \u001b[38;5;34m79\u001b[0m, \u001b[38;5;34m143\u001b[0m,   │      \u001b[38;5;34m3,904\u001b[0m │ input_layer[\u001b[38;5;34m0\u001b[0m][\u001b[38;5;34m0\u001b[0m] │\n",
       "│                     │ \u001b[38;5;34m32\u001b[0m)               │            │                   │\n",
       "├─────────────────────┼───────────────────┼────────────┼───────────────────┤\n",
       "│ conv2d_1 (\u001b[38;5;33mConv2D\u001b[0m)   │ (\u001b[38;5;45mNone\u001b[0m, \u001b[38;5;34m15\u001b[0m, \u001b[38;5;34m15\u001b[0m,    │     \u001b[38;5;34m92,224\u001b[0m │ conv2d[\u001b[38;5;34m0\u001b[0m][\u001b[38;5;34m0\u001b[0m]      │\n",
       "│                     │ \u001b[38;5;34m64\u001b[0m)               │            │                   │\n",
       "├─────────────────────┼───────────────────┼────────────┼───────────────────┤\n",
       "│ flatten (\u001b[38;5;33mFlatten\u001b[0m)   │ (\u001b[38;5;45mNone\u001b[0m, \u001b[38;5;34m14400\u001b[0m)     │          \u001b[38;5;34m0\u001b[0m │ conv2d_1[\u001b[38;5;34m0\u001b[0m][\u001b[38;5;34m0\u001b[0m]    │\n",
       "├─────────────────────┼───────────────────┼────────────┼───────────────────┤\n",
       "│ dense (\u001b[38;5;33mDense\u001b[0m)       │ (\u001b[38;5;45mNone\u001b[0m, \u001b[38;5;34m16\u001b[0m)        │    \u001b[38;5;34m230,416\u001b[0m │ flatten[\u001b[38;5;34m0\u001b[0m][\u001b[38;5;34m0\u001b[0m]     │\n",
       "├─────────────────────┼───────────────────┼────────────┼───────────────────┤\n",
       "│ z_mean (\u001b[38;5;33mDense\u001b[0m)      │ (\u001b[38;5;45mNone\u001b[0m, \u001b[38;5;34m2\u001b[0m)         │         \u001b[38;5;34m34\u001b[0m │ dense[\u001b[38;5;34m0\u001b[0m][\u001b[38;5;34m0\u001b[0m]       │\n",
       "├─────────────────────┼───────────────────┼────────────┼───────────────────┤\n",
       "│ z_log_var (\u001b[38;5;33mDense\u001b[0m)   │ (\u001b[38;5;45mNone\u001b[0m, \u001b[38;5;34m2\u001b[0m)         │         \u001b[38;5;34m34\u001b[0m │ dense[\u001b[38;5;34m0\u001b[0m][\u001b[38;5;34m0\u001b[0m]       │\n",
       "├─────────────────────┼───────────────────┼────────────┼───────────────────┤\n",
       "│ sampling (\u001b[38;5;33mSampling\u001b[0m) │ (\u001b[38;5;45mNone\u001b[0m, \u001b[38;5;34m2\u001b[0m)         │          \u001b[38;5;34m0\u001b[0m │ z_mean[\u001b[38;5;34m0\u001b[0m][\u001b[38;5;34m0\u001b[0m],     │\n",
       "│                     │                   │            │ z_log_var[\u001b[38;5;34m0\u001b[0m][\u001b[38;5;34m0\u001b[0m]   │\n",
       "└─────────────────────┴───────────────────┴────────────┴───────────────────┘\n"
      ]
     },
     "metadata": {},
     "output_type": "display_data"
    },
    {
     "data": {
      "text/html": [
       "<pre style=\"white-space:pre;overflow-x:auto;line-height:normal;font-family:Menlo,'DejaVu Sans Mono',consolas,'Courier New',monospace\"><span style=\"font-weight: bold\"> Total params: </span><span style=\"color: #00af00; text-decoration-color: #00af00\">326,612</span> (1.25 MB)\n",
       "</pre>\n"
      ],
      "text/plain": [
       "\u001b[1m Total params: \u001b[0m\u001b[38;5;34m326,612\u001b[0m (1.25 MB)\n"
      ]
     },
     "metadata": {},
     "output_type": "display_data"
    },
    {
     "data": {
      "text/html": [
       "<pre style=\"white-space:pre;overflow-x:auto;line-height:normal;font-family:Menlo,'DejaVu Sans Mono',consolas,'Courier New',monospace\"><span style=\"font-weight: bold\"> Trainable params: </span><span style=\"color: #00af00; text-decoration-color: #00af00\">326,612</span> (1.25 MB)\n",
       "</pre>\n"
      ],
      "text/plain": [
       "\u001b[1m Trainable params: \u001b[0m\u001b[38;5;34m326,612\u001b[0m (1.25 MB)\n"
      ]
     },
     "metadata": {},
     "output_type": "display_data"
    },
    {
     "data": {
      "text/html": [
       "<pre style=\"white-space:pre;overflow-x:auto;line-height:normal;font-family:Menlo,'DejaVu Sans Mono',consolas,'Courier New',monospace\"><span style=\"font-weight: bold\"> Non-trainable params: </span><span style=\"color: #00af00; text-decoration-color: #00af00\">0</span> (0.00 B)\n",
       "</pre>\n"
      ],
      "text/plain": [
       "\u001b[1m Non-trainable params: \u001b[0m\u001b[38;5;34m0\u001b[0m (0.00 B)\n"
      ]
     },
     "metadata": {},
     "output_type": "display_data"
    },
    {
     "name": "stdout",
     "output_type": "stream",
     "text": [
      "None\n"
     ]
    },
    {
     "data": {
      "text/html": [
       "<pre style=\"white-space:pre;overflow-x:auto;line-height:normal;font-family:Menlo,'DejaVu Sans Mono',consolas,'Courier New',monospace\"><span style=\"font-weight: bold\">Model: \"decoder\"</span>\n",
       "</pre>\n"
      ],
      "text/plain": [
       "\u001b[1mModel: \"decoder\"\u001b[0m\n"
      ]
     },
     "metadata": {},
     "output_type": "display_data"
    },
    {
     "data": {
      "text/html": [
       "<pre style=\"white-space:pre;overflow-x:auto;line-height:normal;font-family:Menlo,'DejaVu Sans Mono',consolas,'Courier New',monospace\">┏━━━━━━━━━━━━━━━━━━━━━━━━━━━━━━━━━┳━━━━━━━━━━━━━━━━━━━━━━━━┳━━━━━━━━━━━━━━━┓\n",
       "┃<span style=\"font-weight: bold\"> Layer (type)                    </span>┃<span style=\"font-weight: bold\"> Output Shape           </span>┃<span style=\"font-weight: bold\">       Param # </span>┃\n",
       "┡━━━━━━━━━━━━━━━━━━━━━━━━━━━━━━━━━╇━━━━━━━━━━━━━━━━━━━━━━━━╇━━━━━━━━━━━━━━━┩\n",
       "│ input_layer_1 (<span style=\"color: #0087ff; text-decoration-color: #0087ff\">InputLayer</span>)      │ (<span style=\"color: #00d7ff; text-decoration-color: #00d7ff\">None</span>, <span style=\"color: #00af00; text-decoration-color: #00af00\">2</span>)              │             <span style=\"color: #00af00; text-decoration-color: #00af00\">0</span> │\n",
       "├─────────────────────────────────┼────────────────────────┼───────────────┤\n",
       "│ dense_1 (<span style=\"color: #0087ff; text-decoration-color: #0087ff\">Dense</span>)                 │ (<span style=\"color: #00d7ff; text-decoration-color: #00d7ff\">None</span>, <span style=\"color: #00af00; text-decoration-color: #00af00\">14400</span>)          │        <span style=\"color: #00af00; text-decoration-color: #00af00\">43,200</span> │\n",
       "├─────────────────────────────────┼────────────────────────┼───────────────┤\n",
       "│ reshape (<span style=\"color: #0087ff; text-decoration-color: #0087ff\">Reshape</span>)               │ (<span style=\"color: #00d7ff; text-decoration-color: #00d7ff\">None</span>, <span style=\"color: #00af00; text-decoration-color: #00af00\">15</span>, <span style=\"color: #00af00; text-decoration-color: #00af00\">15</span>, <span style=\"color: #00af00; text-decoration-color: #00af00\">64</span>)     │             <span style=\"color: #00af00; text-decoration-color: #00af00\">0</span> │\n",
       "├─────────────────────────────────┼────────────────────────┼───────────────┤\n",
       "│ conv2d_transpose                │ (<span style=\"color: #00d7ff; text-decoration-color: #00d7ff\">None</span>, <span style=\"color: #00af00; text-decoration-color: #00af00\">75</span>, <span style=\"color: #00af00; text-decoration-color: #00af00\">135</span>, <span style=\"color: #00af00; text-decoration-color: #00af00\">64</span>)    │       <span style=\"color: #00af00; text-decoration-color: #00af00\">184,384</span> │\n",
       "│ (<span style=\"color: #0087ff; text-decoration-color: #0087ff\">Conv2DTranspose</span>)               │                        │               │\n",
       "├─────────────────────────────────┼────────────────────────┼───────────────┤\n",
       "│ conv2d_transpose_1              │ (<span style=\"color: #00d7ff; text-decoration-color: #00d7ff\">None</span>, <span style=\"color: #00af00; text-decoration-color: #00af00\">675</span>, <span style=\"color: #00af00; text-decoration-color: #00af00\">1350</span>, <span style=\"color: #00af00; text-decoration-color: #00af00\">32</span>)  │       <span style=\"color: #00af00; text-decoration-color: #00af00\">247,840</span> │\n",
       "│ (<span style=\"color: #0087ff; text-decoration-color: #0087ff\">Conv2DTranspose</span>)               │                        │               │\n",
       "├─────────────────────────────────┼────────────────────────┼───────────────┤\n",
       "│ conv2d_transpose_2              │ (<span style=\"color: #00d7ff; text-decoration-color: #00d7ff\">None</span>, <span style=\"color: #00af00; text-decoration-color: #00af00\">675</span>, <span style=\"color: #00af00; text-decoration-color: #00af00\">1350</span>, <span style=\"color: #00af00; text-decoration-color: #00af00\">1</span>)   │           <span style=\"color: #00af00; text-decoration-color: #00af00\">289</span> │\n",
       "│ (<span style=\"color: #0087ff; text-decoration-color: #0087ff\">Conv2DTranspose</span>)               │                        │               │\n",
       "└─────────────────────────────────┴────────────────────────┴───────────────┘\n",
       "</pre>\n"
      ],
      "text/plain": [
       "┏━━━━━━━━━━━━━━━━━━━━━━━━━━━━━━━━━┳━━━━━━━━━━━━━━━━━━━━━━━━┳━━━━━━━━━━━━━━━┓\n",
       "┃\u001b[1m \u001b[0m\u001b[1mLayer (type)                   \u001b[0m\u001b[1m \u001b[0m┃\u001b[1m \u001b[0m\u001b[1mOutput Shape          \u001b[0m\u001b[1m \u001b[0m┃\u001b[1m \u001b[0m\u001b[1m      Param #\u001b[0m\u001b[1m \u001b[0m┃\n",
       "┡━━━━━━━━━━━━━━━━━━━━━━━━━━━━━━━━━╇━━━━━━━━━━━━━━━━━━━━━━━━╇━━━━━━━━━━━━━━━┩\n",
       "│ input_layer_1 (\u001b[38;5;33mInputLayer\u001b[0m)      │ (\u001b[38;5;45mNone\u001b[0m, \u001b[38;5;34m2\u001b[0m)              │             \u001b[38;5;34m0\u001b[0m │\n",
       "├─────────────────────────────────┼────────────────────────┼───────────────┤\n",
       "│ dense_1 (\u001b[38;5;33mDense\u001b[0m)                 │ (\u001b[38;5;45mNone\u001b[0m, \u001b[38;5;34m14400\u001b[0m)          │        \u001b[38;5;34m43,200\u001b[0m │\n",
       "├─────────────────────────────────┼────────────────────────┼───────────────┤\n",
       "│ reshape (\u001b[38;5;33mReshape\u001b[0m)               │ (\u001b[38;5;45mNone\u001b[0m, \u001b[38;5;34m15\u001b[0m, \u001b[38;5;34m15\u001b[0m, \u001b[38;5;34m64\u001b[0m)     │             \u001b[38;5;34m0\u001b[0m │\n",
       "├─────────────────────────────────┼────────────────────────┼───────────────┤\n",
       "│ conv2d_transpose                │ (\u001b[38;5;45mNone\u001b[0m, \u001b[38;5;34m75\u001b[0m, \u001b[38;5;34m135\u001b[0m, \u001b[38;5;34m64\u001b[0m)    │       \u001b[38;5;34m184,384\u001b[0m │\n",
       "│ (\u001b[38;5;33mConv2DTranspose\u001b[0m)               │                        │               │\n",
       "├─────────────────────────────────┼────────────────────────┼───────────────┤\n",
       "│ conv2d_transpose_1              │ (\u001b[38;5;45mNone\u001b[0m, \u001b[38;5;34m675\u001b[0m, \u001b[38;5;34m1350\u001b[0m, \u001b[38;5;34m32\u001b[0m)  │       \u001b[38;5;34m247,840\u001b[0m │\n",
       "│ (\u001b[38;5;33mConv2DTranspose\u001b[0m)               │                        │               │\n",
       "├─────────────────────────────────┼────────────────────────┼───────────────┤\n",
       "│ conv2d_transpose_2              │ (\u001b[38;5;45mNone\u001b[0m, \u001b[38;5;34m675\u001b[0m, \u001b[38;5;34m1350\u001b[0m, \u001b[38;5;34m1\u001b[0m)   │           \u001b[38;5;34m289\u001b[0m │\n",
       "│ (\u001b[38;5;33mConv2DTranspose\u001b[0m)               │                        │               │\n",
       "└─────────────────────────────────┴────────────────────────┴───────────────┘\n"
      ]
     },
     "metadata": {},
     "output_type": "display_data"
    },
    {
     "data": {
      "text/html": [
       "<pre style=\"white-space:pre;overflow-x:auto;line-height:normal;font-family:Menlo,'DejaVu Sans Mono',consolas,'Courier New',monospace\"><span style=\"font-weight: bold\"> Total params: </span><span style=\"color: #00af00; text-decoration-color: #00af00\">475,713</span> (1.81 MB)\n",
       "</pre>\n"
      ],
      "text/plain": [
       "\u001b[1m Total params: \u001b[0m\u001b[38;5;34m475,713\u001b[0m (1.81 MB)\n"
      ]
     },
     "metadata": {},
     "output_type": "display_data"
    },
    {
     "data": {
      "text/html": [
       "<pre style=\"white-space:pre;overflow-x:auto;line-height:normal;font-family:Menlo,'DejaVu Sans Mono',consolas,'Courier New',monospace\"><span style=\"font-weight: bold\"> Trainable params: </span><span style=\"color: #00af00; text-decoration-color: #00af00\">475,713</span> (1.81 MB)\n",
       "</pre>\n"
      ],
      "text/plain": [
       "\u001b[1m Trainable params: \u001b[0m\u001b[38;5;34m475,713\u001b[0m (1.81 MB)\n"
      ]
     },
     "metadata": {},
     "output_type": "display_data"
    },
    {
     "data": {
      "text/html": [
       "<pre style=\"white-space:pre;overflow-x:auto;line-height:normal;font-family:Menlo,'DejaVu Sans Mono',consolas,'Courier New',monospace\"><span style=\"font-weight: bold\"> Non-trainable params: </span><span style=\"color: #00af00; text-decoration-color: #00af00\">0</span> (0.00 B)\n",
       "</pre>\n"
      ],
      "text/plain": [
       "\u001b[1m Non-trainable params: \u001b[0m\u001b[38;5;34m0\u001b[0m (0.00 B)\n"
      ]
     },
     "metadata": {},
     "output_type": "display_data"
    },
    {
     "name": "stdout",
     "output_type": "stream",
     "text": [
      "None\n"
     ]
    },
    {
     "name": "stderr",
     "output_type": "stream",
     "text": [
      "/home/lobielodan/pw/.miniconda3c/envs/cvae_env/lib/python3.9/site-packages/keras/src/saving/saving_lib.py:576: UserWarning: Skipping variable loading for optimizer 'rmsprop', because it has 2 variables whereas the saved optimizer has 20 variables. \n",
      "  saveable.load_own_variables(weights_store.get(inner_path))\n"
     ]
    }
   ],
   "source": [
    "# key CVAE definition parameters\n",
    "latent_dim = 2\n",
    "n_conv_layers = 4\n",
    "stride = 2\n",
    "kernel_size = 3\n",
    "batch_size, height, width, channels = slp.shape\n",
    "\n",
    "encoder = build_encoder(latent_dim)\n",
    "decoder = build_decoder(latent_dim)\n",
    "vae = VAE(encoder, decoder)\n",
    "vae.compile(optimizer='rmsprop')\n",
    "vae.load_weights(os.path.join('model_dir', 'vae.weights.h5'))"
   ]
  },
  {
   "cell_type": "code",
   "execution_count": 10,
   "metadata": {
    "tags": []
   },
   "outputs": [
    {
     "name": "stderr",
     "output_type": "stream",
     "text": [
      "2024-07-29 21:04:28.443990: I external/local_xla/xla/stream_executor/cuda/cuda_dnn.cc:465] Loaded cuDNN version 8907\n",
      "2024-07-29 21:04:29.384748: W tensorflow/core/kernels/gpu_utils.cc:68] Failed to allocate memory for convolution redzone checking; skipping this check. This is benign and only means that we won't check cudnn for out-of-bounds reads and writes. This message will only be printed once.\n",
      "2024-07-29 21:05:07.838587: W external/local_tsl/tsl/framework/bfc_allocator.cc:487] Allocator (GPU_0_bfc) ran out of memory trying to allocate 8.69GiB (rounded to 9331200000)requested by op Conv2DBackpropInput\n",
      "If the cause is memory fragmentation maybe the environment variable 'TF_GPU_ALLOCATOR=cuda_malloc_async' will improve the situation. \n",
      "Current allocation summary follows.\n",
      "Current allocation summary follows.\n",
      "2024-07-29 21:05:07.839063: I external/local_tsl/tsl/framework/bfc_allocator.cc:1044] BFCAllocator dump for GPU_0_bfc\n",
      "2024-07-29 21:05:07.839094: I external/local_tsl/tsl/framework/bfc_allocator.cc:1051] Bin (256): \tTotal Chunks: 41, Chunks in use: 40. 10.2KiB allocated for chunks. 10.0KiB in use in bin. 1.2KiB client-requested in use in bin.\n",
      "2024-07-29 21:05:07.839104: I external/local_tsl/tsl/framework/bfc_allocator.cc:1051] Bin (512): \tTotal Chunks: 3, Chunks in use: 2. 2.2KiB allocated for chunks. 1.5KiB in use in bin. 1.2KiB client-requested in use in bin.\n",
      "2024-07-29 21:05:07.839112: I external/local_tsl/tsl/framework/bfc_allocator.cc:1051] Bin (1024): \tTotal Chunks: 3, Chunks in use: 3. 3.5KiB allocated for chunks. 3.5KiB in use in bin. 2.8KiB client-requested in use in bin.\n",
      "2024-07-29 21:05:07.839120: I external/local_tsl/tsl/framework/bfc_allocator.cc:1051] Bin (2048): \tTotal Chunks: 0, Chunks in use: 0. 0B allocated for chunks. 0B in use in bin. 0B client-requested in use in bin.\n",
      "2024-07-29 21:05:07.839129: I external/local_tsl/tsl/framework/bfc_allocator.cc:1051] Bin (4096): \tTotal Chunks: 1, Chunks in use: 0. 5.0KiB allocated for chunks. 0B in use in bin. 0B client-requested in use in bin.\n",
      "2024-07-29 21:05:07.839136: I external/local_tsl/tsl/framework/bfc_allocator.cc:1051] Bin (8192): \tTotal Chunks: 0, Chunks in use: 0. 0B allocated for chunks. 0B in use in bin. 0B client-requested in use in bin.\n",
      "2024-07-29 21:05:07.839145: I external/local_tsl/tsl/framework/bfc_allocator.cc:1051] Bin (16384): \tTotal Chunks: 1, Chunks in use: 1. 19.5KiB allocated for chunks. 19.5KiB in use in bin. 15.1KiB client-requested in use in bin.\n",
      "2024-07-29 21:05:07.839153: I external/local_tsl/tsl/framework/bfc_allocator.cc:1051] Bin (32768): \tTotal Chunks: 1, Chunks in use: 1. 56.2KiB allocated for chunks. 56.2KiB in use in bin. 56.2KiB client-requested in use in bin.\n",
      "2024-07-29 21:05:07.839162: I external/local_tsl/tsl/framework/bfc_allocator.cc:1051] Bin (65536): \tTotal Chunks: 1, Chunks in use: 0. 64.2KiB allocated for chunks. 0B in use in bin. 0B client-requested in use in bin.\n",
      "2024-07-29 21:05:07.839170: I external/local_tsl/tsl/framework/bfc_allocator.cc:1051] Bin (131072): \tTotal Chunks: 1, Chunks in use: 1. 168.8KiB allocated for chunks. 168.8KiB in use in bin. 112.5KiB client-requested in use in bin.\n",
      "2024-07-29 21:05:07.839179: I external/local_tsl/tsl/framework/bfc_allocator.cc:1051] Bin (262144): \tTotal Chunks: 2, Chunks in use: 1. 798.8KiB allocated for chunks. 438.8KiB in use in bin. 360.0KiB client-requested in use in bin.\n",
      "2024-07-29 21:05:07.839187: I external/local_tsl/tsl/framework/bfc_allocator.cc:1051] Bin (524288): \tTotal Chunks: 2, Chunks in use: 2. 1.82MiB allocated for chunks. 1.82MiB in use in bin. 1.58MiB client-requested in use in bin.\n",
      "2024-07-29 21:05:07.839196: I external/local_tsl/tsl/framework/bfc_allocator.cc:1051] Bin (1048576): \tTotal Chunks: 2, Chunks in use: 2. 3.34MiB allocated for chunks. 3.34MiB in use in bin. 1.89MiB client-requested in use in bin.\n",
      "2024-07-29 21:05:07.839204: I external/local_tsl/tsl/framework/bfc_allocator.cc:1051] Bin (2097152): \tTotal Chunks: 0, Chunks in use: 0. 0B allocated for chunks. 0B in use in bin. 0B client-requested in use in bin.\n",
      "2024-07-29 21:05:07.839212: I external/local_tsl/tsl/framework/bfc_allocator.cc:1051] Bin (4194304): \tTotal Chunks: 1, Chunks in use: 1. 4.39MiB allocated for chunks. 4.39MiB in use in bin. 4.39MiB client-requested in use in bin.\n",
      "2024-07-29 21:05:07.839220: I external/local_tsl/tsl/framework/bfc_allocator.cc:1051] Bin (8388608): \tTotal Chunks: 0, Chunks in use: 0. 0B allocated for chunks. 0B in use in bin. 0B client-requested in use in bin.\n",
      "2024-07-29 21:05:07.839228: I external/local_tsl/tsl/framework/bfc_allocator.cc:1051] Bin (16777216): \tTotal Chunks: 0, Chunks in use: 0. 0B allocated for chunks. 0B in use in bin. 0B client-requested in use in bin.\n",
      "2024-07-29 21:05:07.839235: I external/local_tsl/tsl/framework/bfc_allocator.cc:1051] Bin (33554432): \tTotal Chunks: 0, Chunks in use: 0. 0B allocated for chunks. 0B in use in bin. 0B client-requested in use in bin.\n",
      "2024-07-29 21:05:07.839244: I external/local_tsl/tsl/framework/bfc_allocator.cc:1051] Bin (67108864): \tTotal Chunks: 0, Chunks in use: 0. 0B allocated for chunks. 0B in use in bin. 0B client-requested in use in bin.\n",
      "2024-07-29 21:05:07.839253: I external/local_tsl/tsl/framework/bfc_allocator.cc:1051] Bin (134217728): \tTotal Chunks: 2, Chunks in use: 2. 395.51MiB allocated for chunks. 395.51MiB in use in bin. 379.15MiB client-requested in use in bin.\n",
      "2024-07-29 21:05:07.839262: I external/local_tsl/tsl/framework/bfc_allocator.cc:1051] Bin (268435456): \tTotal Chunks: 3, Chunks in use: 2. 19.83GiB allocated for chunks. 17.39GiB in use in bin. 17.39GiB client-requested in use in bin.\n",
      "2024-07-29 21:05:07.839270: I external/local_tsl/tsl/framework/bfc_allocator.cc:1067] Bin for 8.69GiB was 256.00MiB, Chunk State: \n",
      "2024-07-29 21:05:07.839282: I external/local_tsl/tsl/framework/bfc_allocator.cc:1073]   Size: 2.44GiB | Requested Size: 200.88MiB | in_use: 0 | bin_num: 20, prev:   Size: 8.70GiB | Requested Size: 8.70GiB | in_use: 1 | bin_num: -1\n",
      "2024-07-29 21:05:07.839289: I external/local_tsl/tsl/framework/bfc_allocator.cc:1080] Next region of size 21716467712\n",
      "2024-07-29 21:05:07.839297: I external/local_tsl/tsl/framework/bfc_allocator.cc:1100] InUse at 153d00000000 of size 256 next 1\n",
      "2024-07-29 21:05:07.839304: I external/local_tsl/tsl/framework/bfc_allocator.cc:1100] InUse at 153d00000100 of size 1280 next 2\n",
      "2024-07-29 21:05:07.839311: I external/local_tsl/tsl/framework/bfc_allocator.cc:1100] InUse at 153d00000600 of size 256 next 3\n",
      "2024-07-29 21:05:07.839318: I external/local_tsl/tsl/framework/bfc_allocator.cc:1100] InUse at 153d00000700 of size 256 next 4\n",
      "2024-07-29 21:05:07.839325: I external/local_tsl/tsl/framework/bfc_allocator.cc:1100] InUse at 153d00000800 of size 256 next 6\n",
      "2024-07-29 21:05:07.839332: I external/local_tsl/tsl/framework/bfc_allocator.cc:1100] InUse at 153d00000900 of size 256 next 7\n",
      "2024-07-29 21:05:07.839338: I external/local_tsl/tsl/framework/bfc_allocator.cc:1100] InUse at 153d00000a00 of size 256 next 5\n",
      "2024-07-29 21:05:07.839345: I external/local_tsl/tsl/framework/bfc_allocator.cc:1100] InUse at 153d00000b00 of size 256 next 8\n",
      "2024-07-29 21:05:07.839352: I external/local_tsl/tsl/framework/bfc_allocator.cc:1100] InUse at 153d00000c00 of size 256 next 13\n",
      "2024-07-29 21:05:07.839358: I external/local_tsl/tsl/framework/bfc_allocator.cc:1100] InUse at 153d00000d00 of size 256 next 11\n",
      "2024-07-29 21:05:07.839365: I external/local_tsl/tsl/framework/bfc_allocator.cc:1100] InUse at 153d00000e00 of size 256 next 12\n",
      "2024-07-29 21:05:07.839372: I external/local_tsl/tsl/framework/bfc_allocator.cc:1100] InUse at 153d00000f00 of size 256 next 18\n",
      "2024-07-29 21:05:07.839379: I external/local_tsl/tsl/framework/bfc_allocator.cc:1100] InUse at 153d00001000 of size 256 next 16\n",
      "2024-07-29 21:05:07.839385: I external/local_tsl/tsl/framework/bfc_allocator.cc:1100] InUse at 153d00001100 of size 256 next 17\n",
      "2024-07-29 21:05:07.839392: I external/local_tsl/tsl/framework/bfc_allocator.cc:1100] InUse at 153d00001200 of size 256 next 22\n",
      "2024-07-29 21:05:07.839399: I external/local_tsl/tsl/framework/bfc_allocator.cc:1100] InUse at 153d00001300 of size 256 next 21\n",
      "2024-07-29 21:05:07.839406: I external/local_tsl/tsl/framework/bfc_allocator.cc:1100] InUse at 153d00001400 of size 256 next 23\n",
      "2024-07-29 21:05:07.839414: I external/local_tsl/tsl/framework/bfc_allocator.cc:1100] InUse at 153d00001500 of size 256 next 24\n",
      "2024-07-29 21:05:07.839422: I external/local_tsl/tsl/framework/bfc_allocator.cc:1100] InUse at 153d00001600 of size 256 next 25\n",
      "2024-07-29 21:05:07.839431: I external/local_tsl/tsl/framework/bfc_allocator.cc:1100] InUse at 153d00001700 of size 256 next 26\n",
      "2024-07-29 21:05:07.839439: I external/local_tsl/tsl/framework/bfc_allocator.cc:1100] InUse at 153d00001800 of size 256 next 27\n",
      "2024-07-29 21:05:07.839448: I external/local_tsl/tsl/framework/bfc_allocator.cc:1100] InUse at 153d00001900 of size 256 next 28\n",
      "2024-07-29 21:05:07.839457: I external/local_tsl/tsl/framework/bfc_allocator.cc:1100] InUse at 153d00001a00 of size 256 next 34\n",
      "2024-07-29 21:05:07.839466: I external/local_tsl/tsl/framework/bfc_allocator.cc:1100] InUse at 153d00001b00 of size 256 next 32\n",
      "2024-07-29 21:05:07.839474: I external/local_tsl/tsl/framework/bfc_allocator.cc:1100] InUse at 153d00001c00 of size 256 next 33\n",
      "2024-07-29 21:05:07.839482: I external/local_tsl/tsl/framework/bfc_allocator.cc:1100] InUse at 153d00001d00 of size 256 next 36\n",
      "2024-07-29 21:05:07.839491: I external/local_tsl/tsl/framework/bfc_allocator.cc:1100] InUse at 153d00001e00 of size 256 next 37\n",
      "2024-07-29 21:05:07.839499: I external/local_tsl/tsl/framework/bfc_allocator.cc:1100] InUse at 153d00001f00 of size 256 next 40\n",
      "2024-07-29 21:05:07.839516: I external/local_tsl/tsl/framework/bfc_allocator.cc:1100] InUse at 153d00002000 of size 256 next 42\n",
      "2024-07-29 21:05:07.839524: I external/local_tsl/tsl/framework/bfc_allocator.cc:1100] InUse at 153d00002100 of size 256 next 43\n",
      "2024-07-29 21:05:07.839533: I external/local_tsl/tsl/framework/bfc_allocator.cc:1100] InUse at 153d00002200 of size 256 next 41\n",
      "2024-07-29 21:05:07.839541: I external/local_tsl/tsl/framework/bfc_allocator.cc:1100] InUse at 153d00002300 of size 256 next 44\n",
      "2024-07-29 21:05:07.839550: I external/local_tsl/tsl/framework/bfc_allocator.cc:1100] InUse at 153d00002400 of size 256 next 47\n",
      "2024-07-29 21:05:07.839558: I external/local_tsl/tsl/framework/bfc_allocator.cc:1100] InUse at 153d00002500 of size 256 next 48\n",
      "2024-07-29 21:05:07.839567: I external/local_tsl/tsl/framework/bfc_allocator.cc:1100] InUse at 153d00002600 of size 256 next 49\n",
      "2024-07-29 21:05:07.839575: I external/local_tsl/tsl/framework/bfc_allocator.cc:1100] InUse at 153d00002700 of size 256 next 50\n",
      "2024-07-29 21:05:07.839584: I external/local_tsl/tsl/framework/bfc_allocator.cc:1100] InUse at 153d00002800 of size 256 next 51\n",
      "2024-07-29 21:05:07.839593: I external/local_tsl/tsl/framework/bfc_allocator.cc:1100] InUse at 153d00002900 of size 256 next 52\n",
      "2024-07-29 21:05:07.839601: I external/local_tsl/tsl/framework/bfc_allocator.cc:1100] InUse at 153d00002a00 of size 256 next 53\n",
      "2024-07-29 21:05:07.839609: I external/local_tsl/tsl/framework/bfc_allocator.cc:1100] InUse at 153d00002b00 of size 256 next 58\n",
      "2024-07-29 21:05:07.839618: I external/local_tsl/tsl/framework/bfc_allocator.cc:1100] InUse at 153d00002c00 of size 256 next 59\n",
      "2024-07-29 21:05:07.839626: I external/local_tsl/tsl/framework/bfc_allocator.cc:1100] Free  at 153d00002d00 of size 256 next 56\n",
      "2024-07-29 21:05:07.839635: I external/local_tsl/tsl/framework/bfc_allocator.cc:1100] InUse at 153d00002e00 of size 1024 next 46\n",
      "2024-07-29 21:05:07.839645: I external/local_tsl/tsl/framework/bfc_allocator.cc:1100] InUse at 153d00003200 of size 1280 next 38\n",
      "2024-07-29 21:05:07.839653: I external/local_tsl/tsl/framework/bfc_allocator.cc:1100] InUse at 153d00003700 of size 19968 next 9\n",
      "2024-07-29 21:05:07.839663: I external/local_tsl/tsl/framework/bfc_allocator.cc:1100] Free  at 153d00008500 of size 5120 next 55\n",
      "2024-07-29 21:05:07.839671: I external/local_tsl/tsl/framework/bfc_allocator.cc:1100] InUse at 153d00009900 of size 768 next 57\n",
      "2024-07-29 21:05:07.839681: I external/local_tsl/tsl/framework/bfc_allocator.cc:1100] Free  at 153d00009c00 of size 768 next 62\n",
      "2024-07-29 21:05:07.839690: I external/local_tsl/tsl/framework/bfc_allocator.cc:1100] InUse at 153d00009f00 of size 768 next 60\n",
      "2024-07-29 21:05:07.839697: I external/local_tsl/tsl/framework/bfc_allocator.cc:1100] Free  at 153d0000a200 of size 65792 next 29\n",
      "2024-07-29 21:05:07.839705: I external/local_tsl/tsl/framework/bfc_allocator.cc:1100] InUse at 153d0001a300 of size 172800 next 31\n",
      "2024-07-29 21:05:07.839712: I external/local_tsl/tsl/framework/bfc_allocator.cc:1100] InUse at 153d00044600 of size 57600 next 30\n",
      "2024-07-29 21:05:07.839719: I external/local_tsl/tsl/framework/bfc_allocator.cc:1100] InUse at 153d00052700 of size 449280 next 15\n",
      "2024-07-29 21:05:07.839726: I external/local_tsl/tsl/framework/bfc_allocator.cc:1100] Free  at 153d000c0200 of size 368640 next 14\n",
      "2024-07-29 21:05:07.839733: I external/local_tsl/tsl/framework/bfc_allocator.cc:1100] InUse at 153d0011a200 of size 1843200 next 20\n",
      "2024-07-29 21:05:07.839740: I external/local_tsl/tsl/framework/bfc_allocator.cc:1100] InUse at 153d002dc200 of size 1658880 next 35\n",
      "2024-07-29 21:05:07.839747: I external/local_tsl/tsl/framework/bfc_allocator.cc:1100] InUse at 153d00471200 of size 991232 next 39\n",
      "2024-07-29 21:05:07.839755: I external/local_tsl/tsl/framework/bfc_allocator.cc:1100] InUse at 153d00563200 of size 921600 next 10\n",
      "2024-07-29 21:05:07.839762: I external/local_tsl/tsl/framework/bfc_allocator.cc:1100] InUse at 153d00644200 of size 4608000 next 19\n",
      "2024-07-29 21:05:07.839769: I external/local_tsl/tsl/framework/bfc_allocator.cc:1100] InUse at 153d00aa9200 of size 207360000 next 45\n",
      "2024-07-29 21:05:07.839776: I external/local_tsl/tsl/framework/bfc_allocator.cc:1100] InUse at 153d0d06a200 of size 207360000 next 61\n",
      "2024-07-29 21:05:07.839783: I external/local_tsl/tsl/framework/bfc_allocator.cc:1100] InUse at 153d1962b200 of size 9331200000 next 54\n",
      "2024-07-29 21:05:07.839790: I external/local_tsl/tsl/framework/bfc_allocator.cc:1100] InUse at 153f45918200 of size 9338112000 next 63\n",
      "2024-07-29 21:05:07.839798: I external/local_tsl/tsl/framework/bfc_allocator.cc:1100] Free  at 15417229ca00 of size 2621257216 next 18446744073709551615\n",
      "2024-07-29 21:05:07.839810: I external/local_tsl/tsl/framework/bfc_allocator.cc:1105]      Summary of in-use Chunks by size: \n",
      "2024-07-29 21:05:07.839819: I external/local_tsl/tsl/framework/bfc_allocator.cc:1108] 40 Chunks of size 256 totalling 10.0KiB\n",
      "2024-07-29 21:05:07.839826: I external/local_tsl/tsl/framework/bfc_allocator.cc:1108] 2 Chunks of size 768 totalling 1.5KiB\n",
      "2024-07-29 21:05:07.839834: I external/local_tsl/tsl/framework/bfc_allocator.cc:1108] 1 Chunks of size 1024 totalling 1.0KiB\n",
      "2024-07-29 21:05:07.839841: I external/local_tsl/tsl/framework/bfc_allocator.cc:1108] 2 Chunks of size 1280 totalling 2.5KiB\n",
      "2024-07-29 21:05:07.839849: I external/local_tsl/tsl/framework/bfc_allocator.cc:1108] 1 Chunks of size 19968 totalling 19.5KiB\n",
      "2024-07-29 21:05:07.839857: I external/local_tsl/tsl/framework/bfc_allocator.cc:1108] 1 Chunks of size 57600 totalling 56.2KiB\n",
      "2024-07-29 21:05:07.839864: I external/local_tsl/tsl/framework/bfc_allocator.cc:1108] 1 Chunks of size 172800 totalling 168.8KiB\n",
      "2024-07-29 21:05:07.839872: I external/local_tsl/tsl/framework/bfc_allocator.cc:1108] 1 Chunks of size 449280 totalling 438.8KiB\n",
      "2024-07-29 21:05:07.839880: I external/local_tsl/tsl/framework/bfc_allocator.cc:1108] 1 Chunks of size 921600 totalling 900.0KiB\n",
      "2024-07-29 21:05:07.839887: I external/local_tsl/tsl/framework/bfc_allocator.cc:1108] 1 Chunks of size 991232 totalling 968.0KiB\n",
      "2024-07-29 21:05:07.839895: I external/local_tsl/tsl/framework/bfc_allocator.cc:1108] 1 Chunks of size 1658880 totalling 1.58MiB\n",
      "2024-07-29 21:05:07.839902: I external/local_tsl/tsl/framework/bfc_allocator.cc:1108] 1 Chunks of size 1843200 totalling 1.76MiB\n",
      "2024-07-29 21:05:07.839910: I external/local_tsl/tsl/framework/bfc_allocator.cc:1108] 1 Chunks of size 4608000 totalling 4.39MiB\n",
      "2024-07-29 21:05:07.839917: I external/local_tsl/tsl/framework/bfc_allocator.cc:1108] 2 Chunks of size 207360000 totalling 395.51MiB\n",
      "2024-07-29 21:05:07.839925: I external/local_tsl/tsl/framework/bfc_allocator.cc:1108] 1 Chunks of size 9331200000 totalling 8.69GiB\n",
      "2024-07-29 21:05:07.839932: I external/local_tsl/tsl/framework/bfc_allocator.cc:1108] 1 Chunks of size 9338112000 totalling 8.70GiB\n",
      "2024-07-29 21:05:07.839940: I external/local_tsl/tsl/framework/bfc_allocator.cc:1112] Sum Total of in-use chunks: 17.78GiB\n",
      "2024-07-29 21:05:07.839947: I external/local_tsl/tsl/framework/bfc_allocator.cc:1114] Total bytes in pool: 21716467712 memory_limit_: 21716467712 available bytes: 0 curr_region_allocation_bytes_: 43432935424\n",
      "2024-07-29 21:05:07.839958: I external/local_tsl/tsl/framework/bfc_allocator.cc:1119] Stats: \n",
      "Limit:                     21716467712\n",
      "InUse:                     19094769920\n",
      "MaxInUse:                  19098052352\n",
      "NumAllocs:                         226\n",
      "MaxAllocSize:               9338112000\n",
      "Reserved:                            0\n",
      "PeakReserved:                        0\n",
      "LargestFreeBlock:                    0\n",
      "\n",
      "2024-07-29 21:05:07.839967: W external/local_tsl/tsl/framework/bfc_allocator.cc:499] ****************************************************************************************____________\n",
      "2024-07-29 21:05:07.839990: W tensorflow/core/framework/op_kernel.cc:1839] OP_REQUIRES failed at conv_grad_input_ops.cc:412 : RESOURCE_EXHAUSTED: OOM when allocating tensor with shape[80,675,1350,32] and type float on /job:localhost/replica:0/task:0/device:GPU:0 by allocator GPU_0_bfc\n",
      "2024-07-29 21:05:07.840028: W tensorflow/core/framework/local_rendezvous.cc:404] Local rendezvous is aborting with status: RESOURCE_EXHAUSTED: OOM when allocating tensor with shape[80,675,1350,32] and type float on /job:localhost/replica:0/task:0/device:GPU:0 by allocator GPU_0_bfc\n"
     ]
    },
    {
     "ename": "ResourceExhaustedError",
     "evalue": "Exception encountered when calling Conv2DTranspose.call().\n\n\u001b[1m{{function_node __wrapped__Conv2DBackpropInput_device_/job:localhost/replica:0/task:0/device:GPU:0}} OOM when allocating tensor with shape[80,675,1350,32] and type float on /job:localhost/replica:0/task:0/device:GPU:0 by allocator GPU_0_bfc [Op:Conv2DBackpropInput]\u001b[0m\n\nArguments received by Conv2DTranspose.call():\n  • inputs=tf.Tensor(shape=(80, 75, 135, 64), dtype=float32)",
     "output_type": "error",
     "traceback": [
      "\u001b[0;31m---------------------------------------------------------------------------\u001b[0m",
      "\u001b[0;31mResourceExhaustedError\u001b[0m                    Traceback (most recent call last)",
      "Cell \u001b[0;32mIn[10], line 2\u001b[0m\n\u001b[1;32m      1\u001b[0m z_mean, z_log_var, z \u001b[38;5;241m=\u001b[39m vae\u001b[38;5;241m.\u001b[39mencoder(slp\u001b[38;5;241m.\u001b[39mastype(\u001b[38;5;124m'\u001b[39m\u001b[38;5;124mfloat16\u001b[39m\u001b[38;5;124m'\u001b[39m))\n\u001b[0;32m----> 2\u001b[0m sample_output_images \u001b[38;5;241m=\u001b[39m \u001b[43mvae\u001b[49m\u001b[38;5;241;43m.\u001b[39;49m\u001b[43mdecoder\u001b[49m\u001b[43m(\u001b[49m\u001b[43mz\u001b[49m\u001b[43m)\u001b[49m\n",
      "File \u001b[0;32m~/pw/.miniconda3c/envs/cvae_env/lib/python3.9/site-packages/keras/src/utils/traceback_utils.py:122\u001b[0m, in \u001b[0;36mfilter_traceback.<locals>.error_handler\u001b[0;34m(*args, **kwargs)\u001b[0m\n\u001b[1;32m    119\u001b[0m     filtered_tb \u001b[38;5;241m=\u001b[39m _process_traceback_frames(e\u001b[38;5;241m.\u001b[39m__traceback__)\n\u001b[1;32m    120\u001b[0m     \u001b[38;5;66;03m# To get the full stack trace, call:\u001b[39;00m\n\u001b[1;32m    121\u001b[0m     \u001b[38;5;66;03m# `keras.config.disable_traceback_filtering()`\u001b[39;00m\n\u001b[0;32m--> 122\u001b[0m     \u001b[38;5;28;01mraise\u001b[39;00m e\u001b[38;5;241m.\u001b[39mwith_traceback(filtered_tb) \u001b[38;5;28;01mfrom\u001b[39;00m \u001b[38;5;28;01mNone\u001b[39;00m\n\u001b[1;32m    123\u001b[0m \u001b[38;5;28;01mfinally\u001b[39;00m:\n\u001b[1;32m    124\u001b[0m     \u001b[38;5;28;01mdel\u001b[39;00m filtered_tb\n",
      "File \u001b[0;32m~/pw/.miniconda3c/envs/cvae_env/lib/python3.9/site-packages/tensorflow/python/eager/execute.py:53\u001b[0m, in \u001b[0;36mquick_execute\u001b[0;34m(op_name, num_outputs, inputs, attrs, ctx, name)\u001b[0m\n\u001b[1;32m     51\u001b[0m \u001b[38;5;28;01mtry\u001b[39;00m:\n\u001b[1;32m     52\u001b[0m   ctx\u001b[38;5;241m.\u001b[39mensure_initialized()\n\u001b[0;32m---> 53\u001b[0m   tensors \u001b[38;5;241m=\u001b[39m pywrap_tfe\u001b[38;5;241m.\u001b[39mTFE_Py_Execute(ctx\u001b[38;5;241m.\u001b[39m_handle, device_name, op_name,\n\u001b[1;32m     54\u001b[0m                                       inputs, attrs, num_outputs)\n\u001b[1;32m     55\u001b[0m \u001b[38;5;28;01mexcept\u001b[39;00m core\u001b[38;5;241m.\u001b[39m_NotOkStatusException \u001b[38;5;28;01mas\u001b[39;00m e:\n\u001b[1;32m     56\u001b[0m   \u001b[38;5;28;01mif\u001b[39;00m name \u001b[38;5;129;01mis\u001b[39;00m \u001b[38;5;129;01mnot\u001b[39;00m \u001b[38;5;28;01mNone\u001b[39;00m:\n",
      "\u001b[0;31mResourceExhaustedError\u001b[0m: Exception encountered when calling Conv2DTranspose.call().\n\n\u001b[1m{{function_node __wrapped__Conv2DBackpropInput_device_/job:localhost/replica:0/task:0/device:GPU:0}} OOM when allocating tensor with shape[80,675,1350,32] and type float on /job:localhost/replica:0/task:0/device:GPU:0 by allocator GPU_0_bfc [Op:Conv2DBackpropInput]\u001b[0m\n\nArguments received by Conv2DTranspose.call():\n  • inputs=tf.Tensor(shape=(80, 75, 135, 64), dtype=float32)"
     ]
    }
   ],
   "source": [
    "z_mean, z_log_var, z = vae.encoder(slp.astype('float16'))\n",
    "sample_output_images = vae.decoder(z)"
   ]
  },
  {
   "cell_type": "markdown",
   "metadata": {},
   "source": [
    "# Encode, perturb, and decode"
   ]
  },
  {
   "cell_type": "code",
   "execution_count": null,
   "metadata": {},
   "outputs": [],
   "source": [
    "print(tf.executing_eagerly())\n",
    "#tf.compat.v1.enable_eager_execution()\n",
    "\n",
    "# Plot setup\n",
    "#fig, ax = plt.subplots(figsize=(9,6))\n",
    "fig = plt.figure(figsize=(9,6))\n",
    "ax = plt.axes(projection = cartopy.crs.LambertConformal())\n",
    "ax.add_feature(cartopy.feature.LAND)\n",
    "ax.add_feature(cartopy.feature.OCEAN)\n",
    "ax.add_feature(cartopy.feature.LAKES, alpha = 0.5)\n",
    "ax.add_feature(cartopy.feature.STATES, edgecolor='grey')\n",
    "\n",
    "# Plot each one\n",
    "for i, image in enumerate(sample_output_images):\n",
    "    if i == 0 :\n",
    "        print('Filtering...')\n",
    "        filtered = gf(np.squeeze(image)*120000/100, [3,3], mode='constant')\n",
    "        print(np.mean(filtered))\n",
    "        print(np.std(filtered))\n",
    "        #plt.pcolor(x,y,np.squeeze(image)*120000/100,shading='auto')\n",
    "            #transform = cartopy.crs.PlateCarree(),shading='auto')\n",
    "        print('Contour plotting...')\n",
    "        plt.contour(x,y,filtered,\n",
    "            transform = cartopy.crs.PlateCarree(),\n",
    "            levels=[980,990,1000,1010,1015,1020,1025,1030,1035,1040,1045,1050],colors='r',linewidths=1)   \n",
    "\n",
    "# Plot original\n",
    "print('Filtering...')\n",
    "filtered = gf(np.squeeze(slp[0,:,:,0])*120000/100, [3,3], mode='constant')\n",
    "print('Contour plotting...')\n",
    "plt.contour(x,y,filtered,\n",
    "             transform = cartopy.crs.PlateCarree(),\n",
    "             levels=[980,990,1000,1010,1015,1020,1025,1030,1035,1040,1045,1050],colors='k',linewidths=2)\n",
    "\n",
    "#plt.title('GEFSv12 Re-forecast SLP 990hPa 2018 01 10 0000 UTC Cycle')\n",
    "#ax.set_extent([-120, -73, 23, 50])\n",
    "ax.set_extent([-150, -60, 20, 65])\n",
    "#ax.set_xlim([-150,-60])\n",
    "#ax.set_ylim([20,65])\n",
    "#plt.colorbar()\n",
    "plt.show()"
   ]
  },
  {
   "cell_type": "markdown",
   "metadata": {},
   "source": [
    "# Perturb current state"
   ]
  },
  {
   "cell_type": "code",
   "execution_count": null,
   "metadata": {},
   "outputs": [],
   "source": [
    "perturbed_images_high = vae.decoder(z_mean + z_log_var)\n",
    "perturbed_images_low = vae.decoder(z_mean - z_log_var)\n",
    "\n",
    "print(tf.executing_eagerly())\n",
    "#tf.compat.v1.enable_eager_execution()\n",
    "\n",
    "# Plot setup\n",
    "fig = plt.figure(figsize=(9,6))\n",
    "ax = plt.axes(projection = cartopy.crs.LambertConformal())\n",
    "ax.add_feature(cartopy.feature.LAND)\n",
    "ax.add_feature(cartopy.feature.OCEAN)\n",
    "ax.add_feature(cartopy.feature.LAKES, alpha = 0.5)\n",
    "ax.add_feature(cartopy.feature.STATES, edgecolor='grey')\n",
    "\n",
    "# Plot each one\n",
    "for i, image in enumerate(perturbed_images_high):\n",
    "    if i == 0 :\n",
    "        print('Filtering...')\n",
    "        filtered = gf(np.squeeze(image)*120000/100, [3,3], mode='constant')\n",
    "        print('Contour plotting...')\n",
    "        plt.contour(x,y,filtered,\n",
    "            transform = cartopy.crs.PlateCarree(),\n",
    "            levels=[980,990,1000,1010,1015,1020,1025,1030,1035,1040,1045,1050],colors='r',linewidths=1)   \n",
    "\n",
    "# Plot each one\n",
    "for i, image in enumerate(perturbed_images_low):\n",
    "    if i == 0 :\n",
    "        print('Filtering...')\n",
    "        filtered = gf(np.squeeze(image)*120000/100, [3,3], mode='constant')\n",
    "        print('Contour plotting...')\n",
    "        plt.contour(x,y,filtered,\n",
    "            transform = cartopy.crs.PlateCarree(),\n",
    "            levels=[980,990,1000,1010,1015,1020,1025,1030,1035,1040,1045,1050],colors='b',linewidths=1)   \n",
    "    \n",
    "# Plot original\n",
    "plt.contour(x,y,np.squeeze(slp[0,:,:,0])*120000/100,\n",
    "             transform = cartopy.crs.PlateCarree(),\n",
    "             levels=[980,990,1000,1010,1015,1020,1025,1030,1035,1040,1045,1050],colors='k',linewidths=2)\n",
    "\n",
    "plt.title('GEFSv12 Re-forecast SLP 990hPa 2018 01 10 0000 UTC Cycle')\n",
    "#ax.set_extent([-120, -73, 23, 50])\n",
    "ax.set_extent([-150, -60, 20, 65])\n",
    "#plt.colorbar()\n",
    "plt.show()"
   ]
  },
  {
   "cell_type": "markdown",
   "metadata": {},
   "source": [
    "# Generate totally random weather maps"
   ]
  },
  {
   "cell_type": "code",
   "execution_count": null,
   "metadata": {},
   "outputs": [],
   "source": [
    "codings = tf.random.normal(shape = [12, latent_dim])\n",
    "images = vae.decoder(codings).numpy()\n",
    "\n",
    "# Plot setup\n",
    "fig = plt.figure(figsize=(9,6))\n",
    "ax = plt.axes(projection = cartopy.crs.LambertConformal())\n",
    "ax.add_feature(cartopy.feature.LAND)\n",
    "ax.add_feature(cartopy.feature.OCEAN)\n",
    "ax.add_feature(cartopy.feature.LAKES, alpha = 0.5)\n",
    "ax.add_feature(cartopy.feature.STATES, edgecolor='grey')\n",
    "\n",
    "# Plot each one\n",
    "for i, image in enumerate(images):\n",
    "    print('Filtering...')\n",
    "    filtered = gf(np.squeeze(image)*120000/100, [5,5], mode='constant')\n",
    "    plt.contour(x,y,filtered,\n",
    "        transform = cartopy.crs.PlateCarree(),\n",
    "        levels=[970,980,990,1000,1010,1015,1020,1025,1030,1040,1050,1060],colors='k',linewidths=1)\n",
    "        \n",
    "#plt.title('Random MSL pressure maps from ML model trained with GEFSv12 Re-forecast 2018-2019')\n",
    "#ax.set_extent([-120, -73, 23, 50])\n",
    "ax.set_extent([-150, -60, 20, 65])\n",
    "#plt.colorbar()\n",
    "plt.show()"
   ]
  },
  {
   "cell_type": "code",
   "execution_count": null,
   "metadata": {},
   "outputs": [],
   "source": [
    "print(latent_dim)"
   ]
  }
 ],
 "metadata": {
  "kernelspec": {
   "display_name": "Python [conda env:cvae_env]",
   "language": "python",
   "name": "conda-env-cvae_env-py"
  },
  "language_info": {
   "codemirror_mode": {
    "name": "ipython",
    "version": 3
   },
   "file_extension": ".py",
   "mimetype": "text/x-python",
   "name": "python",
   "nbconvert_exporter": "python",
   "pygments_lexer": "ipython3",
   "version": "3.9.18"
  }
 },
 "nbformat": 4,
 "nbformat_minor": 4
}
