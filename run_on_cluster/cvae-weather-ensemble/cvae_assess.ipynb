{
 "cells": [
  {
   "cell_type": "markdown",
   "metadata": {},
   "source": [
    "# Demo using a trained CVAE model\n",
    "The goal here is to use a trained CVAE model with new data to create synthetic ensemble members."
   ]
  },
  {
   "cell_type": "markdown",
   "metadata": {},
   "source": [
    "# Libraries"
   ]
  },
  {
   "cell_type": "code",
   "execution_count": null,
   "metadata": {},
   "outputs": [],
   "source": [
    "import tensorflow as tf\n",
    "tf.compat.v1.enable_eager_execution()\n",
    "\n",
    "import os, json\n",
    "import pickle5\n",
    "import numpy as np\n",
    "import pandas as pd\n",
    "from scipy.ndimage.filters import gaussian_filter as gf\n",
    "\n",
    "from tensorflow import keras\n",
    "from tensorflow.keras import layers\n",
    "import cProfile   # For eager execution, https://www.tensorflow.org/guide/eager\n",
    "from sklearn.model_selection import train_test_split\n",
    "\n",
    "import matplotlib.pyplot as plt\n",
    "\n",
    "import cartopy\n",
    "\n",
    "from cvae import Sampling, build_encoder, calculate_final_shape, calculate_output_paddings\n",
    "from cvae import build_decoder, VAE, plot_latent_space, plot_images"
   ]
  },
  {
   "cell_type": "code",
   "execution_count": null,
   "metadata": {},
   "outputs": [],
   "source": [
    "from scripts.get_data import download_file\n",
    "from scripts.get_data import convert_file\n",
    "from scripts.get_data import subset_file\n",
    "from scripts.get_data import remove_data # removes all data\n",
    "\n",
    "# data loading\n",
    "def load_data(data_dir):      \n",
    "    files = [f for f in os.listdir(data_dir)] # if ('subset' in f and 'tmp' not in f)]\n",
    "    \n",
    "    all_data = ((np.expand_dims(\n",
    "        np.concatenate(\n",
    "            [netCDF4.Dataset(data_dir + converted_file)['msl'][:] for converted_file in files]\n",
    "        ),\n",
    "        -1\n",
    "    ).astype(\"float32\") - 85000) / (110000 - 85000)).astype(\"float16\")\n",
    "    \n",
    "    return all_data"
   ]
  },
  {
   "cell_type": "markdown",
   "metadata": {},
   "source": [
    "# Load and preprocess the input data\n",
    "The standard way of manipulating arrays in Conv2D layers in TF is to use arrays in the shape:\n",
    "`batch_size,  height, width, channels = data.shape`\n",
    "In our case, the the `batch_size` is the number of image frames (i.e. separate samples or rows in a `.csv` file), the `height` and `width` define the size of the image frame in number of pixels, and the `channels` are the number of layers in the frames.  Typically, channels are color layers (e.g. RGB or CMYK) but in our case, we could use different metereological variables.  However, for this first experiment, **we only need one channel** because we're only going to use sea level pressure (SLP).\n",
    "\n",
    "The code for loading GEFS `.grib` files and making an initial plot is from [Victor Gensini's example](https://github.com/vgensini/gefs_v12_example/blob/master/GEFS_v12_eample.ipynb) posted on the GEFS Open Data Registry landing page."
   ]
  },
  {
   "cell_type": "code",
   "execution_count": null,
   "metadata": {},
   "outputs": [],
   "source": [
    "# example parameters\n",
    "ex_year = \"2018\"\n",
    "ex_month = \"01\"\n",
    "ex_day = \"01\"\n",
    "ex_ensemble = \"c00\""
   ]
  },
  {
   "cell_type": "code",
   "execution_count": null,
   "metadata": {},
   "outputs": [],
   "source": [
    "# example for getting and converting files \n",
    "download_file(ex_year, ex_month, ex_day, ex_ensemble, data_pdir)\n",
    "convert_file(ex_year, ex_month, ex_day, ex_ensemble, data_dir)\n",
    "slp = load_data(data_dir)"
   ]
  },
  {
   "cell_type": "code",
   "execution_count": null,
   "metadata": {},
   "outputs": [],
   "source": [
    "# look at data structure\n",
    "print(np.shape(slp))"
   ]
  },
  {
   "cell_type": "code",
   "execution_count": null,
   "metadata": {},
   "outputs": [],
   "source": [
    "# grid point locations\n",
    "lons = np.loadtxt('coordinates/lon.x')\n",
    "lats = np.loadtxt('coordinates/lat.y')\n",
    "\n",
    "x, y = np.meshgrid(lons,lats)\n",
    "\n",
    "np.shape(x)"
   ]
  },
  {
   "cell_type": "code",
   "execution_count": null,
   "metadata": {},
   "outputs": [],
   "source": [
    "# example for plot\n",
    "fig = plt.figure(figsize=(9,6))\n",
    "ax = plt.axes(projection = cartopy.crs.LambertConformal())\n",
    "ax.add_feature(cartopy.feature.LAND)\n",
    "ax.add_feature(cartopy.feature.OCEAN)\n",
    "ax.add_feature(cartopy.feature.LAKES, alpha = 0.5)\n",
    "ax.add_feature(cartopy.feature.STATES, edgecolor='grey')\n",
    "plt.contour(x,y,np.squeeze(slp[0,:,:,0])*120000/100,\n",
    "             transform = cartopy.crs.PlateCarree(),\n",
    "             levels=[970,975,980,985,990,995,1000,1005,1010,1015,1020,1025,1030,1035,1040,1045,1050,1055,1060],colors='k')\n",
    "plt.title('GEFSv12 MSL 2017 01 01 0000 UTC')\n",
    "#ax.set_extent([-120, -73, 23, 50])\n",
    "ax.set_extent([-150, -60, 20, 65])\n",
    "#plt.colorbar()\n",
    "plt.show()"
   ]
  },
  {
   "cell_type": "markdown",
   "metadata": {},
   "source": [
    "# Load ML model"
   ]
  },
  {
   "cell_type": "code",
   "execution_count": null,
   "metadata": {},
   "outputs": [],
   "source": [
    "# key CVAE definition parameters\n",
    "latent_dim = 3\n",
    "n_conv_layers = 4\n",
    "stride = 2\n",
    "kernel_size = 3\n",
    "batch_size, height, width, channels = slp.shape\n",
    "\n",
    "encoder = build_encoder(latent_dim, height, width, channels, n_conv_layers, kernel_size, stride, base_filters = 16)\n",
    "decoder = build_decoder(latent_dim, height, width, channels, n_conv_layers, kernel_size, stride, base_filters = 16)\n",
    "vae = VAE(encoder, decoder, height * width)\n",
    "vae.compile(optimizer='rmsprop')\n",
    "vae.load_weights(os.path.join('model_dir', 'vae.weights.h5'))"
   ]
  },
  {
   "cell_type": "markdown",
   "metadata": {},
   "source": [
    "# Encode, perturb, and decode"
   ]
  },
  {
   "cell_type": "code",
   "execution_count": null,
   "metadata": {},
   "outputs": [],
   "source": [
    "z_mean, z_log_var, z = vae.encoder(slp.astype('float32'))\n",
    "sample_output_images = vae.decoder(z)"
   ]
  },
  {
   "cell_type": "code",
   "execution_count": null,
   "metadata": {},
   "outputs": [],
   "source": [
    "print(tf.executing_eagerly())\n",
    "#tf.compat.v1.enable_eager_execution()\n",
    "\n",
    "# Plot setup\n",
    "#fig, ax = plt.subplots(figsize=(9,6))\n",
    "fig = plt.figure(figsize=(9,6))\n",
    "ax = plt.axes(projection = cartopy.crs.LambertConformal())\n",
    "ax.add_feature(cartopy.feature.LAND)\n",
    "ax.add_feature(cartopy.feature.OCEAN)\n",
    "ax.add_feature(cartopy.feature.LAKES, alpha = 0.5)\n",
    "ax.add_feature(cartopy.feature.STATES, edgecolor='grey')\n",
    "\n",
    "# Plot each one\n",
    "for i, image in enumerate(sample_output_images):\n",
    "    if i == 0 :\n",
    "        print('Filtering...')\n",
    "        filtered = gf(np.squeeze(image)*120000/100, [3,3], mode='constant')\n",
    "        print(np.mean(filtered))\n",
    "        print(np.std(filtered))\n",
    "        #plt.pcolor(x,y,np.squeeze(image)*120000/100,shading='auto')\n",
    "            #transform = cartopy.crs.PlateCarree(),shading='auto')\n",
    "        print('Contour plotting...')\n",
    "        plt.contour(x,y,filtered,\n",
    "            transform = cartopy.crs.PlateCarree(),\n",
    "            levels=[980,990,1000,1010,1015,1020,1025,1030,1035,1040,1045,1050],colors='r',linewidths=1)   \n",
    "\n",
    "# Plot original\n",
    "print('Filtering...')\n",
    "filtered = gf(np.squeeze(slp[0,:,:,0])*120000/100, [3,3], mode='constant')\n",
    "print('Contour plotting...')\n",
    "plt.contour(x,y,filtered,\n",
    "             transform = cartopy.crs.PlateCarree(),\n",
    "             levels=[980,990,1000,1010,1015,1020,1025,1030,1035,1040,1045,1050],colors='k',linewidths=2)\n",
    "\n",
    "#plt.title('GEFSv12 Re-forecast SLP 990hPa 2018 01 10 0000 UTC Cycle')\n",
    "#ax.set_extent([-120, -73, 23, 50])\n",
    "ax.set_extent([-150, -60, 20, 65])\n",
    "#ax.set_xlim([-150,-60])\n",
    "#ax.set_ylim([20,65])\n",
    "#plt.colorbar()\n",
    "plt.show()"
   ]
  },
  {
   "cell_type": "markdown",
   "metadata": {},
   "source": [
    "# Perturb current state"
   ]
  },
  {
   "cell_type": "code",
   "execution_count": null,
   "metadata": {},
   "outputs": [],
   "source": [
    "perturbed_images_high = vae.decoder(z_mean + z_log_var)\n",
    "perturbed_images_low = vae.decoder(z_mean - z_log_var)\n",
    "\n",
    "print(tf.executing_eagerly())\n",
    "#tf.compat.v1.enable_eager_execution()\n",
    "\n",
    "# Plot setup\n",
    "fig = plt.figure(figsize=(9,6))\n",
    "ax = plt.axes(projection = cartopy.crs.LambertConformal())\n",
    "ax.add_feature(cartopy.feature.LAND)\n",
    "ax.add_feature(cartopy.feature.OCEAN)\n",
    "ax.add_feature(cartopy.feature.LAKES, alpha = 0.5)\n",
    "ax.add_feature(cartopy.feature.STATES, edgecolor='grey')\n",
    "\n",
    "# Plot each one\n",
    "for i, image in enumerate(perturbed_images_high):\n",
    "    if i == 0 :\n",
    "        print('Filtering...')\n",
    "        filtered = gf(np.squeeze(image)*120000/100, [3,3], mode='constant')\n",
    "        print('Contour plotting...')\n",
    "        plt.contour(x,y,filtered,\n",
    "            transform = cartopy.crs.PlateCarree(),\n",
    "            levels=[980,990,1000,1010,1015,1020,1025,1030,1035,1040,1045,1050],colors='r',linewidths=1)   \n",
    "\n",
    "# Plot each one\n",
    "for i, image in enumerate(perturbed_images_low):\n",
    "    if i == 0 :\n",
    "        print('Filtering...')\n",
    "        filtered = gf(np.squeeze(image)*120000/100, [3,3], mode='constant')\n",
    "        print('Contour plotting...')\n",
    "        plt.contour(x,y,filtered,\n",
    "            transform = cartopy.crs.PlateCarree(),\n",
    "            levels=[980,990,1000,1010,1015,1020,1025,1030,1035,1040,1045,1050],colors='b',linewidths=1)   \n",
    "    \n",
    "# Plot original\n",
    "plt.contour(x,y,np.squeeze(slp[0,:,:,0])*120000/100,\n",
    "             transform = cartopy.crs.PlateCarree(),\n",
    "             levels=[980,990,1000,1010,1015,1020,1025,1030,1035,1040,1045,1050],colors='k',linewidths=2)\n",
    "\n",
    "plt.title('GEFSv12 Re-forecast SLP 990hPa 2018 01 10 0000 UTC Cycle')\n",
    "#ax.set_extent([-120, -73, 23, 50])\n",
    "ax.set_extent([-150, -60, 20, 65])\n",
    "#plt.colorbar()\n",
    "plt.show()"
   ]
  },
  {
   "cell_type": "markdown",
   "metadata": {},
   "source": [
    "# Generate totally random weather maps"
   ]
  },
  {
   "cell_type": "code",
   "execution_count": null,
   "metadata": {},
   "outputs": [],
   "source": [
    "codings = tf.random.normal(shape = [12, latent_dim])\n",
    "images = vae.decoder(codings).numpy()\n",
    "\n",
    "# Plot setup\n",
    "fig = plt.figure(figsize=(9,6))\n",
    "ax = plt.axes(projection = cartopy.crs.LambertConformal())\n",
    "ax.add_feature(cartopy.feature.LAND)\n",
    "ax.add_feature(cartopy.feature.OCEAN)\n",
    "ax.add_feature(cartopy.feature.LAKES, alpha = 0.5)\n",
    "ax.add_feature(cartopy.feature.STATES, edgecolor='grey')\n",
    "\n",
    "# Plot each one\n",
    "for i, image in enumerate(images):\n",
    "    print('Filtering...')\n",
    "    filtered = gf(np.squeeze(image)*120000/100, [5,5], mode='constant')\n",
    "    plt.contour(x,y,filtered,\n",
    "        transform = cartopy.crs.PlateCarree(),\n",
    "        levels=[970,980,990,1000,1010,1015,1020,1025,1030,1040,1050,1060],colors='k',linewidths=1)\n",
    "        \n",
    "#plt.title('Random MSL pressure maps from ML model trained with GEFSv12 Re-forecast 2018-2019')\n",
    "#ax.set_extent([-120, -73, 23, 50])\n",
    "ax.set_extent([-150, -60, 20, 65])\n",
    "#plt.colorbar()\n",
    "plt.show()"
   ]
  },
  {
   "cell_type": "code",
   "execution_count": null,
   "metadata": {},
   "outputs": [],
   "source": [
    "print(latent_dim)"
   ]
  }
 ],
 "metadata": {
  "kernelspec": {
   "display_name": "Python 3 (ipykernel)",
   "language": "python",
   "name": "python3"
  },
  "language_info": {
   "codemirror_mode": {
    "name": "ipython",
    "version": 3
   },
   "file_extension": ".py",
   "mimetype": "text/x-python",
   "name": "python",
   "nbconvert_exporter": "python",
   "pygments_lexer": "ipython3",
   "version": "3.11.5"
  }
 },
 "nbformat": 4,
 "nbformat_minor": 4
}
