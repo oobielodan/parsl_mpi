{
 "cells": [
  {
   "cell_type": "markdown",
   "metadata": {},
   "source": [
    "# Demo using CVAE on CORE2 data\n",
    "This is based on an example from Keras.io by fchollet.  Please see last cell for original code and links.\n",
    "\n",
    "# Conda env setup\n",
    "The following packages need to be installed in the following order on top of a typical base Conda env:\n",
    "```bash\n",
    "conda install -y -c conda-forge tensorflow\n",
    "conda install -y -c conda-forge netCDF4          # For reading nc files\n",
    "conda install -y -c conda-forge cartopy          # For making maps\n",
    "conda install -y -c conda-forge matplotlib\n",
    "conda install -y -c conda-forge pandas\n",
    "conda install -y -c conda-forge scikit-learn\n",
    "conda install -y -c conda-forge cdo              # For converting grib to nc\n",
    "\n",
    "# conda install -y -c dask                       # Needed for pynio (but not explicitly listed in req's!)\n",
    "```"
   ]
  },
  {
   "cell_type": "markdown",
   "metadata": {},
   "source": [
    "# Download and convert data\n",
    "On my [first Google hit for GEFS](https://www.ncei.noaa.gov/products/weather-climate-models/global-ensemble-forecast), I clicked on [AWS Open Data Registry for GEFS](https://registry.opendata.aws/noaa-gefs-pds/) and selected [NOAA GEFS Re-forecast](https://registry.opendata.aws/noaa-gefs-reforecast/) which has no useage restrictions.  The [GEFS Re-forecast data documentation](https://noaa-gefs-retrospective.s3.amazonaws.com/Description_of_reforecast_data.pdf) is very clear and we're going to download two files, 57 MB each.  The date of the initialization of the re-forecast is in the file name in the format YYYYMMDDHH.  The c00, p01, p02, p03, p04 are the control and perturbation ensemble members (5 total)."
   ]
  },
  {
   "cell_type": "code",
   "execution_count": null,
   "metadata": {
    "tags": []
   },
   "outputs": [],
   "source": [
    "data_prefix = \"./gefs_data\""
   ]
  },
  {
   "cell_type": "code",
   "execution_count": null,
   "metadata": {
    "tags": []
   },
   "outputs": [],
   "source": [
    "!wget -q -P {data_prefix} https://noaa-gefs-retrospective.s3.amazonaws.com/GEFSv12/reforecast/2019/2019010100/c00/Days%3A1-10/pres_msl_2019010100_c00.grib2"
   ]
  },
  {
   "cell_type": "code",
   "execution_count": null,
   "metadata": {
    "tags": []
   },
   "outputs": [],
   "source": [
    "!wget -q -P {data_prefix} https://noaa-gefs-retrospective.s3.amazonaws.com/GEFSv12/reforecast/2019/2019010200/c00/Days%3A1-10/pres_msl_2019010200_c00.grib2"
   ]
  },
  {
   "cell_type": "code",
   "execution_count": null,
   "metadata": {
    "tags": []
   },
   "outputs": [],
   "source": [
    "!csh batch_grib2nc.csh"
   ]
  },
  {
   "cell_type": "markdown",
   "metadata": {},
   "source": [
    "# Libraries"
   ]
  },
  {
   "cell_type": "code",
   "execution_count": 2,
   "metadata": {
    "tags": []
   },
   "outputs": [],
   "source": [
    "import os, json\n",
    "\n",
    "import numpy as np\n",
    "import pandas as pd\n",
    "\n",
    "import matplotlib.pyplot as plt\n",
    "import tensorflow as tf\n",
    "import netCDF4\n",
    "import cartopy\n",
    "\n",
    "from tensorflow import keras\n",
    "from keras import layers\n",
    "from sklearn.model_selection import train_test_split"
   ]
  },
  {
   "cell_type": "markdown",
   "metadata": {},
   "source": [
    "# Load and preprocess the training data\n",
    "The standard way of manipulating arrays in Conv2D layers in TF is to use arrays in the shape:\n",
    "`batch_size,  height, width, channels = data.shape`\n",
    "In our case, the the `batch_size` is the number of image frames (i.e. separate samples or rows in a `.csv` file), the `height` and `width` define the size of the image frame in number of pixels, and the `channels` are the number of layers in the frames.  Typically, channels are color layers (e.g. RGB or CMYK) but in our case, we could use different metereological variables.  However, for this first experiment, **we only need one channel** because we're only going to use sea level pressure (SLP).\n",
    "\n",
    "The code for loading GEFS `.grib` files and making an initial plot is from [Victor Gensini's example](https://github.com/vgensini/gefs_v12_example/blob/master/GEFS_v12_eample.ipynb) posted on the GEFS Open Data Registry landing page."
   ]
  },
  {
   "cell_type": "code",
   "execution_count": 7,
   "metadata": {
    "tags": []
   },
   "outputs": [],
   "source": [
    "# Load data\n",
    "dat_dir = \"/home/lobielodan/parsl_mpi/run_on_cluster/cvae-weather-ensemble/gefs_data/\"\n",
    "dataset = netCDF4.Dataset(dat_dir + \"pres_msl_2019010100_c00.nc\")"
   ]
  },
  {
   "cell_type": "code",
   "execution_count": 8,
   "metadata": {
    "tags": []
   },
   "outputs": [
    {
     "name": "stdout",
     "output_type": "stream",
     "text": [
      "<class 'netCDF4._netCDF4.Dataset'>\n",
      "root group (NETCDF3_64BIT_OFFSET data model, file format NETCDF3):\n",
      "    CDI: Climate Data Interface version 2.4.1 (https://mpimet.mpg.de/cdi)\n",
      "    Conventions: CF-1.6\n",
      "    history: Tue Jun 25 16:50:15 2024: cdo -f nc copy ./gefs_data/pres_msl_2019010100_c00.grib2 ./gefs_data/pres_msl_2019010100_c00.nc\n",
      "    CDO: Climate Data Operators version 2.4.1 (https://mpimet.mpg.de/cdo)\n",
      "    dimensions(sizes): time(80), lon(1440), lat(721)\n",
      "    variables(dimensions): float64 time(time), float64 lon(lon), float64 lat(lat), float32 msl(time, lat, lon)\n",
      "    groups: \n"
     ]
    }
   ],
   "source": [
    "# Look at data structure\n",
    "print(dataset)"
   ]
  },
  {
   "cell_type": "code",
   "execution_count": 9,
   "metadata": {
    "tags": []
   },
   "outputs": [
    {
     "name": "stdout",
     "output_type": "stream",
     "text": [
      "dict_keys(['time', 'lon', 'lat', 'msl'])\n",
      "<class 'netCDF4._netCDF4.Variable'>\n",
      "float64 time(time)\n",
      "    standard_name: time\n",
      "    units: hours since 2019-1-1 00:00:00\n",
      "    calendar: proleptic_gregorian\n",
      "    axis: T\n",
      "unlimited dimensions: time\n",
      "current shape = (80,)\n",
      "filling on, default _FillValue of 9.969209968386869e+36 used\n",
      "[  3.   6.   9.  12.  15.  18.  21.  24.  27.  30.  33.  36.  39.  42.\n",
      "  45.  48.  51.  54.  57.  60.  63.  66.  69.  72.  75.  78.  81.  84.\n",
      "  87.  90.  93.  96.  99. 102. 105. 108. 111. 114. 117. 120. 123. 126.\n",
      " 129. 132. 135. 138. 141. 144. 147. 150. 153. 156. 159. 162. 165. 168.\n",
      " 171. 174. 177. 180. 183. 186. 189. 192. 195. 198. 201. 204. 207. 210.\n",
      " 213. 216. 219. 222. 225. 228. 231. 234. 237. 240.]\n",
      "<class 'netCDF4._netCDF4.Variable'>\n",
      "float64 lon(lon)\n",
      "    standard_name: longitude\n",
      "    long_name: longitude\n",
      "    units: degrees_east\n",
      "    axis: X\n",
      "unlimited dimensions: \n",
      "current shape = (1440,)\n",
      "filling on, default _FillValue of 9.969209968386869e+36 used\n",
      "[0.0000e+00 2.5000e-01 5.0000e-01 ... 3.5925e+02 3.5950e+02 3.5975e+02]\n",
      "<class 'netCDF4._netCDF4.Variable'>\n",
      "float64 lat(lat)\n",
      "    standard_name: latitude\n",
      "    long_name: latitude\n",
      "    units: degrees_north\n",
      "    axis: Y\n",
      "unlimited dimensions: \n",
      "current shape = (721,)\n",
      "filling on, default _FillValue of 9.969209968386869e+36 used\n",
      "[ 90.    89.75  89.5   89.25  89.    88.75  88.5   88.25  88.    87.75\n",
      "  87.5   87.25  87.    86.75  86.5   86.25  86.    85.75  85.5   85.25\n",
      "  85.    84.75  84.5   84.25  84.    83.75  83.5   83.25  83.    82.75\n",
      "  82.5   82.25  82.    81.75  81.5   81.25  81.    80.75  80.5   80.25\n",
      "  80.    79.75  79.5   79.25  79.    78.75  78.5   78.25  78.    77.75\n",
      "  77.5   77.25  77.    76.75  76.5   76.25  76.    75.75  75.5   75.25\n",
      "  75.    74.75  74.5   74.25  74.    73.75  73.5   73.25  73.    72.75\n",
      "  72.5   72.25  72.    71.75  71.5   71.25  71.    70.75  70.5   70.25\n",
      "  70.    69.75  69.5   69.25  69.    68.75  68.5   68.25  68.    67.75\n",
      "  67.5   67.25  67.    66.75  66.5   66.25  66.    65.75  65.5   65.25\n",
      "  65.    64.75  64.5   64.25  64.    63.75  63.5   63.25  63.    62.75\n",
      "  62.5   62.25  62.    61.75  61.5   61.25  61.    60.75  60.5   60.25\n",
      "  60.    59.75  59.5   59.25  59.    58.75  58.5   58.25  58.    57.75\n",
      "  57.5   57.25  57.    56.75  56.5   56.25  56.    55.75  55.5   55.25\n",
      "  55.    54.75  54.5   54.25  54.    53.75  53.5   53.25  53.    52.75\n",
      "  52.5   52.25  52.    51.75  51.5   51.25  51.    50.75  50.5   50.25\n",
      "  50.    49.75  49.5   49.25  49.    48.75  48.5   48.25  48.    47.75\n",
      "  47.5   47.25  47.    46.75  46.5   46.25  46.    45.75  45.5   45.25\n",
      "  45.    44.75  44.5   44.25  44.    43.75  43.5   43.25  43.    42.75\n",
      "  42.5   42.25  42.    41.75  41.5   41.25  41.    40.75  40.5   40.25\n",
      "  40.    39.75  39.5   39.25  39.    38.75  38.5   38.25  38.    37.75\n",
      "  37.5   37.25  37.    36.75  36.5   36.25  36.    35.75  35.5   35.25\n",
      "  35.    34.75  34.5   34.25  34.    33.75  33.5   33.25  33.    32.75\n",
      "  32.5   32.25  32.    31.75  31.5   31.25  31.    30.75  30.5   30.25\n",
      "  30.    29.75  29.5   29.25  29.    28.75  28.5   28.25  28.    27.75\n",
      "  27.5   27.25  27.    26.75  26.5   26.25  26.    25.75  25.5   25.25\n",
      "  25.    24.75  24.5   24.25  24.    23.75  23.5   23.25  23.    22.75\n",
      "  22.5   22.25  22.    21.75  21.5   21.25  21.    20.75  20.5   20.25\n",
      "  20.    19.75  19.5   19.25  19.    18.75  18.5   18.25  18.    17.75\n",
      "  17.5   17.25  17.    16.75  16.5   16.25  16.    15.75  15.5   15.25\n",
      "  15.    14.75  14.5   14.25  14.    13.75  13.5   13.25  13.    12.75\n",
      "  12.5   12.25  12.    11.75  11.5   11.25  11.    10.75  10.5   10.25\n",
      "  10.     9.75   9.5    9.25   9.     8.75   8.5    8.25   8.     7.75\n",
      "   7.5    7.25   7.     6.75   6.5    6.25   6.     5.75   5.5    5.25\n",
      "   5.     4.75   4.5    4.25   4.     3.75   3.5    3.25   3.     2.75\n",
      "   2.5    2.25   2.     1.75   1.5    1.25   1.     0.75   0.5    0.25\n",
      "   0.    -0.25  -0.5   -0.75  -1.    -1.25  -1.5   -1.75  -2.    -2.25\n",
      "  -2.5   -2.75  -3.    -3.25  -3.5   -3.75  -4.    -4.25  -4.5   -4.75\n",
      "  -5.    -5.25  -5.5   -5.75  -6.    -6.25  -6.5   -6.75  -7.    -7.25\n",
      "  -7.5   -7.75  -8.    -8.25  -8.5   -8.75  -9.    -9.25  -9.5   -9.75\n",
      " -10.   -10.25 -10.5  -10.75 -11.   -11.25 -11.5  -11.75 -12.   -12.25\n",
      " -12.5  -12.75 -13.   -13.25 -13.5  -13.75 -14.   -14.25 -14.5  -14.75\n",
      " -15.   -15.25 -15.5  -15.75 -16.   -16.25 -16.5  -16.75 -17.   -17.25\n",
      " -17.5  -17.75 -18.   -18.25 -18.5  -18.75 -19.   -19.25 -19.5  -19.75\n",
      " -20.   -20.25 -20.5  -20.75 -21.   -21.25 -21.5  -21.75 -22.   -22.25\n",
      " -22.5  -22.75 -23.   -23.25 -23.5  -23.75 -24.   -24.25 -24.5  -24.75\n",
      " -25.   -25.25 -25.5  -25.75 -26.   -26.25 -26.5  -26.75 -27.   -27.25\n",
      " -27.5  -27.75 -28.   -28.25 -28.5  -28.75 -29.   -29.25 -29.5  -29.75\n",
      " -30.   -30.25 -30.5  -30.75 -31.   -31.25 -31.5  -31.75 -32.   -32.25\n",
      " -32.5  -32.75 -33.   -33.25 -33.5  -33.75 -34.   -34.25 -34.5  -34.75\n",
      " -35.   -35.25 -35.5  -35.75 -36.   -36.25 -36.5  -36.75 -37.   -37.25\n",
      " -37.5  -37.75 -38.   -38.25 -38.5  -38.75 -39.   -39.25 -39.5  -39.75\n",
      " -40.   -40.25 -40.5  -40.75 -41.   -41.25 -41.5  -41.75 -42.   -42.25\n",
      " -42.5  -42.75 -43.   -43.25 -43.5  -43.75 -44.   -44.25 -44.5  -44.75\n",
      " -45.   -45.25 -45.5  -45.75 -46.   -46.25 -46.5  -46.75 -47.   -47.25\n",
      " -47.5  -47.75 -48.   -48.25 -48.5  -48.75 -49.   -49.25 -49.5  -49.75\n",
      " -50.   -50.25 -50.5  -50.75 -51.   -51.25 -51.5  -51.75 -52.   -52.25\n",
      " -52.5  -52.75 -53.   -53.25 -53.5  -53.75 -54.   -54.25 -54.5  -54.75\n",
      " -55.   -55.25 -55.5  -55.75 -56.   -56.25 -56.5  -56.75 -57.   -57.25\n",
      " -57.5  -57.75 -58.   -58.25 -58.5  -58.75 -59.   -59.25 -59.5  -59.75\n",
      " -60.   -60.25 -60.5  -60.75 -61.   -61.25 -61.5  -61.75 -62.   -62.25\n",
      " -62.5  -62.75 -63.   -63.25 -63.5  -63.75 -64.   -64.25 -64.5  -64.75\n",
      " -65.   -65.25 -65.5  -65.75 -66.   -66.25 -66.5  -66.75 -67.   -67.25\n",
      " -67.5  -67.75 -68.   -68.25 -68.5  -68.75 -69.   -69.25 -69.5  -69.75\n",
      " -70.   -70.25 -70.5  -70.75 -71.   -71.25 -71.5  -71.75 -72.   -72.25\n",
      " -72.5  -72.75 -73.   -73.25 -73.5  -73.75 -74.   -74.25 -74.5  -74.75\n",
      " -75.   -75.25 -75.5  -75.75 -76.   -76.25 -76.5  -76.75 -77.   -77.25\n",
      " -77.5  -77.75 -78.   -78.25 -78.5  -78.75 -79.   -79.25 -79.5  -79.75\n",
      " -80.   -80.25 -80.5  -80.75 -81.   -81.25 -81.5  -81.75 -82.   -82.25\n",
      " -82.5  -82.75 -83.   -83.25 -83.5  -83.75 -84.   -84.25 -84.5  -84.75\n",
      " -85.   -85.25 -85.5  -85.75 -86.   -86.25 -86.5  -86.75 -87.   -87.25\n",
      " -87.5  -87.75 -88.   -88.25 -88.5  -88.75 -89.   -89.25 -89.5  -89.75\n",
      " -90.  ]\n",
      "<class 'netCDF4._netCDF4.Variable'>\n",
      "float32 msl(time, lat, lon)\n",
      "    standard_name: air_pressure_at_mean_sea_level\n",
      "    long_name: Mean sea level pressure\n",
      "    units: Pa\n",
      "    param: 0.3.0\n",
      "    realization: 0\n",
      "    ensemble_members: 10\n",
      "    forecast_init_type: 1\n",
      "unlimited dimensions: time\n",
      "current shape = (80, 721, 1440)\n",
      "filling on, default _FillValue of 9.969209968386869e+36 used\n",
      "[[[100432.14  100432.14  100432.14  ... 100432.14  100432.14  100432.14 ]\n",
      "  [100449.74  100449.58  100449.42  ... 100450.22  100450.06  100449.9  ]\n",
      "  [100463.98  100463.66  100463.34  ... 100464.94  100464.62  100464.3  ]\n",
      "  ...\n",
      "  [ 99723.5    99723.66   99723.66  ...  99723.34   99723.5    99723.5  ]\n",
      "  [ 99730.54   99730.54   99730.54  ...  99730.54   99730.54   99730.54 ]\n",
      "  [ 99744.94   99744.94   99744.94  ...  99744.94   99744.94   99744.94 ]]\n",
      "\n",
      " [[100529.15  100529.15  100529.15  ... 100529.15  100529.15  100529.15 ]\n",
      "  [100555.39  100555.39  100555.23  ... 100555.87  100555.71  100555.55 ]\n",
      "  [100576.83  100576.51  100576.19  ... 100577.47  100577.31  100576.99 ]\n",
      "  ...\n",
      "  [ 99620.99   99621.15   99621.15  ...  99620.83   99620.99   99620.99 ]\n",
      "  [ 99622.59   99622.59   99622.59  ...  99622.59   99622.59   99622.59 ]\n",
      "  [ 99640.35   99640.35   99640.35  ...  99640.35   99640.35   99640.35 ]]\n",
      "\n",
      " [[100582.57  100582.57  100582.57  ... 100582.57  100582.57  100582.57 ]\n",
      "  [100614.09  100614.09  100613.93  ... 100614.41  100614.25  100614.25 ]\n",
      "  [100642.41  100642.25  100642.09  ... 100642.89  100642.89  100642.73 ]\n",
      "  ...\n",
      "  [ 99533.77   99533.77   99533.61  ...  99533.77   99533.77   99533.77 ]\n",
      "  [ 99540.97   99540.97   99540.81  ...  99540.97   99540.97   99540.97 ]\n",
      "  [ 99564.97   99564.97   99564.97  ...  99564.97   99564.97   99564.97 ]]\n",
      "\n",
      " ...\n",
      "\n",
      " [[103851.336 103851.336 103851.336 ... 103851.336 103851.336 103851.336]\n",
      "  [103807.94  103808.14  103808.336 ... 103807.54  103807.734 103807.94 ]\n",
      "  [103760.336 103760.734 103761.14  ... 103759.336 103759.734 103759.94 ]\n",
      "  ...\n",
      "  [ 99943.54   99943.54   99943.734 ...  99943.336  99943.336  99943.54 ]\n",
      "  [ 99909.734  99909.734  99909.734 ...  99909.54   99909.54   99909.734]\n",
      "  [ 99898.54   99898.54   99898.54  ...  99898.54   99898.54   99898.54 ]]\n",
      "\n",
      " [[103850.29  103850.29  103850.29  ... 103850.29  103850.29  103850.29 ]\n",
      "  [103816.086 103816.29  103816.484 ... 103815.69  103815.89  103815.89 ]\n",
      "  [103777.484 103777.89  103778.086 ... 103776.484 103776.89  103777.086]\n",
      "  ...\n",
      "  [ 99964.484  99964.484  99964.69  ...  99964.29   99964.29   99964.29 ]\n",
      "  [ 99932.69   99932.89   99932.89  ...  99932.69   99932.69   99932.69 ]\n",
      "  [ 99908.69   99908.69   99908.69  ...  99908.69   99908.69   99908.69 ]]\n",
      "\n",
      " [[103858.05  103858.05  103858.05  ... 103858.05  103858.05  103858.05 ]\n",
      "  [103827.24  103827.445 103827.445 ... 103826.84  103826.84  103827.05 ]\n",
      "  [103794.24  103794.64  103795.05  ... 103793.05  103793.445 103793.84 ]\n",
      "  ...\n",
      "  [ 99981.445  99981.64   99981.64  ...  99981.05   99981.05   99981.24 ]\n",
      "  [ 99938.84   99938.84   99938.84  ...  99938.84   99938.84   99938.84 ]\n",
      "  [ 99904.84   99904.84   99904.84  ...  99904.84   99904.84   99904.84 ]]]\n"
     ]
    }
   ],
   "source": [
    "# Example for simple data access\n",
    "print(dataset.variables.keys())\n",
    "\n",
    "for var in dataset.variables:\n",
    "    print(dataset.variables[var])\n",
    "    print(dataset.variables[var][:])"
   ]
  },
  {
   "cell_type": "code",
   "execution_count": 12,
   "metadata": {
    "tags": []
   },
   "outputs": [
    {
     "data": {
      "image/png": "[encoded data removed]",
      "text/plain": [
       "<Figure size 900x600 with 2 Axes>"
      ]
     },
     "metadata": {},
     "output_type": "display_data"
    }
   ],
   "source": [
    "# Example for plot\n",
    "fig = plt.figure(figsize=(9,6))\n",
    "ax = plt.axes(projection = cartopy.crs.LambertConformal())\n",
    "ax.add_feature(cartopy.feature.LAND)\n",
    "ax.add_feature(cartopy.feature.OCEAN)\n",
    "ax.add_feature(cartopy.feature.LAKES, alpha = 0.5)\n",
    "ax.add_feature(cartopy.feature.STATES, edgecolor='grey')\n",
    "plt.contour(\n",
    "    dataset.variables['lon'][:], # longitudes\n",
    "    dataset.variables['lat'][:], # latitudes\n",
    "    dataset.variables['msl'][0,:,:],# actual data\n",
    "    transform = cartopy.crs.PlateCarree())#, levels=np.arange(30000,110000,20000))\n",
    "plt.title('GEFSv12 SLP 2019 01 10 0000 UTC Cycle')\n",
    "ax.set_extent([-120, -73, 23, 50])\n",
    "plt.colorbar()\n",
    "plt.show()"
   ]
  },
  {
   "cell_type": "code",
   "execution_count": 14,
   "metadata": {
    "tags": []
   },
   "outputs": [],
   "source": [
    "# Use MNIST data preproc as template\n",
    "many_time_steps = False\n",
    "if many_time_steps:\n",
    "    slp = np.expand_dims(\n",
    "        np.concatenate(\n",
    "            [dataset['msl'][:],\n",
    "             dataset2['msl'][:]],\n",
    "            axis=0),\n",
    "        -1).astype(\"float32\") / 110000\n",
    "else:\n",
    "    slp = np.expand_dims(dataset['msl'][:], -1).astype(\"float32\") / 110000"
   ]
  },
  {
   "cell_type": "code",
   "execution_count": 15,
   "metadata": {
    "tags": []
   },
   "outputs": [
    {
     "data": {
      "text/plain": [
       "(80, 721, 1440, 1)"
      ]
     },
     "execution_count": 15,
     "metadata": {},
     "output_type": "execute_result"
    }
   ],
   "source": [
    "# Verify data size\n",
    "np.shape(slp)"
   ]
  },
  {
   "cell_type": "markdown",
   "metadata": {},
   "source": [
    "# Create sampling layer"
   ]
  },
  {
   "cell_type": "code",
   "execution_count": 16,
   "metadata": {
    "tags": []
   },
   "outputs": [],
   "source": [
    "class Sampling(layers.Layer):\n",
    "    \"\"\"Uses (z_mean, z_log_var) to sample z, the vector encoding a digit.\"\"\"\n",
    "\n",
    "    def call(self, inputs):\n",
    "        z_mean, z_log_var = inputs\n",
    "        batch = tf.shape(z_mean)[0]\n",
    "        dim = tf.shape(z_mean)[1]\n",
    "        epsilon = tf.keras.backend.random_normal(shape=(batch, dim))\n",
    "        return z_mean + tf.exp(0.5 * z_log_var) * epsilon"
   ]
  },
  {
   "cell_type": "markdown",
   "metadata": {},
   "source": [
    "# Build the encoder\n",
    "GFS grids I have available here are at 0.25 degree resolution.  I'm doing this as a \"worst case\" scenario since there are also 0.5 and 1.0 degree grids with lower resolution but I can't find that data quickly and don't know what's available.\n",
    "\n",
    "These 0.25 degree grids are 721 x 1440.\n",
    "Each forecast file is 3 hourly for 10 days = 8 steps/forecast * 10 days = 80 \"frames\"\n",
    "This demo is only using two forecasts from the control ensemble\n",
    "(one launched Jan 01, 2019 and one launched Jan 02, 2019) -> this is only \n",
    "a small subset of the variability possible in the model.\n",
    "\n",
    "This particular data set spans 2000-2019 and there are 5 ensemble members.\n",
    "\n",
    "___\n",
    "\n",
    "## Neural network design\n",
    "\n",
    "We need to get to a small latent space and conv2D networks are good because they help reduce the number of connections in a network in a meaningful way.  I'm using terms as defined in [this definition of conv2D](https://towardsdatascience.com/conv2d-to-finally-understand-what-happens-in-the-forward-pass-1bbaafb0b148).\n",
    "\n",
    "Filter options:\n",
    "Longitude is easy because it is large and even, so as long as you have an even stride, you get integer results when dividing.\n",
    "e.g. lon 9, stride 4, lat 7, stride 5\n",
    "\n",
    "- Latitude - even numbers occurr for P = 2, K = 3 or K = 11.\n",
    "- 11 grid points * 0.25deg * 100km/deg = 275 km filter window, which is a good scale for weather.\n",
    "- 9 grid points * 0.25 * 100km/deg = 225 km\n",
    "- Longitude - even numbers occur for P = 0, K = 11 (nice match with Latitude), P = 1, K = 3 or 13, P = 2, K = 5.\n",
    "For a 5x7 filter with 3 stride (no overlap) and no padding,\n",
    "- lat: (721 - 4)/3 = 239 possible steps (good even number!)\n",
    "- lon: (1440 - 4)/3 = 478.6666 possible steps"
   ]
  },
  {
   "cell_type": "code",
   "execution_count": 17,
   "metadata": {
    "tags": []
   },
   "outputs": [
    {
     "name": "stdout",
     "output_type": "stream",
     "text": [
      "K = 3 -> K_radius = 1.0 -> S = 1 -> H_out = 1438.0\n",
      "K = 3 -> K_radius = 1.0 -> S = 2 -> H_out = 719.0\n",
      "K = 3 -> K_radius = 1.0 -> S = 3 -> H_out = 479.3333333333333\n",
      "K = 3 -> K_radius = 1.0 -> S = 4 -> H_out = 359.5\n",
      "K = 3 -> K_radius = 1.0 -> S = 5 -> H_out = 287.6\n",
      "K = 3 -> K_radius = 1.0 -> S = 6 -> H_out = 239.66666666666666\n",
      "K = 3 -> K_radius = 1.0 -> S = 7 -> H_out = 205.42857142857142\n",
      "K = 3 -> K_radius = 1.0 -> S = 8 -> H_out = 179.75\n",
      "K = 3 -> K_radius = 1.0 -> S = 9 -> H_out = 159.77777777777777\n",
      "K = 3 -> K_radius = 1.0 -> S = 10 -> H_out = 143.8\n",
      "K = 3 -> K_radius = 1.0 -> S = 11 -> H_out = 130.72727272727272\n",
      "K = 3 -> K_radius = 1.0 -> S = 12 -> H_out = 119.83333333333333\n",
      "K = 3 -> K_radius = 1.0 -> S = 13 -> H_out = 110.61538461538461\n",
      "K = 5 -> K_radius = 2.0 -> S = 1 -> H_out = 1436.0\n",
      "K = 5 -> K_radius = 2.0 -> S = 2 -> H_out = 718.0\n",
      "K = 5 -> K_radius = 2.0 -> S = 3 -> H_out = 478.6666666666667\n",
      "K = 5 -> K_radius = 2.0 -> S = 4 -> H_out = 359.0\n",
      "K = 5 -> K_radius = 2.0 -> S = 5 -> H_out = 287.2\n",
      "K = 5 -> K_radius = 2.0 -> S = 6 -> H_out = 239.33333333333334\n",
      "K = 5 -> K_radius = 2.0 -> S = 7 -> H_out = 205.14285714285714\n",
      "K = 5 -> K_radius = 2.0 -> S = 8 -> H_out = 179.5\n",
      "K = 5 -> K_radius = 2.0 -> S = 9 -> H_out = 159.55555555555554\n",
      "K = 5 -> K_radius = 2.0 -> S = 10 -> H_out = 143.6\n",
      "K = 5 -> K_radius = 2.0 -> S = 11 -> H_out = 130.54545454545453\n",
      "K = 5 -> K_radius = 2.0 -> S = 12 -> H_out = 119.66666666666667\n",
      "K = 5 -> K_radius = 2.0 -> S = 13 -> H_out = 110.46153846153847\n",
      "K = 7 -> K_radius = 3.0 -> S = 1 -> H_out = 1434.0\n",
      "K = 7 -> K_radius = 3.0 -> S = 2 -> H_out = 717.0\n",
      "K = 7 -> K_radius = 3.0 -> S = 3 -> H_out = 478.0\n",
      "K = 7 -> K_radius = 3.0 -> S = 4 -> H_out = 358.5\n",
      "K = 7 -> K_radius = 3.0 -> S = 5 -> H_out = 286.8\n",
      "K = 7 -> K_radius = 3.0 -> S = 6 -> H_out = 239.0\n",
      "K = 7 -> K_radius = 3.0 -> S = 7 -> H_out = 204.85714285714286\n",
      "K = 7 -> K_radius = 3.0 -> S = 8 -> H_out = 179.25\n",
      "K = 7 -> K_radius = 3.0 -> S = 9 -> H_out = 159.33333333333334\n",
      "K = 7 -> K_radius = 3.0 -> S = 10 -> H_out = 143.4\n",
      "K = 7 -> K_radius = 3.0 -> S = 11 -> H_out = 130.36363636363637\n",
      "K = 7 -> K_radius = 3.0 -> S = 12 -> H_out = 119.5\n",
      "K = 7 -> K_radius = 3.0 -> S = 13 -> H_out = 110.3076923076923\n",
      "K = 9 -> K_radius = 4.0 -> S = 1 -> H_out = 1432.0\n",
      "K = 9 -> K_radius = 4.0 -> S = 2 -> H_out = 716.0\n",
      "K = 9 -> K_radius = 4.0 -> S = 3 -> H_out = 477.3333333333333\n",
      "K = 9 -> K_radius = 4.0 -> S = 4 -> H_out = 358.0\n",
      "K = 9 -> K_radius = 4.0 -> S = 5 -> H_out = 286.4\n",
      "K = 9 -> K_radius = 4.0 -> S = 6 -> H_out = 238.66666666666666\n",
      "K = 9 -> K_radius = 4.0 -> S = 7 -> H_out = 204.57142857142858\n",
      "K = 9 -> K_radius = 4.0 -> S = 8 -> H_out = 179.0\n",
      "K = 9 -> K_radius = 4.0 -> S = 9 -> H_out = 159.11111111111111\n",
      "K = 9 -> K_radius = 4.0 -> S = 10 -> H_out = 143.2\n",
      "K = 9 -> K_radius = 4.0 -> S = 11 -> H_out = 130.1818181818182\n",
      "K = 9 -> K_radius = 4.0 -> S = 12 -> H_out = 119.33333333333333\n",
      "K = 9 -> K_radius = 4.0 -> S = 13 -> H_out = 110.15384615384616\n",
      "K = 11 -> K_radius = 5.0 -> S = 1 -> H_out = 1430.0\n",
      "K = 11 -> K_radius = 5.0 -> S = 2 -> H_out = 715.0\n",
      "K = 11 -> K_radius = 5.0 -> S = 3 -> H_out = 476.6666666666667\n",
      "K = 11 -> K_radius = 5.0 -> S = 4 -> H_out = 357.5\n",
      "K = 11 -> K_radius = 5.0 -> S = 5 -> H_out = 286.0\n",
      "K = 11 -> K_radius = 5.0 -> S = 6 -> H_out = 238.33333333333334\n",
      "K = 11 -> K_radius = 5.0 -> S = 7 -> H_out = 204.28571428571428\n",
      "K = 11 -> K_radius = 5.0 -> S = 8 -> H_out = 178.75\n",
      "K = 11 -> K_radius = 5.0 -> S = 9 -> H_out = 158.88888888888889\n",
      "K = 11 -> K_radius = 5.0 -> S = 10 -> H_out = 143.0\n",
      "K = 11 -> K_radius = 5.0 -> S = 11 -> H_out = 130.0\n",
      "K = 11 -> K_radius = 5.0 -> S = 12 -> H_out = 119.16666666666667\n",
      "K = 11 -> K_radius = 5.0 -> S = 13 -> H_out = 110.0\n",
      "K = 13 -> K_radius = 6.0 -> S = 1 -> H_out = 1428.0\n",
      "K = 13 -> K_radius = 6.0 -> S = 2 -> H_out = 714.0\n",
      "K = 13 -> K_radius = 6.0 -> S = 3 -> H_out = 476.0\n",
      "K = 13 -> K_radius = 6.0 -> S = 4 -> H_out = 357.0\n",
      "K = 13 -> K_radius = 6.0 -> S = 5 -> H_out = 285.6\n",
      "K = 13 -> K_radius = 6.0 -> S = 6 -> H_out = 238.0\n",
      "K = 13 -> K_radius = 6.0 -> S = 7 -> H_out = 204.0\n",
      "K = 13 -> K_radius = 6.0 -> S = 8 -> H_out = 178.5\n",
      "K = 13 -> K_radius = 6.0 -> S = 9 -> H_out = 158.66666666666666\n",
      "K = 13 -> K_radius = 6.0 -> S = 10 -> H_out = 142.8\n",
      "K = 13 -> K_radius = 6.0 -> S = 11 -> H_out = 129.8181818181818\n",
      "K = 13 -> K_radius = 6.0 -> S = 12 -> H_out = 119.0\n",
      "K = 13 -> K_radius = 6.0 -> S = 13 -> H_out = 109.84615384615384\n",
      "K = 15 -> K_radius = 7.0 -> S = 1 -> H_out = 1426.0\n",
      "K = 15 -> K_radius = 7.0 -> S = 2 -> H_out = 713.0\n",
      "K = 15 -> K_radius = 7.0 -> S = 3 -> H_out = 475.3333333333333\n",
      "K = 15 -> K_radius = 7.0 -> S = 4 -> H_out = 356.5\n",
      "K = 15 -> K_radius = 7.0 -> S = 5 -> H_out = 285.2\n",
      "K = 15 -> K_radius = 7.0 -> S = 6 -> H_out = 237.66666666666666\n",
      "K = 15 -> K_radius = 7.0 -> S = 7 -> H_out = 203.71428571428572\n",
      "K = 15 -> K_radius = 7.0 -> S = 8 -> H_out = 178.25\n",
      "K = 15 -> K_radius = 7.0 -> S = 9 -> H_out = 158.44444444444446\n",
      "K = 15 -> K_radius = 7.0 -> S = 10 -> H_out = 142.6\n",
      "K = 15 -> K_radius = 7.0 -> S = 11 -> H_out = 129.63636363636363\n",
      "K = 15 -> K_radius = 7.0 -> S = 12 -> H_out = 118.83333333333333\n",
      "K = 15 -> K_radius = 7.0 -> S = 13 -> H_out = 109.6923076923077\n"
     ]
    }
   ],
   "source": [
    "# Try different filter sizes\n",
    "# Aim for large initial filter > 200km scale (about 10)\n",
    "# Aim for some, but minimal overlap in initial filter.\n",
    "\n",
    "# Aim for smallish second filter, but still try to reduce dimensionality\n",
    "# to make dense network tractable later.  No overlap (but no good\n",
    "# reason why this is).\n",
    "\n",
    "#----------------------Input: 721x1440--------------\n",
    "\n",
    "# For Lat = 721,\n",
    "# K = 11 -> K_radius = 5.0 -> S = 9 -> H_out = 79.0\n",
    "\n",
    "# For Lon = 1440,\n",
    "# K = 11 -> K_radius = 5.0 -> S = 10 -> H_out = 143.0\n",
    "\n",
    "#-----------------------Layer1: 79x143----------------\n",
    "\n",
    "# For Lat = 79,\n",
    "# K = 5 -> K_radius = 2.0 -> S = 5 -> H_out = 15.0\n",
    "\n",
    "# For Lon = 143,\n",
    "# K = 9 -> K_radius = 4.0 -> S = 9 -> H_out = 15.0\n",
    "\n",
    "H_in = 1440\n",
    "P = 0\n",
    "K_list = [3, 5, 7, 9, 11, 13, 15]         # Kernel size\n",
    "S_list = [1, 2, 3, 4, 5, 6, 7, 8, 9, 10, 11, 12, 13]\n",
    "for K in K_list:\n",
    "    for S in S_list:\n",
    "        K_radius = np.floor(np.divide(K,2))   # Half width of number of points around the central point\n",
    "        K_diameter = K - 1                    # Number of points around the central point, ASSUMES K = ODD\n",
    "        #S = K                 # S = K is stride necessary to have non-overlapping filters\n",
    "        print('K = '+str(K)+' -> K_radius = '+str(K_radius)+' -> S = '+str(S)+' -> H_out = '+str((H_in + 2*P - K_diameter)/S))"
   ]
  },
  {
   "cell_type": "code",
   "execution_count": 18,
   "metadata": {
    "tags": []
   },
   "outputs": [],
   "source": [
    "def build_encoder(latent_dim):\n",
    "    encoder_inputs = keras.Input(shape=(721, 1440, 1))\n",
    "    x = layers.Conv2D(32, 11, activation=\"relu\", strides=[9,10], padding=\"valid\")(encoder_inputs)\n",
    "    x = layers.Conv2D(64, [5,9], activation=\"relu\", strides=[5,9], padding=\"valid\")(x)\n",
    "    x = layers.Flatten()(x)\n",
    "    x = layers.Dense(16, activation=\"relu\")(x)\n",
    "    z_mean = layers.Dense(latent_dim, name=\"z_mean\")(x)\n",
    "    z_log_var = layers.Dense(latent_dim, name=\"z_log_var\")(x)\n",
    "    z = Sampling()([z_mean, z_log_var])\n",
    "    encoder = keras.Model(encoder_inputs, [z_mean, z_log_var, z], name=\"encoder\")\n",
    "    print(encoder.summary())\n",
    "    return encoder"
   ]
  },
  {
   "cell_type": "markdown",
   "metadata": {},
   "source": [
    "# Build the decoder\n",
    "\n",
    "With the 11x11 and 5x5 filters, non-overlapping stride, applied here, we have a final \"image\" size of 14 x 27 and 64 channels."
   ]
  },
  {
   "cell_type": "code",
   "execution_count": null,
   "metadata": {},
   "outputs": [],
   "source": [
    "# Why 7x7x64?\n",
    "# 7 x 7 \"image\" remaining after two conv2D operations x 64 filters/channels"
   ]
  },
  {
   "cell_type": "code",
   "execution_count": 19,
   "metadata": {
    "tags": []
   },
   "outputs": [],
   "source": [
    "def build_decoder(latent_dim):\n",
    "    latent_inputs = keras.Input(shape=(latent_dim,))\n",
    "    x = layers.Dense(15 * 15 * 64, activation=\"relu\")(latent_inputs)\n",
    "    x = layers.Reshape((15, 15, 64))(x)\n",
    "    # FIXME - there is something wrong here, but at least there is a pattern.\n",
    "    # Using output_padding as a fudge factor -> it may be that there is exactly\n",
    "    # one \"missing\" filter stamp/convolution because for both Conv2DTranspose\n",
    "    # operations, output_padding is set to maximum it could be in both dims\n",
    "    # (i.e. exactly one less than the stride of each filter).\n",
    "    x = layers.Conv2DTranspose(64, [5,9], activation=\"relu\", strides=[5,9], padding=\"valid\", output_padding=[4,8])(x)\n",
    "    x = layers.Conv2DTranspose(32, 11, activation=\"relu\", strides=[9,10], padding=\"valid\", output_padding=[8,9])(x)\n",
    "    decoder_outputs = layers.Conv2DTranspose(1, 3, activation=\"sigmoid\", padding=\"same\")(x)\n",
    "    decoder = keras.Model(latent_inputs, decoder_outputs, name=\"decoder\")\n",
    "    print(decoder.summary())\n",
    "    return decoder"
   ]
  },
  {
   "cell_type": "markdown",
   "metadata": {},
   "source": [
    "# Define the VAE as a `Model` with a custom `train_step`"
   ]
  },
  {
   "cell_type": "code",
   "execution_count": 20,
   "metadata": {
    "tags": []
   },
   "outputs": [],
   "source": [
    "class VAE(keras.Model):\n",
    "    def __init__(self, encoder, decoder, **kwargs):\n",
    "        super(VAE, self).__init__(**kwargs)\n",
    "        self.encoder = encoder\n",
    "        self.decoder = decoder\n",
    "        self.total_loss_tracker = keras.metrics.Mean(name=\"total_loss\")\n",
    "        self.reconstruction_loss_tracker = keras.metrics.Mean(\n",
    "            name=\"reconstruction_loss\"\n",
    "        )\n",
    "        self.kl_loss_tracker = keras.metrics.Mean(name=\"kl_loss\")\n",
    "\n",
    "    @property\n",
    "    def metrics(self):\n",
    "        return [\n",
    "            self.total_loss_tracker,\n",
    "            self.reconstruction_loss_tracker,\n",
    "            self.kl_loss_tracker,\n",
    "        ]\n",
    "\n",
    "    def train_step(self, data):\n",
    "        \n",
    "        with tf.GradientTape() as tape:\n",
    "            z_mean, z_log_var, z = self.encoder(data)\n",
    "            reconstruction = self.decoder(z)\n",
    "            # FIXME: Normalize loss with the number of features (28*28)\n",
    "            n_features = 28*28\n",
    "            reconstruction_loss = tf.reduce_mean(\n",
    "                tf.reduce_sum(\n",
    "                    keras.losses.binary_crossentropy(data, reconstruction), axis=(1, 2)\n",
    "                )\n",
    "            )/n_features\n",
    "            kl_loss = -0.5 * (1 + z_log_var - tf.square(z_mean) - tf.exp(z_log_var))\n",
    "            kl_loss = tf.reduce_mean(tf.reduce_sum(kl_loss, axis=1))/n_features\n",
    "            total_loss = (reconstruction_loss + kl_loss)\n",
    "        grads = tape.gradient(total_loss, self.trainable_weights)\n",
    "        self.optimizer.apply_gradients(zip(grads, self.trainable_weights))\n",
    "        self.total_loss_tracker.update_state(total_loss)\n",
    "        self.reconstruction_loss_tracker.update_state(reconstruction_loss)\n",
    "        self.kl_loss_tracker.update_state(kl_loss)\n",
    "        return {\n",
    "            \"loss\": self.total_loss_tracker.result(),\n",
    "            \"reconstruction_loss\": self.reconstruction_loss_tracker.result(),\n",
    "            \"kl_loss\": self.kl_loss_tracker.result(),\n",
    "        }\n",
    "\n",
    "    # Needed to validate (validation loss) and to evaluate\n",
    "    def test_step(self, data):\n",
    "        if type(data) == tuple:\n",
    "            data, _ = data\n",
    "            \n",
    "        z_mean, z_log_var, z = self.encoder(data)\n",
    "        reconstruction = self.decoder(z)\n",
    "        # FIXME: Normalize loss with the number of features (28*28)\n",
    "        n_features = 28*28\n",
    "        reconstruction_loss = tf.reduce_mean(\n",
    "            tf.reduce_sum(\n",
    "                keras.losses.binary_crossentropy(data, reconstruction), axis=(1, 2)\n",
    "            )\n",
    "        )/n_features\n",
    "        kl_loss = -0.5 * (1 + z_log_var - tf.square(z_mean) - tf.exp(z_log_var))\n",
    "        kl_loss = tf.reduce_mean(tf.reduce_sum(kl_loss, axis=1))/n_features\n",
    "        total_loss = (reconstruction_loss + kl_loss)\n",
    "        #grads = tape.gradient(total_loss, self.trainable_weights)\n",
    "        #self.optimizer.apply_gradients(zip(grads, self.trainable_weights))\n",
    "        self.total_loss_tracker.update_state(total_loss)\n",
    "        self.reconstruction_loss_tracker.update_state(reconstruction_loss)\n",
    "        self.kl_loss_tracker.update_state(kl_loss)\n",
    "        return {\n",
    "            \"loss\": self.total_loss_tracker.result(),\n",
    "            \"reconstruction_loss\": self.reconstruction_loss_tracker.result(),\n",
    "            \"kl_loss\": self.kl_loss_tracker.result(),\n",
    "        }"
   ]
  },
  {
   "cell_type": "markdown",
   "metadata": {},
   "source": [
    "# Helper functions"
   ]
  },
  {
   "cell_type": "code",
   "execution_count": 21,
   "metadata": {
    "tags": []
   },
   "outputs": [],
   "source": [
    "# Only works if latent_dim = 2\n",
    "def plot_latent_space(vae, n=30, figsize=15, show = False, path = ''):\n",
    "    # display a n*n 2D manifold of digits\n",
    "    digit_size = 28\n",
    "    scale = 1.0\n",
    "    figure = np.zeros((digit_size * n, digit_size * n))\n",
    "    # linearly spaced coordinates corresponding to the 2D plot\n",
    "    # of digit classes in the latent space\n",
    "    grid_x = np.linspace(-scale, scale, n)\n",
    "    grid_y = np.linspace(-scale, scale, n)[::-1]\n",
    "\n",
    "    for i, yi in enumerate(grid_y):\n",
    "        for j, xi in enumerate(grid_x):\n",
    "            z_sample = np.array([[xi, yi]])\n",
    "            x_decoded = vae.decoder.predict(z_sample)\n",
    "            digit = x_decoded[0].reshape(digit_size, digit_size)\n",
    "            figure[\n",
    "                i * digit_size : (i + 1) * digit_size,\n",
    "                j * digit_size : (j + 1) * digit_size,\n",
    "            ] = digit\n",
    "\n",
    "    plt.figure(figsize=(figsize, figsize))\n",
    "    start_range = digit_size // 2\n",
    "    end_range = n * digit_size + start_range\n",
    "    pixel_range = np.arange(start_range, end_range, digit_size)\n",
    "    sample_range_x = np.round(grid_x, 1)\n",
    "    sample_range_y = np.round(grid_y, 1)\n",
    "    plt.xticks(pixel_range, sample_range_x)\n",
    "    plt.yticks(pixel_range, sample_range_y)\n",
    "    plt.xlabel(\"z[0]\")\n",
    "    plt.ylabel(\"z[1]\")\n",
    "    plt.imshow(figure, cmap=\"Greys_r\")\n",
    "    if show:\n",
    "        plt.show()\n",
    "    if path:\n",
    "        plt.savefig(path)\n",
    "\n",
    "def plot_images(images, rows, columns, show = False, path = ''):\n",
    "    fig = plt.figure(figsize = (10, 7))\n",
    "    \n",
    "    for i, image in enumerate(images):\n",
    "        fig.add_subplot(rows, columns, i+1)\n",
    "        plt.imshow(image, cmap = 'binary')\n",
    "        plt.axis('off')\n",
    "\n",
    "    if show:\n",
    "        plt.show()\n",
    "    if path:\n",
    "        plt.savefig(path)\n",
    "    \n",
    "def load_fashion_mnist():\n",
    "    fashion_mnist = keras.datasets.fashion_mnist\n",
    "    (X_train, y_train), (X_test, y_test) = fashion_mnist.load_data()\n",
    "    fashion_mnist = np.concatenate([X_train, X_test], axis=0)\n",
    "    fashion_mnist = np.expand_dims(fashion_mnist, -1).astype(\"float32\") / 255\n",
    "    X_train, X_test = train_test_split(fashion_mnist)\n",
    "    X_train, X_valid = train_test_split(X_train)\n",
    "    return X_train, X_valid, X_test\n",
    "\n",
    "def load_digits_mnist():\n",
    "    (x_train, _), (x_test, _) = keras.datasets.mnist.load_data()\n",
    "    mnist_digits = np.concatenate([x_train, x_test], axis=0)\n",
    "    mnist_digits = np.expand_dims(mnist_digits, -1).astype(\"float32\") / 255\n",
    "    X_train, X_test = train_test_split(mnist_digits)\n",
    "    X_train, X_valid = train_test_split(X_train)\n",
    "    return X_train, X_valid, X_test"
   ]
  },
  {
   "cell_type": "markdown",
   "metadata": {},
   "source": [
    "# Train the VAE"
   ]
  },
  {
   "cell_type": "code",
   "execution_count": 23,
   "metadata": {
    "tags": []
   },
   "outputs": [
    {
     "data": {
      "text/html": [
       "<pre style=\"white-space:pre;overflow-x:auto;line-height:normal;font-family:Menlo,'DejaVu Sans Mono',consolas,'Courier New',monospace\"><span style=\"font-weight: bold\">Model: \"encoder\"</span>\n",
       "</pre>\n"
      ],
      "text/plain": [
       "\u001b[1mModel: \"encoder\"\u001b[0m\n"
      ]
     },
     "metadata": {},
     "output_type": "display_data"
    },
    {
     "data": {
      "text/html": [
       "<pre style=\"white-space:pre;overflow-x:auto;line-height:normal;font-family:Menlo,'DejaVu Sans Mono',consolas,'Courier New',monospace\">┏━━━━━━━━━━━━━━━━━━━━━┳━━━━━━━━━━━━━━━━━━━┳━━━━━━━━━━━━┳━━━━━━━━━━━━━━━━━━━┓\n",
       "┃<span style=\"font-weight: bold\"> Layer (type)        </span>┃<span style=\"font-weight: bold\"> Output Shape      </span>┃<span style=\"font-weight: bold\">    Param # </span>┃<span style=\"font-weight: bold\"> Connected to      </span>┃\n",
       "┡━━━━━━━━━━━━━━━━━━━━━╇━━━━━━━━━━━━━━━━━━━╇━━━━━━━━━━━━╇━━━━━━━━━━━━━━━━━━━┩\n",
       "│ input_layer_2       │ (<span style=\"color: #00d7ff; text-decoration-color: #00d7ff\">None</span>, <span style=\"color: #00af00; text-decoration-color: #00af00\">721</span>, <span style=\"color: #00af00; text-decoration-color: #00af00\">1440</span>, │          <span style=\"color: #00af00; text-decoration-color: #00af00\">0</span> │ -                 │\n",
       "│ (<span style=\"color: #0087ff; text-decoration-color: #0087ff\">InputLayer</span>)        │ <span style=\"color: #00af00; text-decoration-color: #00af00\">1</span>)                │            │                   │\n",
       "├─────────────────────┼───────────────────┼────────────┼───────────────────┤\n",
       "│ conv2d_2 (<span style=\"color: #0087ff; text-decoration-color: #0087ff\">Conv2D</span>)   │ (<span style=\"color: #00d7ff; text-decoration-color: #00d7ff\">None</span>, <span style=\"color: #00af00; text-decoration-color: #00af00\">79</span>, <span style=\"color: #00af00; text-decoration-color: #00af00\">143</span>,   │      <span style=\"color: #00af00; text-decoration-color: #00af00\">3,904</span> │ input_layer_2[<span style=\"color: #00af00; text-decoration-color: #00af00\">0</span>]… │\n",
       "│                     │ <span style=\"color: #00af00; text-decoration-color: #00af00\">32</span>)               │            │                   │\n",
       "├─────────────────────┼───────────────────┼────────────┼───────────────────┤\n",
       "│ conv2d_3 (<span style=\"color: #0087ff; text-decoration-color: #0087ff\">Conv2D</span>)   │ (<span style=\"color: #00d7ff; text-decoration-color: #00d7ff\">None</span>, <span style=\"color: #00af00; text-decoration-color: #00af00\">15</span>, <span style=\"color: #00af00; text-decoration-color: #00af00\">15</span>,    │     <span style=\"color: #00af00; text-decoration-color: #00af00\">92,224</span> │ conv2d_2[<span style=\"color: #00af00; text-decoration-color: #00af00\">0</span>][<span style=\"color: #00af00; text-decoration-color: #00af00\">0</span>]    │\n",
       "│                     │ <span style=\"color: #00af00; text-decoration-color: #00af00\">64</span>)               │            │                   │\n",
       "├─────────────────────┼───────────────────┼────────────┼───────────────────┤\n",
       "│ flatten_1 (<span style=\"color: #0087ff; text-decoration-color: #0087ff\">Flatten</span>) │ (<span style=\"color: #00d7ff; text-decoration-color: #00d7ff\">None</span>, <span style=\"color: #00af00; text-decoration-color: #00af00\">14400</span>)     │          <span style=\"color: #00af00; text-decoration-color: #00af00\">0</span> │ conv2d_3[<span style=\"color: #00af00; text-decoration-color: #00af00\">0</span>][<span style=\"color: #00af00; text-decoration-color: #00af00\">0</span>]    │\n",
       "├─────────────────────┼───────────────────┼────────────┼───────────────────┤\n",
       "│ dense_2 (<span style=\"color: #0087ff; text-decoration-color: #0087ff\">Dense</span>)     │ (<span style=\"color: #00d7ff; text-decoration-color: #00d7ff\">None</span>, <span style=\"color: #00af00; text-decoration-color: #00af00\">16</span>)        │    <span style=\"color: #00af00; text-decoration-color: #00af00\">230,416</span> │ flatten_1[<span style=\"color: #00af00; text-decoration-color: #00af00\">0</span>][<span style=\"color: #00af00; text-decoration-color: #00af00\">0</span>]   │\n",
       "├─────────────────────┼───────────────────┼────────────┼───────────────────┤\n",
       "│ z_mean (<span style=\"color: #0087ff; text-decoration-color: #0087ff\">Dense</span>)      │ (<span style=\"color: #00d7ff; text-decoration-color: #00d7ff\">None</span>, <span style=\"color: #00af00; text-decoration-color: #00af00\">2</span>)         │         <span style=\"color: #00af00; text-decoration-color: #00af00\">34</span> │ dense_2[<span style=\"color: #00af00; text-decoration-color: #00af00\">0</span>][<span style=\"color: #00af00; text-decoration-color: #00af00\">0</span>]     │\n",
       "├─────────────────────┼───────────────────┼────────────┼───────────────────┤\n",
       "│ z_log_var (<span style=\"color: #0087ff; text-decoration-color: #0087ff\">Dense</span>)   │ (<span style=\"color: #00d7ff; text-decoration-color: #00d7ff\">None</span>, <span style=\"color: #00af00; text-decoration-color: #00af00\">2</span>)         │         <span style=\"color: #00af00; text-decoration-color: #00af00\">34</span> │ dense_2[<span style=\"color: #00af00; text-decoration-color: #00af00\">0</span>][<span style=\"color: #00af00; text-decoration-color: #00af00\">0</span>]     │\n",
       "├─────────────────────┼───────────────────┼────────────┼───────────────────┤\n",
       "│ sampling_1          │ (<span style=\"color: #00d7ff; text-decoration-color: #00d7ff\">None</span>, <span style=\"color: #00af00; text-decoration-color: #00af00\">2</span>)         │          <span style=\"color: #00af00; text-decoration-color: #00af00\">0</span> │ z_mean[<span style=\"color: #00af00; text-decoration-color: #00af00\">0</span>][<span style=\"color: #00af00; text-decoration-color: #00af00\">0</span>],     │\n",
       "│ (<span style=\"color: #0087ff; text-decoration-color: #0087ff\">Sampling</span>)          │                   │            │ z_log_var[<span style=\"color: #00af00; text-decoration-color: #00af00\">0</span>][<span style=\"color: #00af00; text-decoration-color: #00af00\">0</span>]   │\n",
       "└─────────────────────┴───────────────────┴────────────┴───────────────────┘\n",
       "</pre>\n"
      ],
      "text/plain": [
       "┏━━━━━━━━━━━━━━━━━━━━━┳━━━━━━━━━━━━━━━━━━━┳━━━━━━━━━━━━┳━━━━━━━━━━━━━━━━━━━┓\n",
       "┃\u001b[1m \u001b[0m\u001b[1mLayer (type)       \u001b[0m\u001b[1m \u001b[0m┃\u001b[1m \u001b[0m\u001b[1mOutput Shape     \u001b[0m\u001b[1m \u001b[0m┃\u001b[1m \u001b[0m\u001b[1m   Param #\u001b[0m\u001b[1m \u001b[0m┃\u001b[1m \u001b[0m\u001b[1mConnected to     \u001b[0m\u001b[1m \u001b[0m┃\n",
       "┡━━━━━━━━━━━━━━━━━━━━━╇━━━━━━━━━━━━━━━━━━━╇━━━━━━━━━━━━╇━━━━━━━━━━━━━━━━━━━┩\n",
       "│ input_layer_2       │ (\u001b[38;5;45mNone\u001b[0m, \u001b[38;5;34m721\u001b[0m, \u001b[38;5;34m1440\u001b[0m, │          \u001b[38;5;34m0\u001b[0m │ -                 │\n",
       "│ (\u001b[38;5;33mInputLayer\u001b[0m)        │ \u001b[38;5;34m1\u001b[0m)                │            │                   │\n",
       "├─────────────────────┼───────────────────┼────────────┼───────────────────┤\n",
       "│ conv2d_2 (\u001b[38;5;33mConv2D\u001b[0m)   │ (\u001b[38;5;45mNone\u001b[0m, \u001b[38;5;34m79\u001b[0m, \u001b[38;5;34m143\u001b[0m,   │      \u001b[38;5;34m3,904\u001b[0m │ input_layer_2[\u001b[38;5;34m0\u001b[0m]… │\n",
       "│                     │ \u001b[38;5;34m32\u001b[0m)               │            │                   │\n",
       "├─────────────────────┼───────────────────┼────────────┼───────────────────┤\n",
       "│ conv2d_3 (\u001b[38;5;33mConv2D\u001b[0m)   │ (\u001b[38;5;45mNone\u001b[0m, \u001b[38;5;34m15\u001b[0m, \u001b[38;5;34m15\u001b[0m,    │     \u001b[38;5;34m92,224\u001b[0m │ conv2d_2[\u001b[38;5;34m0\u001b[0m][\u001b[38;5;34m0\u001b[0m]    │\n",
       "│                     │ \u001b[38;5;34m64\u001b[0m)               │            │                   │\n",
       "├─────────────────────┼───────────────────┼────────────┼───────────────────┤\n",
       "│ flatten_1 (\u001b[38;5;33mFlatten\u001b[0m) │ (\u001b[38;5;45mNone\u001b[0m, \u001b[38;5;34m14400\u001b[0m)     │          \u001b[38;5;34m0\u001b[0m │ conv2d_3[\u001b[38;5;34m0\u001b[0m][\u001b[38;5;34m0\u001b[0m]    │\n",
       "├─────────────────────┼───────────────────┼────────────┼───────────────────┤\n",
       "│ dense_2 (\u001b[38;5;33mDense\u001b[0m)     │ (\u001b[38;5;45mNone\u001b[0m, \u001b[38;5;34m16\u001b[0m)        │    \u001b[38;5;34m230,416\u001b[0m │ flatten_1[\u001b[38;5;34m0\u001b[0m][\u001b[38;5;34m0\u001b[0m]   │\n",
       "├─────────────────────┼───────────────────┼────────────┼───────────────────┤\n",
       "│ z_mean (\u001b[38;5;33mDense\u001b[0m)      │ (\u001b[38;5;45mNone\u001b[0m, \u001b[38;5;34m2\u001b[0m)         │         \u001b[38;5;34m34\u001b[0m │ dense_2[\u001b[38;5;34m0\u001b[0m][\u001b[38;5;34m0\u001b[0m]     │\n",
       "├─────────────────────┼───────────────────┼────────────┼───────────────────┤\n",
       "│ z_log_var (\u001b[38;5;33mDense\u001b[0m)   │ (\u001b[38;5;45mNone\u001b[0m, \u001b[38;5;34m2\u001b[0m)         │         \u001b[38;5;34m34\u001b[0m │ dense_2[\u001b[38;5;34m0\u001b[0m][\u001b[38;5;34m0\u001b[0m]     │\n",
       "├─────────────────────┼───────────────────┼────────────┼───────────────────┤\n",
       "│ sampling_1          │ (\u001b[38;5;45mNone\u001b[0m, \u001b[38;5;34m2\u001b[0m)         │          \u001b[38;5;34m0\u001b[0m │ z_mean[\u001b[38;5;34m0\u001b[0m][\u001b[38;5;34m0\u001b[0m],     │\n",
       "│ (\u001b[38;5;33mSampling\u001b[0m)          │                   │            │ z_log_var[\u001b[38;5;34m0\u001b[0m][\u001b[38;5;34m0\u001b[0m]   │\n",
       "└─────────────────────┴───────────────────┴────────────┴───────────────────┘\n"
      ]
     },
     "metadata": {},
     "output_type": "display_data"
    },
    {
     "data": {
      "text/html": [
       "<pre style=\"white-space:pre;overflow-x:auto;line-height:normal;font-family:Menlo,'DejaVu Sans Mono',consolas,'Courier New',monospace\"><span style=\"font-weight: bold\"> Total params: </span><span style=\"color: #00af00; text-decoration-color: #00af00\">326,612</span> (1.25 MB)\n",
       "</pre>\n"
      ],
      "text/plain": [
       "\u001b[1m Total params: \u001b[0m\u001b[38;5;34m326,612\u001b[0m (1.25 MB)\n"
      ]
     },
     "metadata": {},
     "output_type": "display_data"
    },
    {
     "data": {
      "text/html": [
       "<pre style=\"white-space:pre;overflow-x:auto;line-height:normal;font-family:Menlo,'DejaVu Sans Mono',consolas,'Courier New',monospace\"><span style=\"font-weight: bold\"> Trainable params: </span><span style=\"color: #00af00; text-decoration-color: #00af00\">326,612</span> (1.25 MB)\n",
       "</pre>\n"
      ],
      "text/plain": [
       "\u001b[1m Trainable params: \u001b[0m\u001b[38;5;34m326,612\u001b[0m (1.25 MB)\n"
      ]
     },
     "metadata": {},
     "output_type": "display_data"
    },
    {
     "data": {
      "text/html": [
       "<pre style=\"white-space:pre;overflow-x:auto;line-height:normal;font-family:Menlo,'DejaVu Sans Mono',consolas,'Courier New',monospace\"><span style=\"font-weight: bold\"> Non-trainable params: </span><span style=\"color: #00af00; text-decoration-color: #00af00\">0</span> (0.00 B)\n",
       "</pre>\n"
      ],
      "text/plain": [
       "\u001b[1m Non-trainable params: \u001b[0m\u001b[38;5;34m0\u001b[0m (0.00 B)\n"
      ]
     },
     "metadata": {},
     "output_type": "display_data"
    },
    {
     "name": "stdout",
     "output_type": "stream",
     "text": [
      "None\n"
     ]
    },
    {
     "data": {
      "text/html": [
       "<pre style=\"white-space:pre;overflow-x:auto;line-height:normal;font-family:Menlo,'DejaVu Sans Mono',consolas,'Courier New',monospace\"><span style=\"font-weight: bold\">Model: \"decoder\"</span>\n",
       "</pre>\n"
      ],
      "text/plain": [
       "\u001b[1mModel: \"decoder\"\u001b[0m\n"
      ]
     },
     "metadata": {},
     "output_type": "display_data"
    },
    {
     "data": {
      "text/html": [
       "<pre style=\"white-space:pre;overflow-x:auto;line-height:normal;font-family:Menlo,'DejaVu Sans Mono',consolas,'Courier New',monospace\">┏━━━━━━━━━━━━━━━━━━━━━━━━━━━━━━━━━┳━━━━━━━━━━━━━━━━━━━━━━━━┳━━━━━━━━━━━━━━━┓\n",
       "┃<span style=\"font-weight: bold\"> Layer (type)                    </span>┃<span style=\"font-weight: bold\"> Output Shape           </span>┃<span style=\"font-weight: bold\">       Param # </span>┃\n",
       "┡━━━━━━━━━━━━━━━━━━━━━━━━━━━━━━━━━╇━━━━━━━━━━━━━━━━━━━━━━━━╇━━━━━━━━━━━━━━━┩\n",
       "│ input_layer_3 (<span style=\"color: #0087ff; text-decoration-color: #0087ff\">InputLayer</span>)      │ (<span style=\"color: #00d7ff; text-decoration-color: #00d7ff\">None</span>, <span style=\"color: #00af00; text-decoration-color: #00af00\">2</span>)              │             <span style=\"color: #00af00; text-decoration-color: #00af00\">0</span> │\n",
       "├─────────────────────────────────┼────────────────────────┼───────────────┤\n",
       "│ dense_3 (<span style=\"color: #0087ff; text-decoration-color: #0087ff\">Dense</span>)                 │ (<span style=\"color: #00d7ff; text-decoration-color: #00d7ff\">None</span>, <span style=\"color: #00af00; text-decoration-color: #00af00\">14400</span>)          │        <span style=\"color: #00af00; text-decoration-color: #00af00\">43,200</span> │\n",
       "├─────────────────────────────────┼────────────────────────┼───────────────┤\n",
       "│ reshape_1 (<span style=\"color: #0087ff; text-decoration-color: #0087ff\">Reshape</span>)             │ (<span style=\"color: #00d7ff; text-decoration-color: #00d7ff\">None</span>, <span style=\"color: #00af00; text-decoration-color: #00af00\">15</span>, <span style=\"color: #00af00; text-decoration-color: #00af00\">15</span>, <span style=\"color: #00af00; text-decoration-color: #00af00\">64</span>)     │             <span style=\"color: #00af00; text-decoration-color: #00af00\">0</span> │\n",
       "├─────────────────────────────────┼────────────────────────┼───────────────┤\n",
       "│ conv2d_transpose_3              │ (<span style=\"color: #00d7ff; text-decoration-color: #00d7ff\">None</span>, <span style=\"color: #00af00; text-decoration-color: #00af00\">79</span>, <span style=\"color: #00af00; text-decoration-color: #00af00\">143</span>, <span style=\"color: #00af00; text-decoration-color: #00af00\">64</span>)    │       <span style=\"color: #00af00; text-decoration-color: #00af00\">184,384</span> │\n",
       "│ (<span style=\"color: #0087ff; text-decoration-color: #0087ff\">Conv2DTranspose</span>)               │                        │               │\n",
       "├─────────────────────────────────┼────────────────────────┼───────────────┤\n",
       "│ conv2d_transpose_4              │ (<span style=\"color: #00d7ff; text-decoration-color: #00d7ff\">None</span>, <span style=\"color: #00af00; text-decoration-color: #00af00\">721</span>, <span style=\"color: #00af00; text-decoration-color: #00af00\">1440</span>, <span style=\"color: #00af00; text-decoration-color: #00af00\">32</span>)  │       <span style=\"color: #00af00; text-decoration-color: #00af00\">247,840</span> │\n",
       "│ (<span style=\"color: #0087ff; text-decoration-color: #0087ff\">Conv2DTranspose</span>)               │                        │               │\n",
       "├─────────────────────────────────┼────────────────────────┼───────────────┤\n",
       "│ conv2d_transpose_5              │ (<span style=\"color: #00d7ff; text-decoration-color: #00d7ff\">None</span>, <span style=\"color: #00af00; text-decoration-color: #00af00\">721</span>, <span style=\"color: #00af00; text-decoration-color: #00af00\">1440</span>, <span style=\"color: #00af00; text-decoration-color: #00af00\">1</span>)   │           <span style=\"color: #00af00; text-decoration-color: #00af00\">289</span> │\n",
       "│ (<span style=\"color: #0087ff; text-decoration-color: #0087ff\">Conv2DTranspose</span>)               │                        │               │\n",
       "└─────────────────────────────────┴────────────────────────┴───────────────┘\n",
       "</pre>\n"
      ],
      "text/plain": [
       "┏━━━━━━━━━━━━━━━━━━━━━━━━━━━━━━━━━┳━━━━━━━━━━━━━━━━━━━━━━━━┳━━━━━━━━━━━━━━━┓\n",
       "┃\u001b[1m \u001b[0m\u001b[1mLayer (type)                   \u001b[0m\u001b[1m \u001b[0m┃\u001b[1m \u001b[0m\u001b[1mOutput Shape          \u001b[0m\u001b[1m \u001b[0m┃\u001b[1m \u001b[0m\u001b[1m      Param #\u001b[0m\u001b[1m \u001b[0m┃\n",
       "┡━━━━━━━━━━━━━━━━━━━━━━━━━━━━━━━━━╇━━━━━━━━━━━━━━━━━━━━━━━━╇━━━━━━━━━━━━━━━┩\n",
       "│ input_layer_3 (\u001b[38;5;33mInputLayer\u001b[0m)      │ (\u001b[38;5;45mNone\u001b[0m, \u001b[38;5;34m2\u001b[0m)              │             \u001b[38;5;34m0\u001b[0m │\n",
       "├─────────────────────────────────┼────────────────────────┼───────────────┤\n",
       "│ dense_3 (\u001b[38;5;33mDense\u001b[0m)                 │ (\u001b[38;5;45mNone\u001b[0m, \u001b[38;5;34m14400\u001b[0m)          │        \u001b[38;5;34m43,200\u001b[0m │\n",
       "├─────────────────────────────────┼────────────────────────┼───────────────┤\n",
       "│ reshape_1 (\u001b[38;5;33mReshape\u001b[0m)             │ (\u001b[38;5;45mNone\u001b[0m, \u001b[38;5;34m15\u001b[0m, \u001b[38;5;34m15\u001b[0m, \u001b[38;5;34m64\u001b[0m)     │             \u001b[38;5;34m0\u001b[0m │\n",
       "├─────────────────────────────────┼────────────────────────┼───────────────┤\n",
       "│ conv2d_transpose_3              │ (\u001b[38;5;45mNone\u001b[0m, \u001b[38;5;34m79\u001b[0m, \u001b[38;5;34m143\u001b[0m, \u001b[38;5;34m64\u001b[0m)    │       \u001b[38;5;34m184,384\u001b[0m │\n",
       "│ (\u001b[38;5;33mConv2DTranspose\u001b[0m)               │                        │               │\n",
       "├─────────────────────────────────┼────────────────────────┼───────────────┤\n",
       "│ conv2d_transpose_4              │ (\u001b[38;5;45mNone\u001b[0m, \u001b[38;5;34m721\u001b[0m, \u001b[38;5;34m1440\u001b[0m, \u001b[38;5;34m32\u001b[0m)  │       \u001b[38;5;34m247,840\u001b[0m │\n",
       "│ (\u001b[38;5;33mConv2DTranspose\u001b[0m)               │                        │               │\n",
       "├─────────────────────────────────┼────────────────────────┼───────────────┤\n",
       "│ conv2d_transpose_5              │ (\u001b[38;5;45mNone\u001b[0m, \u001b[38;5;34m721\u001b[0m, \u001b[38;5;34m1440\u001b[0m, \u001b[38;5;34m1\u001b[0m)   │           \u001b[38;5;34m289\u001b[0m │\n",
       "│ (\u001b[38;5;33mConv2DTranspose\u001b[0m)               │                        │               │\n",
       "└─────────────────────────────────┴────────────────────────┴───────────────┘\n"
      ]
     },
     "metadata": {},
     "output_type": "display_data"
    },
    {
     "data": {
      "text/html": [
       "<pre style=\"white-space:pre;overflow-x:auto;line-height:normal;font-family:Menlo,'DejaVu Sans Mono',consolas,'Courier New',monospace\"><span style=\"font-weight: bold\"> Total params: </span><span style=\"color: #00af00; text-decoration-color: #00af00\">475,713</span> (1.81 MB)\n",
       "</pre>\n"
      ],
      "text/plain": [
       "\u001b[1m Total params: \u001b[0m\u001b[38;5;34m475,713\u001b[0m (1.81 MB)\n"
      ]
     },
     "metadata": {},
     "output_type": "display_data"
    },
    {
     "data": {
      "text/html": [
       "<pre style=\"white-space:pre;overflow-x:auto;line-height:normal;font-family:Menlo,'DejaVu Sans Mono',consolas,'Courier New',monospace\"><span style=\"font-weight: bold\"> Trainable params: </span><span style=\"color: #00af00; text-decoration-color: #00af00\">475,713</span> (1.81 MB)\n",
       "</pre>\n"
      ],
      "text/plain": [
       "\u001b[1m Trainable params: \u001b[0m\u001b[38;5;34m475,713\u001b[0m (1.81 MB)\n"
      ]
     },
     "metadata": {},
     "output_type": "display_data"
    },
    {
     "data": {
      "text/html": [
       "<pre style=\"white-space:pre;overflow-x:auto;line-height:normal;font-family:Menlo,'DejaVu Sans Mono',consolas,'Courier New',monospace\"><span style=\"font-weight: bold\"> Non-trainable params: </span><span style=\"color: #00af00; text-decoration-color: #00af00\">0</span> (0.00 B)\n",
       "</pre>\n"
      ],
      "text/plain": [
       "\u001b[1m Non-trainable params: \u001b[0m\u001b[38;5;34m0\u001b[0m (0.00 B)\n"
      ]
     },
     "metadata": {},
     "output_type": "display_data"
    },
    {
     "name": "stdout",
     "output_type": "stream",
     "text": [
      "None\n",
      "Epoch 1/50\n",
      "\u001b[1m1/1\u001b[0m \u001b[32m━━━━━━━━━━━━━━━━━━━━\u001b[0m\u001b[37m\u001b[0m \u001b[1m4s\u001b[0m 4s/step - kl_loss: 2.1865e-05 - loss: 917.9649 - reconstruction_loss: 917.9649 - val_kl_loss: 1.1074e-04 - val_loss: 911.0771 - val_reconstruction_loss: 911.0770\n",
      "Epoch 2/50\n",
      "\u001b[1m1/1\u001b[0m \u001b[32m━━━━━━━━━━━━━━━━━━━━\u001b[0m\u001b[37m\u001b[0m \u001b[1m0s\u001b[0m 410ms/step - kl_loss: 1.1133e-04 - loss: 911.1000 - reconstruction_loss: 911.0999 - val_kl_loss: 0.0082 - val_loss: 903.1515 - val_reconstruction_loss: 903.1433\n",
      "Epoch 3/50\n",
      "\u001b[1m1/1\u001b[0m \u001b[32m━━━━━━━━━━━━━━━━━━━━\u001b[0m\u001b[37m\u001b[0m \u001b[1m0s\u001b[0m 406ms/step - kl_loss: 0.0081 - loss: 903.2094 - reconstruction_loss: 903.2012 - val_kl_loss: 8469556224.0000 - val_loss: 8469882880.0000 - val_reconstruction_loss: 326697.3750\n",
      "Epoch 4/50\n",
      "\u001b[1m1/1\u001b[0m \u001b[32m━━━━━━━━━━━━━━━━━━━━\u001b[0m\u001b[37m\u001b[0m \u001b[1m0s\u001b[0m 411ms/step - kl_loss: 8096840192.0000 - loss: 8097179136.0000 - reconstruction_loss: 339195.7500 - val_kl_loss: 0.0020 - val_loss: 898.4399 - val_reconstruction_loss: 898.4379\n",
      "Epoch 5/50\n",
      "\u001b[1m1/1\u001b[0m \u001b[32m━━━━━━━━━━━━━━━━━━━━\u001b[0m\u001b[37m\u001b[0m \u001b[1m0s\u001b[0m 410ms/step - kl_loss: 0.0020 - loss: 898.5169 - reconstruction_loss: 898.5150 - val_kl_loss: 0.0039 - val_loss: 893.7095 - val_reconstruction_loss: 893.7056\n",
      "Epoch 6/50\n",
      "\u001b[1m1/1\u001b[0m \u001b[32m━━━━━━━━━━━━━━━━━━━━\u001b[0m\u001b[37m\u001b[0m \u001b[1m1s\u001b[0m 617ms/step - kl_loss: 0.0039 - loss: 893.7946 - reconstruction_loss: 893.7906 - val_kl_loss: 0.0190 - val_loss: 889.5190 - val_reconstruction_loss: 889.5000\n",
      "Epoch 7/50\n",
      "\u001b[1m1/1\u001b[0m \u001b[32m━━━━━━━━━━━━━━━━━━━━\u001b[0m\u001b[37m\u001b[0m \u001b[1m0s\u001b[0m 410ms/step - kl_loss: 0.0190 - loss: 889.6275 - reconstruction_loss: 889.6085 - val_kl_loss: 0.0737 - val_loss: 885.7201 - val_reconstruction_loss: 885.6464\n",
      "Epoch 8/50\n",
      "\u001b[1m1/1\u001b[0m \u001b[32m━━━━━━━━━━━━━━━━━━━━\u001b[0m\u001b[37m\u001b[0m \u001b[1m0s\u001b[0m 410ms/step - kl_loss: 0.0736 - loss: 885.8499 - reconstruction_loss: 885.7763 - val_kl_loss: 0.2486 - val_loss: 882.2492 - val_reconstruction_loss: 882.0005\n",
      "Epoch 9/50\n",
      "\u001b[1m1/1\u001b[0m \u001b[32m━━━━━━━━━━━━━━━━━━━━\u001b[0m\u001b[37m\u001b[0m \u001b[1m0s\u001b[0m 409ms/step - kl_loss: 0.2474 - loss: 882.3865 - reconstruction_loss: 882.1391 - val_kl_loss: 0.0596 - val_loss: 879.0842 - val_reconstruction_loss: 879.0246\n",
      "Epoch 10/50\n",
      "\u001b[1m1/1\u001b[0m \u001b[32m━━━━━━━━━━━━━━━━━━━━\u001b[0m\u001b[37m\u001b[0m \u001b[1m0s\u001b[0m 410ms/step - kl_loss: 0.0594 - loss: 879.1621 - reconstruction_loss: 879.1027 - val_kl_loss: 0.1699 - val_loss: 875.8881 - val_reconstruction_loss: 875.7183\n",
      "Epoch 11/50\n",
      "\u001b[1m1/1\u001b[0m \u001b[32m━━━━━━━━━━━━━━━━━━━━\u001b[0m\u001b[37m\u001b[0m \u001b[1m0s\u001b[0m 410ms/step - kl_loss: 0.1693 - loss: 875.9897 - reconstruction_loss: 875.8205 - val_kl_loss: 0.3087 - val_loss: 872.9578 - val_reconstruction_loss: 872.6491\n",
      "Epoch 12/50\n",
      "\u001b[1m1/1\u001b[0m \u001b[32m━━━━━━━━━━━━━━━━━━━━\u001b[0m\u001b[37m\u001b[0m \u001b[1m0s\u001b[0m 412ms/step - kl_loss: 0.3071 - loss: 872.9811 - reconstruction_loss: 872.6740 - val_kl_loss: 0.1702 - val_loss: 869.9170 - val_reconstruction_loss: 869.7468\n",
      "Epoch 13/50\n",
      "\u001b[1m1/1\u001b[0m \u001b[32m━━━━━━━━━━━━━━━━━━━━\u001b[0m\u001b[37m\u001b[0m \u001b[1m0s\u001b[0m 410ms/step - kl_loss: 0.1697 - loss: 870.1163 - reconstruction_loss: 869.9467 - val_kl_loss: 0.4102 - val_loss: 867.0972 - val_reconstruction_loss: 866.6870\n",
      "Epoch 14/50\n",
      "\u001b[1m1/1\u001b[0m \u001b[32m━━━━━━━━━━━━━━━━━━━━\u001b[0m\u001b[37m\u001b[0m \u001b[1m0s\u001b[0m 410ms/step - kl_loss: 0.4081 - loss: 867.2416 - reconstruction_loss: 866.8335 - val_kl_loss: 0.1733 - val_loss: 864.2802 - val_reconstruction_loss: 864.1069\n",
      "Epoch 15/50\n",
      "\u001b[1m1/1\u001b[0m \u001b[32m━━━━━━━━━━━━━━━━━━━━\u001b[0m\u001b[37m\u001b[0m \u001b[1m0s\u001b[0m 411ms/step - kl_loss: 0.1728 - loss: 864.5137 - reconstruction_loss: 864.3409 - val_kl_loss: 0.3762 - val_loss: 861.4463 - val_reconstruction_loss: 861.0701\n",
      "Epoch 16/50\n",
      "\u001b[1m1/1\u001b[0m \u001b[32m━━━━━━━━━━━━━━━━━━━━\u001b[0m\u001b[37m\u001b[0m \u001b[1m0s\u001b[0m 411ms/step - kl_loss: 0.3746 - loss: 861.7600 - reconstruction_loss: 861.3854 - val_kl_loss: 0.3216 - val_loss: 858.8019 - val_reconstruction_loss: 858.4803\n",
      "Epoch 17/50\n",
      "\u001b[1m1/1\u001b[0m \u001b[32m━━━━━━━━━━━━━━━━━━━━\u001b[0m\u001b[37m\u001b[0m \u001b[1m0s\u001b[0m 409ms/step - kl_loss: 0.3204 - loss: 859.0963 - reconstruction_loss: 858.7758 - val_kl_loss: 0.4439 - val_loss: 856.1929 - val_reconstruction_loss: 855.7489\n",
      "Epoch 18/50\n",
      "\u001b[1m1/1\u001b[0m \u001b[32m━━━━━━━━━━━━━━━━━━━━\u001b[0m\u001b[37m\u001b[0m \u001b[1m0s\u001b[0m 412ms/step - kl_loss: 0.4420 - loss: 856.4039 - reconstruction_loss: 855.9619 - val_kl_loss: 0.4058 - val_loss: 853.4794 - val_reconstruction_loss: 853.0737\n",
      "Epoch 19/50\n",
      "\u001b[1m1/1\u001b[0m \u001b[32m━━━━━━━━━━━━━━━━━━━━\u001b[0m\u001b[37m\u001b[0m \u001b[1m0s\u001b[0m 412ms/step - kl_loss: 0.4042 - loss: 853.6786 - reconstruction_loss: 853.2744 - val_kl_loss: 0.5924 - val_loss: 850.6528 - val_reconstruction_loss: 850.0604\n",
      "Epoch 20/50\n",
      "\u001b[1m1/1\u001b[0m \u001b[32m━━━━━━━━━━━━━━━━━━━━\u001b[0m\u001b[37m\u001b[0m \u001b[1m0s\u001b[0m 412ms/step - kl_loss: 0.5899 - loss: 851.0018 - reconstruction_loss: 850.4119 - val_kl_loss: 0.4414 - val_loss: 848.1295 - val_reconstruction_loss: 847.6880\n",
      "Epoch 21/50\n",
      "\u001b[1m1/1\u001b[0m \u001b[32m━━━━━━━━━━━━━━━━━━━━\u001b[0m\u001b[37m\u001b[0m \u001b[1m0s\u001b[0m 413ms/step - kl_loss: 0.4401 - loss: 848.4305 - reconstruction_loss: 847.9904 - val_kl_loss: 0.7999 - val_loss: 845.5002 - val_reconstruction_loss: 844.7003\n",
      "Epoch 22/50\n",
      "\u001b[1m1/1\u001b[0m \u001b[32m━━━━━━━━━━━━━━━━━━━━\u001b[0m\u001b[37m\u001b[0m \u001b[1m0s\u001b[0m 412ms/step - kl_loss: 0.7962 - loss: 845.8036 - reconstruction_loss: 845.0074 - val_kl_loss: 0.4442 - val_loss: 842.8682 - val_reconstruction_loss: 842.4240\n",
      "Epoch 23/50\n",
      "\u001b[1m1/1\u001b[0m \u001b[32m━━━━━━━━━━━━━━━━━━━━\u001b[0m\u001b[37m\u001b[0m \u001b[1m0s\u001b[0m 413ms/step - kl_loss: 0.4430 - loss: 843.2606 - reconstruction_loss: 842.8176 - val_kl_loss: 0.7469 - val_loss: 840.2250 - val_reconstruction_loss: 839.4781\n",
      "Epoch 24/50\n",
      "\u001b[1m1/1\u001b[0m \u001b[32m━━━━━━━━━━━━━━━━━━━━\u001b[0m\u001b[37m\u001b[0m \u001b[1m0s\u001b[0m 412ms/step - kl_loss: 0.7443 - loss: 840.4409 - reconstruction_loss: 839.6965 - val_kl_loss: 0.7916 - val_loss: 837.3866 - val_reconstruction_loss: 836.5950\n",
      "Epoch 25/50\n",
      "\u001b[1m1/1\u001b[0m \u001b[32m━━━━━━━━━━━━━━━━━━━━\u001b[0m\u001b[37m\u001b[0m \u001b[1m0s\u001b[0m 412ms/step - kl_loss: 0.7890 - loss: 837.7748 - reconstruction_loss: 836.9858 - val_kl_loss: 0.8880 - val_loss: 834.8025 - val_reconstruction_loss: 833.9145\n",
      "Epoch 26/50\n",
      "\u001b[1m1/1\u001b[0m \u001b[32m━━━━━━━━━━━━━━━━━━━━\u001b[0m\u001b[37m\u001b[0m \u001b[1m0s\u001b[0m 412ms/step - kl_loss: 0.8855 - loss: 835.1378 - reconstruction_loss: 834.2524 - val_kl_loss: 0.9759 - val_loss: 832.0558 - val_reconstruction_loss: 831.0798\n",
      "Epoch 27/50\n",
      "\u001b[1m1/1\u001b[0m \u001b[32m━━━━━━━━━━━━━━━━━━━━\u001b[0m\u001b[37m\u001b[0m \u001b[1m0s\u001b[0m 413ms/step - kl_loss: 0.9729 - loss: 832.3105 - reconstruction_loss: 831.3376 - val_kl_loss: 1.1784 - val_loss: 829.1624 - val_reconstruction_loss: 827.9839\n",
      "Epoch 28/50\n",
      "\u001b[1m1/1\u001b[0m \u001b[32m━━━━━━━━━━━━━━━━━━━━\u001b[0m\u001b[37m\u001b[0m \u001b[1m0s\u001b[0m 412ms/step - kl_loss: 1.1748 - loss: 829.6642 - reconstruction_loss: 828.4895 - val_kl_loss: 1.2181 - val_loss: 826.5895 - val_reconstruction_loss: 825.3714\n",
      "Epoch 29/50\n",
      "\u001b[1m1/1\u001b[0m \u001b[32m━━━━━━━━━━━━━━━━━━━━\u001b[0m\u001b[37m\u001b[0m \u001b[1m0s\u001b[0m 413ms/step - kl_loss: 1.2143 - loss: 826.9426 - reconstruction_loss: 825.7283 - val_kl_loss: 1.3841 - val_loss: 823.8004 - val_reconstruction_loss: 822.4163\n",
      "Epoch 30/50\n",
      "\u001b[1m1/1\u001b[0m \u001b[32m━━━━━━━━━━━━━━━━━━━━\u001b[0m\u001b[37m\u001b[0m \u001b[1m0s\u001b[0m 412ms/step - kl_loss: 1.3801 - loss: 824.2189 - reconstruction_loss: 822.8388 - val_kl_loss: 1.5386 - val_loss: 820.9693 - val_reconstruction_loss: 819.4307\n",
      "Epoch 31/50\n",
      "\u001b[1m1/1\u001b[0m \u001b[32m━━━━━━━━━━━━━━━━━━━━\u001b[0m\u001b[37m\u001b[0m \u001b[1m0s\u001b[0m 412ms/step - kl_loss: 1.5344 - loss: 821.4159 - reconstruction_loss: 819.8815 - val_kl_loss: 1.7705 - val_loss: 818.2415 - val_reconstruction_loss: 816.4710\n",
      "Epoch 32/50\n",
      "\u001b[1m1/1\u001b[0m \u001b[32m━━━━━━━━━━━━━━━━━━━━\u001b[0m\u001b[37m\u001b[0m \u001b[1m0s\u001b[0m 412ms/step - kl_loss: 1.7658 - loss: 818.7030 - reconstruction_loss: 816.9372 - val_kl_loss: 1.8820 - val_loss: 815.4578 - val_reconstruction_loss: 813.5757\n",
      "Epoch 33/50\n",
      "\u001b[1m1/1\u001b[0m \u001b[32m━━━━━━━━━━━━━━━━━━━━\u001b[0m\u001b[37m\u001b[0m \u001b[1m0s\u001b[0m 412ms/step - kl_loss: 1.8772 - loss: 815.9556 - reconstruction_loss: 814.0785 - val_kl_loss: 2.1377 - val_loss: 812.9895 - val_reconstruction_loss: 810.8518\n",
      "Epoch 34/50\n",
      "\u001b[1m1/1\u001b[0m \u001b[32m━━━━━━━━━━━━━━━━━━━━\u001b[0m\u001b[37m\u001b[0m \u001b[1m0s\u001b[0m 413ms/step - kl_loss: 2.1316 - loss: 813.2154 - reconstruction_loss: 811.0837 - val_kl_loss: 2.3174 - val_loss: 810.1506 - val_reconstruction_loss: 807.8332\n",
      "Epoch 35/50\n",
      "\u001b[1m1/1\u001b[0m \u001b[32m━━━━━━━━━━━━━━━━━━━━\u001b[0m\u001b[37m\u001b[0m \u001b[1m0s\u001b[0m 412ms/step - kl_loss: 2.3107 - loss: 810.5499 - reconstruction_loss: 808.2393 - val_kl_loss: 2.4717 - val_loss: 807.3760 - val_reconstruction_loss: 804.9043\n",
      "Epoch 36/50\n",
      "\u001b[1m1/1\u001b[0m \u001b[32m━━━━━━━━━━━━━━━━━━━━\u001b[0m\u001b[37m\u001b[0m \u001b[1m0s\u001b[0m 413ms/step - kl_loss: 2.4650 - loss: 807.8406 - reconstruction_loss: 805.3756 - val_kl_loss: 2.6766 - val_loss: 804.7161 - val_reconstruction_loss: 802.0395\n",
      "Epoch 37/50\n",
      "\u001b[1m1/1\u001b[0m \u001b[32m━━━━━━━━━━━━━━━━━━━━\u001b[0m\u001b[37m\u001b[0m \u001b[1m0s\u001b[0m 415ms/step - kl_loss: 2.6694 - loss: 805.1594 - reconstruction_loss: 802.4900 - val_kl_loss: 2.8784 - val_loss: 801.9776 - val_reconstruction_loss: 799.0992\n",
      "Epoch 38/50\n",
      "\u001b[1m1/1\u001b[0m \u001b[32m━━━━━━━━━━━━━━━━━━━━\u001b[0m\u001b[37m\u001b[0m \u001b[1m0s\u001b[0m 411ms/step - kl_loss: 2.8700 - loss: 802.4313 - reconstruction_loss: 799.5613 - val_kl_loss: 3.0812 - val_loss: 799.3195 - val_reconstruction_loss: 796.2383\n",
      "Epoch 39/50\n",
      "\u001b[1m1/1\u001b[0m \u001b[32m━━━━━━━━━━━━━━━━━━━━\u001b[0m\u001b[37m\u001b[0m \u001b[1m0s\u001b[0m 411ms/step - kl_loss: 3.0726 - loss: 799.7645 - reconstruction_loss: 796.6920 - val_kl_loss: 3.2857 - val_loss: 796.5833 - val_reconstruction_loss: 793.2975\n",
      "Epoch 40/50\n",
      "\u001b[1m1/1\u001b[0m \u001b[32m━━━━━━━━━━━━━━━━━━━━\u001b[0m\u001b[37m\u001b[0m \u001b[1m0s\u001b[0m 411ms/step - kl_loss: 3.2764 - loss: 797.0762 - reconstruction_loss: 793.7998 - val_kl_loss: 3.4302 - val_loss: 793.9128 - val_reconstruction_loss: 790.4826\n",
      "Epoch 41/50\n",
      "\u001b[1m1/1\u001b[0m \u001b[32m━━━━━━━━━━━━━━━━━━━━\u001b[0m\u001b[37m\u001b[0m \u001b[1m0s\u001b[0m 412ms/step - kl_loss: 3.4206 - loss: 794.3947 - reconstruction_loss: 790.9741 - val_kl_loss: 3.6580 - val_loss: 791.2012 - val_reconstruction_loss: 787.5432\n",
      "Epoch 42/50\n",
      "\u001b[1m1/1\u001b[0m \u001b[32m━━━━━━━━━━━━━━━━━━━━\u001b[0m\u001b[37m\u001b[0m \u001b[1m0s\u001b[0m 412ms/step - kl_loss: 3.6477 - loss: 791.7097 - reconstruction_loss: 788.0620 - val_kl_loss: 3.8393 - val_loss: 788.4916 - val_reconstruction_loss: 784.6523\n",
      "Epoch 43/50\n",
      "\u001b[1m1/1\u001b[0m \u001b[32m━━━━━━━━━━━━━━━━━━━━\u001b[0m\u001b[37m\u001b[0m \u001b[1m0s\u001b[0m 411ms/step - kl_loss: 3.8287 - loss: 789.0029 - reconstruction_loss: 785.1742 - val_kl_loss: 4.0872 - val_loss: 785.7762 - val_reconstruction_loss: 781.6891\n",
      "Epoch 44/50\n",
      "\u001b[1m1/1\u001b[0m \u001b[32m━━━━━━━━━━━━━━━━━━━━\u001b[0m\u001b[37m\u001b[0m \u001b[1m0s\u001b[0m 411ms/step - kl_loss: 4.0751 - loss: 786.3394 - reconstruction_loss: 782.2643 - val_kl_loss: 4.2155 - val_loss: 783.0662 - val_reconstruction_loss: 778.8506\n",
      "Epoch 45/50\n",
      "\u001b[1m1/1\u001b[0m \u001b[32m━━━━━━━━━━━━━━━━━━━━\u001b[0m\u001b[37m\u001b[0m \u001b[1m0s\u001b[0m 411ms/step - kl_loss: 4.2028 - loss: 783.6077 - reconstruction_loss: 779.4049 - val_kl_loss: 4.4753 - val_loss: 780.3487 - val_reconstruction_loss: 775.8734\n",
      "Epoch 46/50\n",
      "\u001b[1m1/1\u001b[0m \u001b[32m━━━━━━━━━━━━━━━━━━━━\u001b[0m\u001b[37m\u001b[0m \u001b[1m0s\u001b[0m 412ms/step - kl_loss: 4.4621 - loss: 780.8889 - reconstruction_loss: 776.4268 - val_kl_loss: 4.6587 - val_loss: 777.5584 - val_reconstruction_loss: 772.8997\n",
      "Epoch 47/50\n",
      "\u001b[1m1/1\u001b[0m \u001b[32m━━━━━━━━━━━━━━━━━━━━\u001b[0m\u001b[37m\u001b[0m \u001b[1m0s\u001b[0m 411ms/step - kl_loss: 4.6454 - loss: 778.1533 - reconstruction_loss: 773.5079 - val_kl_loss: 4.8777 - val_loss: 774.7186 - val_reconstruction_loss: 769.8409\n",
      "Epoch 48/50\n",
      "\u001b[1m1/1\u001b[0m \u001b[32m━━━━━━━━━━━━━━━━━━━━\u001b[0m\u001b[37m\u001b[0m \u001b[1m0s\u001b[0m 412ms/step - kl_loss: 4.8631 - loss: 775.4261 - reconstruction_loss: 770.5630 - val_kl_loss: 5.0558 - val_loss: 772.0259 - val_reconstruction_loss: 766.9701\n",
      "Epoch 49/50\n",
      "\u001b[1m1/1\u001b[0m \u001b[32m━━━━━━━━━━━━━━━━━━━━\u001b[0m\u001b[37m\u001b[0m \u001b[1m0s\u001b[0m 413ms/step - kl_loss: 5.0412 - loss: 772.6317 - reconstruction_loss: 767.5905 - val_kl_loss: 5.3540 - val_loss: 769.1785 - val_reconstruction_loss: 763.8245\n",
      "Epoch 50/50\n",
      "\u001b[1m1/1\u001b[0m \u001b[32m━━━━━━━━━━━━━━━━━━━━\u001b[0m\u001b[37m\u001b[0m \u001b[1m0s\u001b[0m 411ms/step - kl_loss: 5.3382 - loss: 769.7993 - reconstruction_loss: 764.4611 - val_kl_loss: 5.5799 - val_loss: 766.3323 - val_reconstruction_loss: 760.7524\n"
     ]
    },
    {
     "ename": "ValueError",
     "evalue": "The filename must end in `.weights.h5`. Received: filepath=./model_dir/vae",
     "output_type": "error",
     "traceback": [
      "\u001b[0;31m---------------------------------------------------------------------------\u001b[0m",
      "\u001b[0;31mValueError\u001b[0m                                Traceback (most recent call last)",
      "Cell \u001b[0;32mIn[23], line 34\u001b[0m\n\u001b[1;32m     28\u001b[0m early_stopping_cb \u001b[38;5;241m=\u001b[39m keras\u001b[38;5;241m.\u001b[39mcallbacks\u001b[38;5;241m.\u001b[39mEarlyStopping(patience \u001b[38;5;241m=\u001b[39m \u001b[38;5;241m5\u001b[39m, restore_best_weights \u001b[38;5;241m=\u001b[39m \u001b[38;5;28;01mTrue\u001b[39;00m)\n\u001b[1;32m     29\u001b[0m history \u001b[38;5;241m=\u001b[39m vae\u001b[38;5;241m.\u001b[39mfit(\n\u001b[1;32m     30\u001b[0m     X_train, epochs \u001b[38;5;241m=\u001b[39m \u001b[38;5;241m50\u001b[39m, batch_size \u001b[38;5;241m=\u001b[39m \u001b[38;5;241m128\u001b[39m,\n\u001b[1;32m     31\u001b[0m     callbacks \u001b[38;5;241m=\u001b[39m [early_stopping_cb],\n\u001b[1;32m     32\u001b[0m     validation_data \u001b[38;5;241m=\u001b[39m (X_valid,)\n\u001b[1;32m     33\u001b[0m )\n\u001b[0;32m---> 34\u001b[0m \u001b[43mvae\u001b[49m\u001b[38;5;241;43m.\u001b[39;49m\u001b[43msave_weights\u001b[49m\u001b[43m(\u001b[49m\u001b[43mos\u001b[49m\u001b[38;5;241;43m.\u001b[39;49m\u001b[43mpath\u001b[49m\u001b[38;5;241;43m.\u001b[39;49m\u001b[43mjoin\u001b[49m\u001b[43m(\u001b[49m\u001b[43mmodel_dir\u001b[49m\u001b[43m,\u001b[49m\u001b[43m \u001b[49m\u001b[38;5;124;43m'\u001b[39;49m\u001b[38;5;124;43mvae\u001b[39;49m\u001b[38;5;124;43m'\u001b[39;49m\u001b[43m)\u001b[49m\u001b[43m)\u001b[49m\n\u001b[1;32m     35\u001b[0m hist_pd \u001b[38;5;241m=\u001b[39m pd\u001b[38;5;241m.\u001b[39mDataFrame(history\u001b[38;5;241m.\u001b[39mhistory)\n\u001b[1;32m     36\u001b[0m hist_pd\u001b[38;5;241m.\u001b[39mto_csv(os\u001b[38;5;241m.\u001b[39mpath\u001b[38;5;241m.\u001b[39mjoin(model_dir, \u001b[38;5;124m'\u001b[39m\u001b[38;5;124mhistory.csv\u001b[39m\u001b[38;5;124m'\u001b[39m), index \u001b[38;5;241m=\u001b[39m \u001b[38;5;28;01mFalse\u001b[39;00m)\n",
      "File \u001b[0;32m~/pw/.miniconda3c/envs/cvae_env/lib/python3.9/site-packages/keras/src/utils/traceback_utils.py:122\u001b[0m, in \u001b[0;36mfilter_traceback.<locals>.error_handler\u001b[0;34m(*args, **kwargs)\u001b[0m\n\u001b[1;32m    119\u001b[0m     filtered_tb \u001b[38;5;241m=\u001b[39m _process_traceback_frames(e\u001b[38;5;241m.\u001b[39m__traceback__)\n\u001b[1;32m    120\u001b[0m     \u001b[38;5;66;03m# To get the full stack trace, call:\u001b[39;00m\n\u001b[1;32m    121\u001b[0m     \u001b[38;5;66;03m# `keras.config.disable_traceback_filtering()`\u001b[39;00m\n\u001b[0;32m--> 122\u001b[0m     \u001b[38;5;28;01mraise\u001b[39;00m e\u001b[38;5;241m.\u001b[39mwith_traceback(filtered_tb) \u001b[38;5;28;01mfrom\u001b[39;00m \u001b[38;5;28;01mNone\u001b[39;00m\n\u001b[1;32m    123\u001b[0m \u001b[38;5;28;01mfinally\u001b[39;00m:\n\u001b[1;32m    124\u001b[0m     \u001b[38;5;28;01mdel\u001b[39;00m filtered_tb\n",
      "File \u001b[0;32m~/pw/.miniconda3c/envs/cvae_env/lib/python3.9/site-packages/keras/src/saving/saving_api.py:211\u001b[0m, in \u001b[0;36msave_weights\u001b[0;34m(model, filepath, overwrite, **kwargs)\u001b[0m\n\u001b[1;32m    208\u001b[0m \u001b[38;5;129m@keras_export\u001b[39m(\u001b[38;5;124m\"\u001b[39m\u001b[38;5;124mkeras.saving.save_weights\u001b[39m\u001b[38;5;124m\"\u001b[39m)\n\u001b[1;32m    209\u001b[0m \u001b[38;5;28;01mdef\u001b[39;00m \u001b[38;5;21msave_weights\u001b[39m(model, filepath, overwrite\u001b[38;5;241m=\u001b[39m\u001b[38;5;28;01mTrue\u001b[39;00m, \u001b[38;5;241m*\u001b[39m\u001b[38;5;241m*\u001b[39mkwargs):\n\u001b[1;32m    210\u001b[0m     \u001b[38;5;28;01mif\u001b[39;00m \u001b[38;5;129;01mnot\u001b[39;00m \u001b[38;5;28mstr\u001b[39m(filepath)\u001b[38;5;241m.\u001b[39mendswith(\u001b[38;5;124m\"\u001b[39m\u001b[38;5;124m.weights.h5\u001b[39m\u001b[38;5;124m\"\u001b[39m):\n\u001b[0;32m--> 211\u001b[0m         \u001b[38;5;28;01mraise\u001b[39;00m \u001b[38;5;167;01mValueError\u001b[39;00m(\n\u001b[1;32m    212\u001b[0m             \u001b[38;5;124m\"\u001b[39m\u001b[38;5;124mThe filename must end in `.weights.h5`. \u001b[39m\u001b[38;5;124m\"\u001b[39m\n\u001b[1;32m    213\u001b[0m             \u001b[38;5;124mf\u001b[39m\u001b[38;5;124m\"\u001b[39m\u001b[38;5;124mReceived: filepath=\u001b[39m\u001b[38;5;132;01m{\u001b[39;00mfilepath\u001b[38;5;132;01m}\u001b[39;00m\u001b[38;5;124m\"\u001b[39m\n\u001b[1;32m    214\u001b[0m         )\n\u001b[1;32m    215\u001b[0m     \u001b[38;5;28;01mtry\u001b[39;00m:\n\u001b[1;32m    216\u001b[0m         exists \u001b[38;5;241m=\u001b[39m os\u001b[38;5;241m.\u001b[39mpath\u001b[38;5;241m.\u001b[39mexists(filepath)\n",
      "\u001b[0;31mValueError\u001b[0m: The filename must end in `.weights.h5`. Received: filepath=./model_dir/vae"
     ]
    }
   ],
   "source": [
    "# Used this original code as template for data concatenation/preproc\n",
    "#(x_train, _), (x_test, _) = keras.datasets.mnist.load_data()\n",
    "#mnist_digits = np.concatenate([x_train, x_test], axis=0)\n",
    "#mnist_digits = np.expand_dims(mnist_digits, -1).astype(\"float32\") / 255\n",
    "#vae = VAE(encoder, decoder)\n",
    "#vae.compile(optimizer=keras.optimizers.Adam())\n",
    "#vae.fit(mnist_digits, epochs=30, batch_size=128)\n",
    "\n",
    "latent_dim = 2\n",
    "train = True\n",
    "model_dir = './model_dir'\n",
    "\n",
    "os.makedirs(model_dir, exist_ok = True)\n",
    "    \n",
    "X_train, X_valid, X_test = load_fashion_mnist()\n",
    "    \n",
    "encoder = build_encoder(latent_dim)\n",
    "decoder = build_decoder(latent_dim)\n",
    "vae = VAE(encoder, decoder)\n",
    "#vae.compile(optimizer=keras.optimizers.Adam())\n",
    "vae.compile(optimizer = 'rmsprop')\n",
    "\n",
    "# FIXME: change out data sets, very small training set!\n",
    "X_train = slp[0:40,:,:,:]\n",
    "X_valid = slp[41:61,:,:,:]\n",
    "X_test = slp[62:79,:,:,:]\n",
    "if train:\n",
    "    early_stopping_cb = keras.callbacks.EarlyStopping(patience = 5, restore_best_weights = True)\n",
    "    history = vae.fit(\n",
    "        X_train, epochs = 50, batch_size = 128,\n",
    "        callbacks = [early_stopping_cb],\n",
    "        validation_data = (X_valid,)\n",
    "    )\n",
    "    vae.save_weights(os.path.join(model_dir, 'vae'))\n",
    "    hist_pd = pd.DataFrame(history.history)\n",
    "    hist_pd.to_csv(os.path.join(model_dir, 'history.csv'), index = False)\n",
    "    test_loss = vae.evaluate(X_test)\n",
    "    test_loss = dict(zip([\"loss\", \"reconstruction_loss\", \"kl_loss\"], test_loss))\n",
    "    print('Test loss:')\n",
    "    print(test_loss)\n",
    "    with open(os.path.join(model_dir, 'test_loss.json'), 'w') as json_file:\n",
    "        json.dump(test_loss, json_file, indent = 4)\n",
    "            \n",
    "else:\n",
    "    vae.load_weights(os.path.join(model_dir, 'vae'))\n",
    "\n",
    "if latent_dim == 2:\n",
    "    plot_latent_space(vae, path = os.path.join(model_dir, 'latent_space.png'))\n",
    "\n",
    "# Generating new images\n",
    "codings = tf.random.normal(shape = [12, latent_dim])\n",
    "images = vae.decoder(codings).numpy()\n",
    "plot_images(images, 3, 4, path = os.path.join(model_dir, 'generated.png'))\n",
    "\n",
    "# Semantic interpolation\n",
    "codings_grid = tf.reshape(codings, [1, 3, 4, latent_dim])\n",
    "larger_grid = tf.image.resize(codings_grid, size = [5, 7])\n",
    "interpolated_codings = tf.reshape(larger_grid, [-1, latent_dim])\n",
    "images = vae.decoder(interpolated_codings).numpy()\n",
    "plot_images(images, 5, 7, path = os.path.join(model_dir, 'interpolated.png'))"
   ]
  },
  {
   "cell_type": "markdown",
   "metadata": {},
   "source": [
    "# Display a grid of sampled digits"
   ]
  },
  {
   "cell_type": "code",
   "execution_count": 24,
   "metadata": {
    "tags": []
   },
   "outputs": [
    {
     "name": "stderr",
     "output_type": "stream",
     "text": [
      "2024-06-25 17:21:28.067200: E external/local_xla/xla/service/slow_operation_alarm.cc:65] Trying algorithm eng0{} for conv (f32[1,32,721,1440]{3,2,1,0}, u8[0]{0}) custom-call(f32[1,64,79,143]{3,2,1,0}, f32[64,32,11,11]{3,2,1,0}), window={size=11x11 stride=9x10}, dim_labels=bf01_oi01->bf01, custom_call_target=\"__cudnn$convBackwardInput\", backend_config={\"operation_queue_id\":\"0\",\"wait_on_operation_queues\":[],\"cudnn_conv_backend_config\":{\"activation_mode\":\"kNone\",\"conv_result_scale\":1,\"side_input_scale\":0,\"leakyrelu_alpha\":0}} is taking a while...\n",
      "2024-06-25 17:21:28.195857: E external/local_xla/xla/service/slow_operation_alarm.cc:133] The operation took 1.128725547s\n",
      "Trying algorithm eng0{} for conv (f32[1,32,721,1440]{3,2,1,0}, u8[0]{0}) custom-call(f32[1,64,79,143]{3,2,1,0}, f32[64,32,11,11]{3,2,1,0}), window={size=11x11 stride=9x10}, dim_labels=bf01_oi01->bf01, custom_call_target=\"__cudnn$convBackwardInput\", backend_config={\"operation_queue_id\":\"0\",\"wait_on_operation_queues\":[],\"cudnn_conv_backend_config\":{\"activation_mode\":\"kNone\",\"conv_result_scale\":1,\"side_input_scale\":0,\"leakyrelu_alpha\":0}} is taking a while...\n"
     ]
    },
    {
     "name": "stdout",
     "output_type": "stream",
     "text": [
      "\u001b[1m1/1\u001b[0m \u001b[32m━━━━━━━━━━━━━━━━━━━━\u001b[0m\u001b[37m\u001b[0m \u001b[1m2s\u001b[0m 2s/step\n"
     ]
    },
    {
     "ename": "ValueError",
     "evalue": "cannot reshape array of size 1038240 into shape (28,28)",
     "output_type": "error",
     "traceback": [
      "\u001b[0;31m---------------------------------------------------------------------------\u001b[0m",
      "\u001b[0;31mValueError\u001b[0m                                Traceback (most recent call last)",
      "Cell \u001b[0;32mIn[24], line 35\u001b[0m\n\u001b[1;32m     31\u001b[0m     plt\u001b[38;5;241m.\u001b[39mimshow(figure, cmap\u001b[38;5;241m=\u001b[39m\u001b[38;5;124m\"\u001b[39m\u001b[38;5;124mGreys_r\u001b[39m\u001b[38;5;124m\"\u001b[39m)\n\u001b[1;32m     32\u001b[0m     plt\u001b[38;5;241m.\u001b[39mshow()\n\u001b[0;32m---> 35\u001b[0m \u001b[43mplot_latent_space\u001b[49m\u001b[43m(\u001b[49m\u001b[43mvae\u001b[49m\u001b[43m)\u001b[49m\n",
      "Cell \u001b[0;32mIn[24], line 15\u001b[0m, in \u001b[0;36mplot_latent_space\u001b[0;34m(vae, n, figsize)\u001b[0m\n\u001b[1;32m     13\u001b[0m         z_sample \u001b[38;5;241m=\u001b[39m np\u001b[38;5;241m.\u001b[39marray([[xi, yi]])\n\u001b[1;32m     14\u001b[0m         x_decoded \u001b[38;5;241m=\u001b[39m vae\u001b[38;5;241m.\u001b[39mdecoder\u001b[38;5;241m.\u001b[39mpredict(z_sample)\n\u001b[0;32m---> 15\u001b[0m         digit \u001b[38;5;241m=\u001b[39m \u001b[43mx_decoded\u001b[49m\u001b[43m[\u001b[49m\u001b[38;5;241;43m0\u001b[39;49m\u001b[43m]\u001b[49m\u001b[38;5;241;43m.\u001b[39;49m\u001b[43mreshape\u001b[49m\u001b[43m(\u001b[49m\u001b[43mdigit_size\u001b[49m\u001b[43m,\u001b[49m\u001b[43m \u001b[49m\u001b[43mdigit_size\u001b[49m\u001b[43m)\u001b[49m\n\u001b[1;32m     16\u001b[0m         figure[\n\u001b[1;32m     17\u001b[0m             i \u001b[38;5;241m*\u001b[39m digit_size : (i \u001b[38;5;241m+\u001b[39m \u001b[38;5;241m1\u001b[39m) \u001b[38;5;241m*\u001b[39m digit_size,\n\u001b[1;32m     18\u001b[0m             j \u001b[38;5;241m*\u001b[39m digit_size : (j \u001b[38;5;241m+\u001b[39m \u001b[38;5;241m1\u001b[39m) \u001b[38;5;241m*\u001b[39m digit_size,\n\u001b[1;32m     19\u001b[0m         ] \u001b[38;5;241m=\u001b[39m digit\n\u001b[1;32m     21\u001b[0m plt\u001b[38;5;241m.\u001b[39mfigure(figsize\u001b[38;5;241m=\u001b[39m(figsize, figsize))\n",
      "\u001b[0;31mValueError\u001b[0m: cannot reshape array of size 1038240 into shape (28,28)"
     ]
    }
   ],
   "source": [
    "def plot_latent_space(vae, n=30, figsize=15):\n",
    "    # display a n*n 2D manifold of digits\n",
    "    digit_size = 28\n",
    "    scale = 1.0\n",
    "    figure = np.zeros((digit_size * n, digit_size * n))\n",
    "    # linearly spaced coordinates corresponding to the 2D plot\n",
    "    # of digit classes in the latent space\n",
    "    grid_x = np.linspace(-scale, scale, n)\n",
    "    grid_y = np.linspace(-scale, scale, n)[::-1]\n",
    "\n",
    "    for i, yi in enumerate(grid_y):\n",
    "        for j, xi in enumerate(grid_x):\n",
    "            z_sample = np.array([[xi, yi]])\n",
    "            x_decoded = vae.decoder.predict(z_sample)\n",
    "            digit = x_decoded[0].reshape(digit_size, digit_size)\n",
    "            figure[\n",
    "                i * digit_size : (i + 1) * digit_size,\n",
    "                j * digit_size : (j + 1) * digit_size,\n",
    "            ] = digit\n",
    "\n",
    "    plt.figure(figsize=(figsize, figsize))\n",
    "    start_range = digit_size // 2\n",
    "    end_range = n * digit_size + start_range\n",
    "    pixel_range = np.arange(start_range, end_range, digit_size)\n",
    "    sample_range_x = np.round(grid_x, 1)\n",
    "    sample_range_y = np.round(grid_y, 1)\n",
    "    plt.xticks(pixel_range, sample_range_x)\n",
    "    plt.yticks(pixel_range, sample_range_y)\n",
    "    plt.xlabel(\"z[0]\")\n",
    "    plt.ylabel(\"z[1]\")\n",
    "    plt.imshow(figure, cmap=\"Greys_r\")\n",
    "    plt.show()\n",
    "\n",
    "\n",
    "plot_latent_space(vae)"
   ]
  },
  {
   "cell_type": "markdown",
   "metadata": {},
   "source": [
    "# Display how the latent space clusters different digit classes"
   ]
  },
  {
   "cell_type": "code",
   "execution_count": 25,
   "metadata": {
    "tags": []
   },
   "outputs": [
    {
     "name": "stdout",
     "output_type": "stream",
     "text": [
      "Downloading data from https://storage.googleapis.com/tensorflow/tf-keras-datasets/mnist.npz\n",
      "\u001b[1m11490434/11490434\u001b[0m \u001b[32m━━━━━━━━━━━━━━━━━━━━\u001b[0m\u001b[37m\u001b[0m \u001b[1m0s\u001b[0m 0us/step\n"
     ]
    },
    {
     "ename": "ValueError",
     "evalue": "Input 0 of layer \"encoder\" is incompatible with the layer: expected shape=(None, 721, 1440, 1), found shape=(32, 28, 28)",
     "output_type": "error",
     "traceback": [
      "\u001b[0;31m---------------------------------------------------------------------------\u001b[0m",
      "\u001b[0;31mValueError\u001b[0m                                Traceback (most recent call last)",
      "Cell \u001b[0;32mIn[25], line 15\u001b[0m\n\u001b[1;32m     12\u001b[0m (x_train, y_train), _ \u001b[38;5;241m=\u001b[39m keras\u001b[38;5;241m.\u001b[39mdatasets\u001b[38;5;241m.\u001b[39mmnist\u001b[38;5;241m.\u001b[39mload_data()\n\u001b[1;32m     13\u001b[0m x_train \u001b[38;5;241m=\u001b[39m np\u001b[38;5;241m.\u001b[39mexpand_dims(x_train, \u001b[38;5;241m-\u001b[39m\u001b[38;5;241m1\u001b[39m)\u001b[38;5;241m.\u001b[39mastype(\u001b[38;5;124m\"\u001b[39m\u001b[38;5;124mfloat32\u001b[39m\u001b[38;5;124m\"\u001b[39m) \u001b[38;5;241m/\u001b[39m \u001b[38;5;241m255\u001b[39m\n\u001b[0;32m---> 15\u001b[0m \u001b[43mplot_label_clusters\u001b[49m\u001b[43m(\u001b[49m\u001b[43mvae\u001b[49m\u001b[43m,\u001b[49m\u001b[43m \u001b[49m\u001b[43mx_train\u001b[49m\u001b[43m,\u001b[49m\u001b[43m \u001b[49m\u001b[43my_train\u001b[49m\u001b[43m)\u001b[49m\n",
      "Cell \u001b[0;32mIn[25], line 3\u001b[0m, in \u001b[0;36mplot_label_clusters\u001b[0;34m(vae, data, labels)\u001b[0m\n\u001b[1;32m      1\u001b[0m \u001b[38;5;28;01mdef\u001b[39;00m \u001b[38;5;21mplot_label_clusters\u001b[39m(vae, data, labels):\n\u001b[1;32m      2\u001b[0m     \u001b[38;5;66;03m# display a 2D plot of the digit classes in the latent space\u001b[39;00m\n\u001b[0;32m----> 3\u001b[0m     z_mean, _, _ \u001b[38;5;241m=\u001b[39m \u001b[43mvae\u001b[49m\u001b[38;5;241;43m.\u001b[39;49m\u001b[43mencoder\u001b[49m\u001b[38;5;241;43m.\u001b[39;49m\u001b[43mpredict\u001b[49m\u001b[43m(\u001b[49m\u001b[43mdata\u001b[49m\u001b[43m)\u001b[49m\n\u001b[1;32m      4\u001b[0m     plt\u001b[38;5;241m.\u001b[39mfigure(figsize\u001b[38;5;241m=\u001b[39m(\u001b[38;5;241m12\u001b[39m, \u001b[38;5;241m10\u001b[39m))\n\u001b[1;32m      5\u001b[0m     plt\u001b[38;5;241m.\u001b[39mscatter(z_mean[:, \u001b[38;5;241m0\u001b[39m], z_mean[:, \u001b[38;5;241m1\u001b[39m], c\u001b[38;5;241m=\u001b[39mlabels)\n",
      "File \u001b[0;32m~/pw/.miniconda3c/envs/cvae_env/lib/python3.9/site-packages/keras/src/utils/traceback_utils.py:122\u001b[0m, in \u001b[0;36mfilter_traceback.<locals>.error_handler\u001b[0;34m(*args, **kwargs)\u001b[0m\n\u001b[1;32m    119\u001b[0m     filtered_tb \u001b[38;5;241m=\u001b[39m _process_traceback_frames(e\u001b[38;5;241m.\u001b[39m__traceback__)\n\u001b[1;32m    120\u001b[0m     \u001b[38;5;66;03m# To get the full stack trace, call:\u001b[39;00m\n\u001b[1;32m    121\u001b[0m     \u001b[38;5;66;03m# `keras.config.disable_traceback_filtering()`\u001b[39;00m\n\u001b[0;32m--> 122\u001b[0m     \u001b[38;5;28;01mraise\u001b[39;00m e\u001b[38;5;241m.\u001b[39mwith_traceback(filtered_tb) \u001b[38;5;28;01mfrom\u001b[39;00m \u001b[38;5;28;01mNone\u001b[39;00m\n\u001b[1;32m    123\u001b[0m \u001b[38;5;28;01mfinally\u001b[39;00m:\n\u001b[1;32m    124\u001b[0m     \u001b[38;5;28;01mdel\u001b[39;00m filtered_tb\n",
      "File \u001b[0;32m~/pw/.miniconda3c/envs/cvae_env/lib/python3.9/site-packages/keras/src/layers/input_spec.py:245\u001b[0m, in \u001b[0;36massert_input_compatibility\u001b[0;34m(input_spec, inputs, layer_name)\u001b[0m\n\u001b[1;32m    243\u001b[0m \u001b[38;5;28;01mif\u001b[39;00m spec_dim \u001b[38;5;129;01mis\u001b[39;00m \u001b[38;5;129;01mnot\u001b[39;00m \u001b[38;5;28;01mNone\u001b[39;00m \u001b[38;5;129;01mand\u001b[39;00m dim \u001b[38;5;129;01mis\u001b[39;00m \u001b[38;5;129;01mnot\u001b[39;00m \u001b[38;5;28;01mNone\u001b[39;00m:\n\u001b[1;32m    244\u001b[0m     \u001b[38;5;28;01mif\u001b[39;00m spec_dim \u001b[38;5;241m!=\u001b[39m dim:\n\u001b[0;32m--> 245\u001b[0m         \u001b[38;5;28;01mraise\u001b[39;00m \u001b[38;5;167;01mValueError\u001b[39;00m(\n\u001b[1;32m    246\u001b[0m             \u001b[38;5;124mf\u001b[39m\u001b[38;5;124m'\u001b[39m\u001b[38;5;124mInput \u001b[39m\u001b[38;5;132;01m{\u001b[39;00minput_index\u001b[38;5;132;01m}\u001b[39;00m\u001b[38;5;124m of layer \u001b[39m\u001b[38;5;124m\"\u001b[39m\u001b[38;5;132;01m{\u001b[39;00mlayer_name\u001b[38;5;132;01m}\u001b[39;00m\u001b[38;5;124m\"\u001b[39m\u001b[38;5;124m is \u001b[39m\u001b[38;5;124m'\u001b[39m\n\u001b[1;32m    247\u001b[0m             \u001b[38;5;124m\"\u001b[39m\u001b[38;5;124mincompatible with the layer: \u001b[39m\u001b[38;5;124m\"\u001b[39m\n\u001b[1;32m    248\u001b[0m             \u001b[38;5;124mf\u001b[39m\u001b[38;5;124m\"\u001b[39m\u001b[38;5;124mexpected shape=\u001b[39m\u001b[38;5;132;01m{\u001b[39;00mspec\u001b[38;5;241m.\u001b[39mshape\u001b[38;5;132;01m}\u001b[39;00m\u001b[38;5;124m, \u001b[39m\u001b[38;5;124m\"\u001b[39m\n\u001b[1;32m    249\u001b[0m             \u001b[38;5;124mf\u001b[39m\u001b[38;5;124m\"\u001b[39m\u001b[38;5;124mfound shape=\u001b[39m\u001b[38;5;132;01m{\u001b[39;00mshape\u001b[38;5;132;01m}\u001b[39;00m\u001b[38;5;124m\"\u001b[39m\n\u001b[1;32m    250\u001b[0m         )\n",
      "\u001b[0;31mValueError\u001b[0m: Input 0 of layer \"encoder\" is incompatible with the layer: expected shape=(None, 721, 1440, 1), found shape=(32, 28, 28)"
     ]
    }
   ],
   "source": [
    "def plot_label_clusters(vae, data, labels):\n",
    "    # display a 2D plot of the digit classes in the latent space\n",
    "    z_mean, _, _ = vae.encoder.predict(data)\n",
    "    plt.figure(figsize=(12, 10))\n",
    "    plt.scatter(z_mean[:, 0], z_mean[:, 1], c=labels)\n",
    "    plt.colorbar()\n",
    "    plt.xlabel(\"z[0]\")\n",
    "    plt.ylabel(\"z[1]\")\n",
    "    plt.show()\n",
    "\n",
    "\n",
    "(x_train, y_train), _ = keras.datasets.mnist.load_data()\n",
    "x_train = np.expand_dims(x_train, -1).astype(\"float32\") / 255\n",
    "\n",
    "plot_label_clusters(vae, x_train, y_train)"
   ]
  },
  {
   "cell_type": "markdown",
   "metadata": {},
   "source": [
    "# Original code\n",
    "CVAE example from [Keras.io](https://keras.io/examples/generative/vae/), [github repo](https://github.com/keras-team/keras-io/blob/master/examples/generative/vae.py).\n",
    "\n",
    "```python\n",
    "\"\"\"\n",
    "Title: Variational AutoEncoder\n",
    "Author: [fchollet](https://twitter.com/fchollet)\n",
    "Date created: 2020/05/03\n",
    "Last modified: 2020/05/03\n",
    "Description: Convolutional Variational AutoEncoder (VAE) trained on MNIST digits.\n",
    "\"\"\"\n",
    "\n",
    "\"\"\"\n",
    "## Setup\n",
    "\"\"\"\n",
    "\n",
    "import numpy as np\n",
    "import tensorflow as tf\n",
    "from tensorflow import keras\n",
    "from tensorflow.keras import layers\n",
    "\n",
    "\"\"\"\n",
    "## Create a sampling layer\n",
    "\"\"\"\n",
    "\n",
    "\n",
    "class Sampling(layers.Layer):\n",
    "    \"\"\"Uses (z_mean, z_log_var) to sample z, the vector encoding a digit.\"\"\"\n",
    "\n",
    "    def call(self, inputs):\n",
    "        z_mean, z_log_var = inputs\n",
    "        batch = tf.shape(z_mean)[0]\n",
    "        dim = tf.shape(z_mean)[1]\n",
    "        epsilon = tf.keras.backend.random_normal(shape=(batch, dim))\n",
    "        return z_mean + tf.exp(0.5 * z_log_var) * epsilon\n",
    "\n",
    "\n",
    "\"\"\"\n",
    "## Build the encoder\n",
    "\"\"\"\n",
    "\n",
    "latent_dim = 2\n",
    "\n",
    "encoder_inputs = keras.Input(shape=(28, 28, 1))\n",
    "x = layers.Conv2D(32, 3, activation=\"relu\", strides=2, padding=\"same\")(encoder_inputs)\n",
    "x = layers.Conv2D(64, 3, activation=\"relu\", strides=2, padding=\"same\")(x)\n",
    "x = layers.Flatten()(x)\n",
    "x = layers.Dense(16, activation=\"relu\")(x)\n",
    "z_mean = layers.Dense(latent_dim, name=\"z_mean\")(x)\n",
    "z_log_var = layers.Dense(latent_dim, name=\"z_log_var\")(x)\n",
    "z = Sampling()([z_mean, z_log_var])\n",
    "encoder = keras.Model(encoder_inputs, [z_mean, z_log_var, z], name=\"encoder\")\n",
    "encoder.summary()\n",
    "\n",
    "\"\"\"\n",
    "## Build the decoder\n",
    "\"\"\"\n",
    "\n",
    "latent_inputs = keras.Input(shape=(latent_dim,))\n",
    "x = layers.Dense(7 * 7 * 64, activation=\"relu\")(latent_inputs)\n",
    "x = layers.Reshape((7, 7, 64))(x)\n",
    "x = layers.Conv2DTranspose(64, 3, activation=\"relu\", strides=2, padding=\"same\")(x)\n",
    "x = layers.Conv2DTranspose(32, 3, activation=\"relu\", strides=2, padding=\"same\")(x)\n",
    "decoder_outputs = layers.Conv2DTranspose(1, 3, activation=\"sigmoid\", padding=\"same\")(x)\n",
    "decoder = keras.Model(latent_inputs, decoder_outputs, name=\"decoder\")\n",
    "decoder.summary()\n",
    "\n",
    "\"\"\"\n",
    "## Define the VAE as a `Model` with a custom `train_step`\n",
    "\"\"\"\n",
    "\n",
    "\n",
    "class VAE(keras.Model):\n",
    "    def __init__(self, encoder, decoder, **kwargs):\n",
    "        super(VAE, self).__init__(**kwargs)\n",
    "        self.encoder = encoder\n",
    "        self.decoder = decoder\n",
    "        self.total_loss_tracker = keras.metrics.Mean(name=\"total_loss\")\n",
    "        self.reconstruction_loss_tracker = keras.metrics.Mean(\n",
    "            name=\"reconstruction_loss\"\n",
    "        )\n",
    "        self.kl_loss_tracker = keras.metrics.Mean(name=\"kl_loss\")\n",
    "\n",
    "    @property\n",
    "    def metrics(self):\n",
    "        return [\n",
    "            self.total_loss_tracker,\n",
    "            self.reconstruction_loss_tracker,\n",
    "            self.kl_loss_tracker,\n",
    "        ]\n",
    "\n",
    "    def train_step(self, data):\n",
    "        with tf.GradientTape() as tape:\n",
    "            z_mean, z_log_var, z = self.encoder(data)\n",
    "            reconstruction = self.decoder(z)\n",
    "            reconstruction_loss = tf.reduce_mean(\n",
    "                tf.reduce_sum(\n",
    "                    keras.losses.binary_crossentropy(data, reconstruction), axis=(1, 2)\n",
    "                )\n",
    "            )\n",
    "            kl_loss = -0.5 * (1 + z_log_var - tf.square(z_mean) - tf.exp(z_log_var))\n",
    "            kl_loss = tf.reduce_mean(tf.reduce_sum(kl_loss, axis=1))\n",
    "            total_loss = reconstruction_loss + kl_loss\n",
    "        grads = tape.gradient(total_loss, self.trainable_weights)\n",
    "        self.optimizer.apply_gradients(zip(grads, self.trainable_weights))\n",
    "        self.total_loss_tracker.update_state(total_loss)\n",
    "        self.reconstruction_loss_tracker.update_state(reconstruction_loss)\n",
    "        self.kl_loss_tracker.update_state(kl_loss)\n",
    "        return {\n",
    "            \"loss\": self.total_loss_tracker.result(),\n",
    "            \"reconstruction_loss\": self.reconstruction_loss_tracker.result(),\n",
    "            \"kl_loss\": self.kl_loss_tracker.result(),\n",
    "        }\n",
    "\n",
    "\n",
    "\"\"\"\n",
    "## Train the VAE\n",
    "\"\"\"\n",
    "\n",
    "(x_train, _), (x_test, _) = keras.datasets.mnist.load_data()\n",
    "mnist_digits = np.concatenate([x_train, x_test], axis=0)\n",
    "mnist_digits = np.expand_dims(mnist_digits, -1).astype(\"float32\") / 255\n",
    "\n",
    "vae = VAE(encoder, decoder)\n",
    "vae.compile(optimizer=keras.optimizers.Adam())\n",
    "vae.fit(mnist_digits, epochs=30, batch_size=128)\n",
    "\n",
    "\"\"\"\n",
    "## Display a grid of sampled digits\n",
    "\"\"\"\n",
    "\n",
    "import matplotlib.pyplot as plt\n",
    "\n",
    "\n",
    "def plot_latent_space(vae, n=30, figsize=15):\n",
    "    # display a n*n 2D manifold of digits\n",
    "    digit_size = 28\n",
    "    scale = 1.0\n",
    "    figure = np.zeros((digit_size * n, digit_size * n))\n",
    "    # linearly spaced coordinates corresponding to the 2D plot\n",
    "    # of digit classes in the latent space\n",
    "    grid_x = np.linspace(-scale, scale, n)\n",
    "    grid_y = np.linspace(-scale, scale, n)[::-1]\n",
    "\n",
    "    for i, yi in enumerate(grid_y):\n",
    "        for j, xi in enumerate(grid_x):\n",
    "            z_sample = np.array([[xi, yi]])\n",
    "            x_decoded = vae.decoder.predict(z_sample)\n",
    "            digit = x_decoded[0].reshape(digit_size, digit_size)\n",
    "            figure[\n",
    "                i * digit_size : (i + 1) * digit_size,\n",
    "                j * digit_size : (j + 1) * digit_size,\n",
    "            ] = digit\n",
    "\n",
    "    plt.figure(figsize=(figsize, figsize))\n",
    "    start_range = digit_size // 2\n",
    "    end_range = n * digit_size + start_range\n",
    "    pixel_range = np.arange(start_range, end_range, digit_size)\n",
    "    sample_range_x = np.round(grid_x, 1)\n",
    "    sample_range_y = np.round(grid_y, 1)\n",
    "    plt.xticks(pixel_range, sample_range_x)\n",
    "    plt.yticks(pixel_range, sample_range_y)\n",
    "    plt.xlabel(\"z[0]\")\n",
    "    plt.ylabel(\"z[1]\")\n",
    "    plt.imshow(figure, cmap=\"Greys_r\")\n",
    "    plt.show()\n",
    "\n",
    "\n",
    "plot_latent_space(vae)\n",
    "\n",
    "\"\"\"\n",
    "## Display how the latent space clusters different digit classes\n",
    "\"\"\"\n",
    "\n",
    "\n",
    "def plot_label_clusters(vae, data, labels):\n",
    "    # display a 2D plot of the digit classes in the latent space\n",
    "    z_mean, _, _ = vae.encoder.predict(data)\n",
    "    plt.figure(figsize=(12, 10))\n",
    "    plt.scatter(z_mean[:, 0], z_mean[:, 1], c=labels)\n",
    "    plt.colorbar()\n",
    "    plt.xlabel(\"z[0]\")\n",
    "    plt.ylabel(\"z[1]\")\n",
    "    plt.show()\n",
    "\n",
    "\n",
    "(x_train, y_train), _ = keras.datasets.mnist.load_data()\n",
    "x_train = np.expand_dims(x_train, -1).astype(\"float32\") / 255\n",
    "\n",
    "plot_label_clusters(vae, x_train, y_train)\n",
    "```"
   ]
  }
 ],
 "metadata": {
  "kernelspec": {
   "display_name": "Python [conda env:cvae_env]",
   "language": "python",
   "name": "conda-env-cvae_env-py"
  },
  "language_info": {
   "codemirror_mode": {
    "name": "ipython",
    "version": 3
   },
   "file_extension": ".py",
   "mimetype": "text/x-python",
   "name": "python",
   "nbconvert_exporter": "python",
   "pygments_lexer": "ipython3",
   "version": "3.9.18"
  }
 },
 "nbformat": 4,
 "nbformat_minor": 4
}
